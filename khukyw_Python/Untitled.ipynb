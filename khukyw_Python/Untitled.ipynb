{
 "cells": [
  {
   "cell_type": "code",
   "execution_count": 1,
   "metadata": {},
   "outputs": [
    {
     "name": "stdout",
     "output_type": "stream",
     "text": [
      "어디로 차시겠습니까\n",
      "어디로 막으시겠습니까\n",
      "Goal\n",
      "스코어 0:1\n"
     ]
    }
   ],
   "source": [
    "way = [\"left\", \"center\", \"right\"]\n",
    "human = 0\n",
    "cumputer = 0\n",
    "\n",
    "import random\n",
    "cd = random.choice(way)\n",
    "\n",
    "def KickBall(k):\n",
    "    if k==cd:\n",
    "        return \"No Goal\"\n",
    "    elif k!=cd:\n",
    "        return \"Goal\"\n",
    "\n",
    "g = input(\"어디로 차시겠습니까\")\n",
    "s = input(\"어디로 막으시겠습니까\")\n",
    "\n",
    "def Score(k, cd):\n",
    "    if k == cd:\n",
    "        return \"스코어 0:0\"\n",
    "    elif k != cd:\n",
    "            return \"스코어 0:1\"\n",
    "\n",
    "print(KickBall(way))\n",
    "print(Score(way,cd))\n"
   ]
  },
  {
   "cell_type": "code",
   "execution_count": null,
   "metadata": {},
   "outputs": [],
   "source": [
    "import urllib.request\n",
    "url = 'http://robjhyndman.com/tsdldata/ecology1/hopedale.dat'\n",
    "webpage"
   ]
  }
 ],
 "metadata": {
  "kernelspec": {
   "display_name": "Python 3",
   "language": "python",
   "name": "python3"
  },
  "language_info": {
   "codemirror_mode": {
    "name": "ipython",
    "version": 3
   },
   "file_extension": ".py",
   "mimetype": "text/x-python",
   "name": "python",
   "nbconvert_exporter": "python",
   "pygments_lexer": "ipython3",
   "version": "3.7.1"
  }
 },
 "nbformat": 4,
 "nbformat_minor": 2
}
