{
 "cells": [
  {
   "cell_type": "markdown",
   "metadata": {},
   "source": [
    "# 수업 내용 이해"
   ]
  },
  {
   "cell_type": "markdown",
   "metadata": {},
   "source": [
    "우리가 배운 데이터 타입을 다시 한번 생각해 보면, \"정수, 실수, Boolean, 문자열, 리스트\"였습니다.<br>\n",
    "이 중, 정수와 실수는 하나의 숫자만 가지는 단순 데이터 타입이므로, 결국 **여러 정보를 넣을 수 있는 타입은 ``String``과 ``리스트`` 입니다.**<br>\n",
    "``String``의 경우는 처리에 제약(숫자와 글자가 섞일수는 있으나, 하나의 덩어리로 취급 해야 하므로)이 있으므로, 결국 ``리스트``만이 우리가 배운 유일한 것이였습니다.<br>\n",
    "물론 ``리스트``도 유용한 타입이지만, Python은 프로그램의 목적에 맞는 다양한 타입을 제공합니다.<br>\n",
    "본 수업에서는 ``리스트``처럼 복수의 데이터를 처리하면, 각각 서로 다른 특징과 용도를 갖는 ``tuple``, ``set``, ``dictionary``에 대해서 배웁니다."
   ]
  },
  {
   "cell_type": "markdown",
   "metadata": {},
   "source": [
    "## Data Collection Type 요점 정리"
   ]
  },
  {
   "cell_type": "markdown",
   "metadata": {},
   "source": [
    "Python이 지원하는 Data collection type을 미리 다음의 표로 정리해 두었습니다.<br>\n",
    "각각 ``Mutable (수정 가능 여부)``, ``Ordered (특정 조건에 따라 정렬되어 있는지 여부)``, ``Duplication (중복 가능 여부)``의 특징이 가능한지 여부와,<br>\n",
    "Data collection type별 사용하는 기호 및 예제를 나타내었습니다.<br>\n",
    "그리고 마지막으로 결과값을 저장하기 위한 용도로 빈 data collection을 만들어야 하는 경우의 문법을 요약했습니다.<br>\n",
    "직접 프로그램을 개발하면서 어려번 사용하면 익숙해 지겠지만, 지금은 개념만 이해하기에 헷갈리는 것이 정상이므로, 필요시 아래의 표를 수시로 참조하십시오.<br>\n",
    "\n",
    "특별히 ``순서대로 나열할 수 있는가의 여부(Ordered)``는 프로그램에서 데이터를 다룰때 매우 신중하게 고려할 조건이지만,<br>\n",
    "Python은 유용한 모듈을 통해서 이러한 문제점을 해결할 수 있습니다.<br>\n",
    "궁금한 사람은 < https://docs.python.org/3/library/collections.html#collections.OrderedDict >의 ``collections 모듈``을 읽어봅니다. <br>\n",
    "\n",
    "| Collection | 수정여부 | 정렬여부 | 중복여부 | 표기법 | Description | Empty Collection |\n",
    "| :-: |  :-: |  :-: |  :-: |  :-: |  :-: |  :-: |\n",
    "| string | no | yes |  yes | [ ] | \"simple string\" | s = '' or s = \"\" |\n",
    "| list | yes | yes |  yes | [ ] | [ [\"item0_0\", 12 ], [\"item1_0\", 22 ] ] | l = [] |\n",
    "| tuple | no | yes |  yes | ( ) | ( [\"item0_0\", 12 ], [\"item1_0\", 22 ] ) | t = () |\n",
    "| set | yes | no |  no |{ } | { 1, 2, 3, 4, 5 } | S = set() |\n",
    "| dictionary | yes | no | no |{ } | { 'one' : 1, 'two' : 2, 'three' : 3 } | d = {} |"
   ]
  },
  {
   "cell_type": "markdown",
   "metadata": {},
   "source": [
    "**[링크내용]**\n",
    "class collections.OrderedDict([items])\n",
    "Return an instance of a dict subclass that has methods specialized for rearranging dictionary order.\n",
    "\n",
    "New in version 3.1.\n",
    "\n",
    "popitem(last=True)\n",
    "The popitem() method for ordered dictionaries returns and removes a (key, value) pair. The pairs are returned in LIFO order if last is true or FIFO order if false.\n",
    "\n",
    "move_to_end(key, last=True)\n",
    "Move an existing key to either end of an ordered dictionary. The item is moved to the right end if last is true (the default) or to the beginning if last is false. Raises KeyError if the key does not exist:\n",
    "\n",
    ">>>\n",
    "d = OrderedDict.fromkeys('abcde') <br>\n",
    "d.move_to_end('b') <br>\n",
    "''.join(d.keys()) <br>\n",
    "'acdeb' <br>\n",
    "d.move_to_end('b', last=False) <br>\n",
    "''.join(d.keys()) <br>\n",
    "'bacde' <br>\n",
    " New in version 3.2. <br>\n",
    "\n",
    "In addition to the usual mapping methods, ordered dictionaries also support reverse iteration using reversed().\n",
    "\n",
    "Equality tests between OrderedDict objects are order-sensitive and are implemented as list(od1.items())==list(od2.items()). Equality tests between OrderedDict objects and other Mapping objects are order-insensitive like regular dictionaries. This allows OrderedDict objects to be substituted anywhere a regular dictionary is used."
   ]
  },
  {
   "cell_type": "markdown",
   "metadata": {},
   "source": [
    "## ``set`` 타입 이해하기"
   ]
  },
  {
   "cell_type": "markdown",
   "metadata": {},
   "source": [
    "``set``은 정렬되지 않은 수학의 ``집합``과 동일한 개념의 데이터 타입으로서, **중복된 값을 가질 수 없습니다.**<br>\n",
    "아래의 예제에서 exSet1은 set의 규칙에 제대로 부합하는 경우 이지만, exSet2는 중복된 아이템('p')이 섞여 있는 것을 볼 수 있습니다.<br>\n",
    "따라서 실제 아래의 코드를 실행해 보면, exSet2에는 Python이 알아서 **중복된 값을 하나 제거한 것을 실행에서 확인** 할 수 있습니다.<br>\n",
    "\n",
    "```python\n",
    "exSet1 = { 1, 2, 3, 4, 5 }\n",
    "print(exSet1)\n",
    "\n",
    "exSet2 = { 'a', 'p', 'p', 'l', 'e' }\n",
    "print(exSet2)\n",
    "```\n",
    "\n",
    "아래의 입력창에 위의 예제를 입력하고 실행하면서 결과를 이해해 봅니다."
   ]
  },
  {
   "cell_type": "code",
   "execution_count": 1,
   "metadata": {},
   "outputs": [
    {
     "name": "stdout",
     "output_type": "stream",
     "text": [
      "{1, 2, 3, 4, 5}\n",
      "{'p', 'a', 'l', 'e'}\n"
     ]
    }
   ],
   "source": [
    "exSet1 = { 1, 2, 3, 4, 5 }\n",
    "print(exSet1)\n",
    "\n",
    "exSet2 = { 'a', 'p', 'p', 'l', 'e' }\n",
    "print(exSet2)"
   ]
  },
  {
   "cell_type": "markdown",
   "metadata": {},
   "source": [
    "``set``은 ``set()`` 함수를 호출하여 생성하는데, ``set()`` 함수의 입력파라메타는 **``오로지 하나``**만 받을수 있으며, 다음처럼 줄수 있습니다.<br>\n",
    "\n",
    "(a) 공란: 파라메타 없이 ``set() 함수``를 호출하여, 아이템이 없는 집합을 생성함<br>\n",
    "(b) 리스트: 전달받은 리스트의 아이템(element)이, 집합의 아이템으로 매칭된 집합을 생성하며, 중복된 아이템이 있는 경우는 하나만 포함함<br>\n",
    "(c) set: 받은 집항을 그대로 갖는 새로운 집합을 생성함<br>\n",
    "(d) range(n): 반복문에서 배운것과 같이 ``range()`` 함수에서 돌려주는 ``0``부터 ``n-1``까지의 정수를 갖는 집합을 생성함<br>\n",
    "(e) tuple: ``리스트``와 마찬가지로, 전달받은 ``tuple``의 아이템(element)이, 집합의 아이템으로 매칭된 집합을 생성하며, 중복된 아이템이 있는 경우는 하나만 포함함<br>\n",
    "\n",
    "다음의 예제 프로그램은 위의 각 경우를 간단한 코드로 만든 예제입니다.<br>\n",
    "\n",
    "```python\n",
    "aSet = set()\n",
    "print(\"(a)\", aSet)\n",
    "\n",
    "bSet = set([1,2,3,4,5])\n",
    "print(\"(b)\", bSet)\n",
    "\n",
    "cSet = set({1,3,5,7,9})\n",
    "print(\"(c)\", cSet)\n",
    "\n",
    "dSet = set(range(5))\n",
    "print(\"(d)\", dSet)\n",
    "\n",
    "eSet = set((2,4,6,8,10))\n",
    "print(\"(e)\", eSet)\n",
    "```\n",
    "\n",
    "아래의 입력창에 위의 예제를 입력하고 실행하면서 결과를 이해해 봅니다."
   ]
  },
  {
   "cell_type": "code",
   "execution_count": 4,
   "metadata": {},
   "outputs": [
    {
     "name": "stdout",
     "output_type": "stream",
     "text": [
      "(a) set()\n",
      "(b) {1, 2, 3, 4, 5}\n",
      "(c) {1, 3, 5, 7, 9}\n",
      "(d) {0, 1, 2, 3, 4}\n",
      "(e) {2, 4, 6, 8, 10}\n"
     ]
    }
   ],
   "source": [
    "aSet = set()\n",
    "print(\"(a)\", aSet)\n",
    "\n",
    "bSet = set([1,2,3,4,5])\n",
    "print(\"(b)\", bSet)\n",
    "cSet = set({1,3,5,7,9})\n",
    "print(\"(c)\", cSet)\n",
    "\n",
    "dSet = set(range(5))\n",
    "print(\"(d)\", dSet)\n",
    "\n",
    "eSet = set((2,4,6,8,10))\n",
    "print(\"(e)\", eSet)\n",
    "\n",
    "#set(리스트, 튜플, 셋, 반복문) 전부다 set으로 바꿔버림."
   ]
  },
  {
   "cell_type": "markdown",
   "metadata": {},
   "source": [
    "``set`` 타입도 Python 언어의 기본 Class 타입으로서, 다양한 Methods를 제공합니다.<br>\n",
    "``set`` 타입이 제공하는 Methods에 대한 설명은 Python 언어 사이트 < https://docs.python.org/3.7/library/stdtypes.html?highlight=set#set >에서 확인이 가능합니다.<br>\n",
    "\n",
    "가장 기초가 되는 기능은 집합에 새로운 아이템을 추가하거나 제거하는 것일 겁니다.<br>\n",
    "이를 위한 Methods는 add()와 remove()이며, 각각 추가할 아이템 혹은 제거할 아이템을 입력 파라메타로 줍니다.<br>\n",
    "다음으로는, 집합하면 떠오르는 가장 기본적인 연산자들일 것인데, 이를 다음과 같이 표로 나타내었습니다.<br>\n",
    "\n",
    "| 연산자 | 수학 기호 | Python 문법 |\n",
    "| :-: | :-: | :-: |\n",
    "| 합집합(union) |  $A \\cup B$ | A.union(B) 혹은 A $|$ B | \n",
    "| 교집합(intersection) |  $A \\cap B$ | A.intersection(B) 혹은 A & B | \n",
    "| 차집합(difference) |  $A - B$ | A.difference(B) 혹은 A - B | \n",
    "| 상위집합(superset) |  $A \\supseteq B$ | A.issuperset(B) 혹은 A >= B | \n",
    "| 부분집합(subset) |  $A \\subseteq B$ | A.issubset(B) 혹은 A <= B | \n",
    "\n",
    "다음의 프로그램은 위의 주요 연산자들을 사용하는 예제를 보여주고 있으니, 아래의 입력창을 통해서 실행해보십시오.<br>\n",
    "그리고 상기 사이트를 방문하여, ``set`` 타입의 다른 Methods들도 찾아보고 실제 동작시켜 보기 바랍니다.<br>\n",
    "\n",
    "```python\n",
    "aSet = {1,2,3,4,5}\n",
    "bSet = {1,2,4,8,16}\n",
    "\n",
    "aSet.add(6)\n",
    "print(aSet)\n",
    "\n",
    "aSet.remove(6)\n",
    "print(aSet)\n",
    "\n",
    "print(aSet | bSet)\n",
    "print(aSet & bSet)\n",
    "print(aSet - bSet)\n",
    "\n",
    "print(aSet.union(bSet))\n",
    "print(aSet.intersection(bSet))\n",
    "print(aSet.difference(bSet))\n",
    "\n",
    "print(aSet >= bSet)\n",
    "print(aSet <= bSet)\n",
    "print(aSet >= (aSet - bSet))\n",
    "```"
   ]
  },
  {
   "cell_type": "code",
   "execution_count": 6,
   "metadata": {},
   "outputs": [
    {
     "name": "stdout",
     "output_type": "stream",
     "text": [
      "{1, 2, 3, 4, 5, 6}\n",
      "{1, 2, 3, 4, 5}\n",
      "{1, 2, 3, 4, 5, 8, 16}\n",
      "{1, 2, 4}\n",
      "{3, 5}\n",
      "{1, 2, 3, 4, 5, 8, 16}\n",
      "{1, 2, 4}\n",
      "{3, 5}\n",
      "False\n",
      "False\n",
      "True\n"
     ]
    }
   ],
   "source": [
    "aSet = {1,2,3,4,5}\n",
    "bSet = {1,2,4,8,16}\n",
    "\n",
    "aSet.add(6)   #집합에 요소추가.\n",
    "print(aSet)\n",
    "\n",
    "aSet.remove(6) #집합에 특정 요소제거\n",
    "print(aSet)\n",
    "\n",
    "print(aSet | bSet)  #합집합\n",
    "print(aSet & bSet)  #교집합\n",
    "print(aSet - bSet)  #차집합\n",
    "\n",
    "print(aSet.union(bSet))  #합집합\n",
    "print(aSet.intersection(bSet)) #교집합\n",
    "print(aSet.difference(bSet))   #차집합\n",
    "\n",
    "print(aSet >= bSet)\n",
    "print(aSet <= bSet)\n",
    "print(aSet >= (aSet - bSet))"
   ]
  },
  {
   "cell_type": "markdown",
   "metadata": {},
   "source": [
    "## ``tuple`` 타입 이해하기"
   ]
  },
  {
   "cell_type": "markdown",
   "metadata": {},
   "source": [
    "``tuple``는 여러 부분 리스트와 매우 유사한데, 가장 큰 차이점은 **``tuple``의 아이템은 변경이 불가(immutable)하다는 점**입니다.<br>\n",
    "먼저 ``()`` 기호를 사용하여 ``tuple``을 하나 만들어서 자세한 설명을 진행해 봅니다.<br>\n",
    "\n",
    "다음의 프로그램은 단순하게 숫자 5개를 가지는 ``tuple`` 타입의 ``tempTuple``을 만든 후,<br> \n",
    "``tempTuple``의 내용을 출력하고 ``type()`` 함수를 통해서 ``tempTuple``이 ``tuple`` 타입 임을 확인하는 목적으로 만든 것입니다.<br>\n",
    "\n",
    "```python\n",
    "tempTuple = (1,2,3,4,5)\n",
    "\n",
    "print(tempTuple)\n",
    "type(tempTuple)\n",
    "```\n",
    "\n",
    "아래의 입력창에 위의 예제를 입력하여 실제 결과를 확인해 봅니다. "
   ]
  },
  {
   "cell_type": "code",
   "execution_count": 7,
   "metadata": {},
   "outputs": [
    {
     "name": "stdout",
     "output_type": "stream",
     "text": [
      "(1, 2, 3, 4, 5)\n"
     ]
    },
    {
     "data": {
      "text/plain": [
       "tuple"
      ]
     },
     "execution_count": 7,
     "metadata": {},
     "output_type": "execute_result"
    }
   ],
   "source": [
    "tempTuple = (1,2,3,4,5)\n",
    "\n",
    "print(tempTuple)\n",
    "type(tempTuple)\n"
   ]
  },
  {
   "cell_type": "markdown",
   "metadata": {},
   "source": [
    "**맨처음 항목인 숫자1을 확인하고자 한다면, 리스트와 동일하게 ``tempTuple[0]``를 사용하면 됩니다.**<br>\n",
    "리스트에서 배운것 처럼, ``tuple``의 내용을 일부 **잘라내기 위한 ``tempTuple[0:3]``과 같은 문법도 동일하게 적용** 가능합니다.<br>\n",
    "**그러나 아이템의 내용이 변경 불가**이므로, 다음의 코드처럼 **``tempTuple[0] = 0``처럼 변경 시도하면 에러가 발생**하는 것을 확인할 수 있습니다.<br>\n",
    "\n",
    "```python\n",
    "tempTuple = (1,2,3,4,5)\n",
    "\n",
    "print(tempTuple[0])\n",
    "print(tempTuple[0:3])\n",
    "\n",
    "tempTuple[0] = 0 # Erron in this statement\n",
    "```\n",
    "\n",
    "아래의 입력창에 위의 예제를 입력하여 실제 결과를 확인해 봅니다. "
   ]
  },
  {
   "cell_type": "code",
   "execution_count": 2,
   "metadata": {},
   "outputs": [
    {
     "name": "stdout",
     "output_type": "stream",
     "text": [
      "1\n",
      "(1, 2, 3)\n"
     ]
    },
    {
     "ename": "TypeError",
     "evalue": "'tuple' object does not support item assignment",
     "output_type": "error",
     "traceback": [
      "\u001b[0;31m---------------------------------------------------------------------------\u001b[0m",
      "\u001b[0;31mTypeError\u001b[0m                                 Traceback (most recent call last)",
      "\u001b[0;32m<ipython-input-2-b62197bd7c88>\u001b[0m in \u001b[0;36m<module>\u001b[0;34m\u001b[0m\n\u001b[1;32m      4\u001b[0m \u001b[0mprint\u001b[0m\u001b[0;34m(\u001b[0m\u001b[0mtempTuple\u001b[0m\u001b[0;34m[\u001b[0m\u001b[0;36m0\u001b[0m\u001b[0;34m:\u001b[0m\u001b[0;36m3\u001b[0m\u001b[0;34m]\u001b[0m\u001b[0;34m)\u001b[0m\u001b[0;34m\u001b[0m\u001b[0;34m\u001b[0m\u001b[0m\n\u001b[1;32m      5\u001b[0m \u001b[0;34m\u001b[0m\u001b[0m\n\u001b[0;32m----> 6\u001b[0;31m \u001b[0mtempTuple\u001b[0m\u001b[0;34m[\u001b[0m\u001b[0;36m0\u001b[0m\u001b[0;34m]\u001b[0m \u001b[0;34m=\u001b[0m \u001b[0;36m1\u001b[0m \u001b[0;31m# Erron in this statement\u001b[0m\u001b[0;34m\u001b[0m\u001b[0;34m\u001b[0m\u001b[0m\n\u001b[0m",
      "\u001b[0;31mTypeError\u001b[0m: 'tuple' object does not support item assignment"
     ]
    }
   ],
   "source": [
    "tempTuple = (1,2,3,4,5)\n",
    "\n",
    "print(tempTuple[0])\n",
    "print(tempTuple[0:3])\n",
    "\n",
    "tempTuple[0] = 0 # Erron in this statement\n"
   ]
  },
  {
   "cell_type": "markdown",
   "metadata": {},
   "source": [
    "재미있는 것은 ``tuple``이 일반적으로 많이 사용되는 괄호(``( )``)를 사용하기 때문에, **단 하나의 아이템을 가지는 ``tuple``을 만들 때 주의**를 해야 한다는 점입니다.<br>\n",
    "\n",
    "다음의 예제를 보면, ``minList``는 일반적인 리스트의 선언으로, ``print()`` 구문에서 ``<class 'list'>``이 출력됩니다.<br>\n",
    "그런데 ``tuple``을 만드는데 사용하는 기호인 ``( )``를 사용하여, 아이템이 ``8`` 하나인 ``notTuple``을 만들고 타입을 확인하면 ``<class 'int'>``입니다.<br>\n",
    "무엇이 문제인가요? 일반적으로 ``( )``는 복수의 문장이 섞인 경우 우선도를 주기 위하여 많이 사용합니다.<br>\n",
    "즉 ``notTuple = (8)``의 경우는 그냥 정수 하나를 ``( )``로 묶은 효과외엔 없는 겁니다.<br>\n",
    "\n",
    "그렇다면 단 하나의 아이템을 갖는 ``tuple``은 어떻게 만들수 있을까요?<br>\n",
    "``minTuple = (8,)``과 같이 다소 이상해 보이지만, 아이템을 하나 적고, 그 다음에 ``,`` 기호를 넣어서 강제로 ``tuple``을 만든다는 것을 Python에 알려주면 됩니다.<br>\n",
    "\n",
    "```python\n",
    "minList = [8]\n",
    "print(\"[minList]\", minList, type(minList))\n",
    "\n",
    "notTuple = (8)\n",
    "print(\"[notTuple]\", notTuple, type(notTuple))\n",
    "\n",
    "minTuple = (8,)\n",
    "print(\"[minTuple]\", minTuple, type(minTuple))\n",
    "```\n",
    "\n",
    "아래의 입력창에 위의 예제를 입력하여 실제 결과를 확인해 봅니다. "
   ]
  },
  {
   "cell_type": "code",
   "execution_count": 1,
   "metadata": {},
   "outputs": [
    {
     "name": "stdout",
     "output_type": "stream",
     "text": [
      "[minList] [8] <class 'list'>\n",
      "[notTuple] 8 <class 'int'>\n",
      "[minTuple] (8,) <class 'tuple'>\n"
     ]
    }
   ],
   "source": [
    "minList = [8]\n",
    "print(\"[minList]\", minList, type(minList))\n",
    "\n",
    "notTuple = (8)\n",
    "print(\"[notTuple]\", notTuple, type(notTuple))\n",
    "\n",
    "minTuple = (8,)\n",
    "print(\"[minTuple]\", minTuple, type(minTuple))"
   ]
  },
  {
   "cell_type": "markdown",
   "metadata": {},
   "source": [
    " - **마지막으로 헷갈리지 말아야 하는 부분이 있습니다.<br>\n",
    "``tuple``의 아이템을 수정하면 안되지만, ``tuple``의 아이템이 리스트와 같은 data collection type이라면, 이 안의 값은 수정이 가능합니다.**<br>\n",
    "다음의 예제를 통해서 이를 확인해 봅시다.<br>\n",
    "\n",
    "아래의 예제에서 ``sampleList[0] = [\"Python\", 'B']`` 구문은 ``tuple``의 아이템을 직접 바꾸려고 하기에 에러가 납니다.<br>\n",
    "하지만 ``sampleList[0][1] = 'A'``은 ``tuple``의 **아이템이 아닌, 아이템 안에 포함된 정보의 수정**을 하려는 목적으로 허용됩니다.<br>\n",
    "따라서 ``tuple``의 아이템이 data collection type이라면, 아이템 자체는 바꿀수 없지만, 해당 아이템이 가진 정보의 수정은 가능한 것입니다.<br>\n",
    "아래 예제처럼 ``tuple``의 아이템이 리스트 X라면, 리스트 X를 리스트 Y로 바꿀수는 없지만, 리스트 X가 가지는 내부 정보는 바꿀수 있는 것이지요.<br>\n",
    "\n",
    "```python\n",
    "sampleList = ([\"Python\", 'B'], [\"C++\", 'B'])\n",
    "print(\"[Before]\", type(sampleList), sampleList)\n",
    "\n",
    "sampleList[0][1] = 'A'\n",
    "print(\"[trial.1]\", type(sampleList), sampleList)\n",
    "\n",
    "sampleList[0] = [\"Python\", 'B'] # Erron in this statement\n",
    "print(\"[trial.2]\", type(sampleList), sampleList)\n",
    "\n",
    "print(\"[After]\", type(sampleList), sampleList)\n",
    "```\n",
    "\n",
    "아래의 입력창에 위의 예제를 입력하여 실제 결과를 확인해 봅니다. "
   ]
  },
  {
   "cell_type": "code",
   "execution_count": 3,
   "metadata": {},
   "outputs": [
    {
     "name": "stdout",
     "output_type": "stream",
     "text": [
      "[Before] <class 'tuple'> (['Python', 'B'], ['C++', 'B'])\n",
      "[trial.1] <class 'tuple'> (['Python', 'A'], ['C++', 'B'])\n"
     ]
    },
    {
     "ename": "TypeError",
     "evalue": "'tuple' object does not support item assignment",
     "output_type": "error",
     "traceback": [
      "\u001b[0;31m---------------------------------------------------------------------------\u001b[0m",
      "\u001b[0;31mTypeError\u001b[0m                                 Traceback (most recent call last)",
      "\u001b[0;32m<ipython-input-3-94cdf67eafe3>\u001b[0m in \u001b[0;36m<module>\u001b[0;34m\u001b[0m\n\u001b[1;32m      5\u001b[0m \u001b[0mprint\u001b[0m\u001b[0;34m(\u001b[0m\u001b[0;34m\"[trial.1]\"\u001b[0m\u001b[0;34m,\u001b[0m \u001b[0mtype\u001b[0m\u001b[0;34m(\u001b[0m\u001b[0msampleList\u001b[0m\u001b[0;34m)\u001b[0m\u001b[0;34m,\u001b[0m \u001b[0msampleList\u001b[0m\u001b[0;34m)\u001b[0m\u001b[0;34m\u001b[0m\u001b[0;34m\u001b[0m\u001b[0m\n\u001b[1;32m      6\u001b[0m \u001b[0;34m\u001b[0m\u001b[0m\n\u001b[0;32m----> 7\u001b[0;31m \u001b[0msampleList\u001b[0m\u001b[0;34m[\u001b[0m\u001b[0;36m0\u001b[0m\u001b[0;34m]\u001b[0m \u001b[0;34m=\u001b[0m \u001b[0;34m[\u001b[0m\u001b[0;34m\"Python\"\u001b[0m\u001b[0;34m,\u001b[0m \u001b[0;34m'B'\u001b[0m\u001b[0;34m]\u001b[0m \u001b[0;31m# Erron in this statement\u001b[0m\u001b[0;34m\u001b[0m\u001b[0;34m\u001b[0m\u001b[0m\n\u001b[0m\u001b[1;32m      8\u001b[0m \u001b[0mprint\u001b[0m\u001b[0;34m(\u001b[0m\u001b[0;34m\"[trial.2]\"\u001b[0m\u001b[0;34m,\u001b[0m \u001b[0mtype\u001b[0m\u001b[0;34m(\u001b[0m\u001b[0msampleList\u001b[0m\u001b[0;34m)\u001b[0m\u001b[0;34m,\u001b[0m \u001b[0msampleList\u001b[0m\u001b[0;34m)\u001b[0m\u001b[0;34m\u001b[0m\u001b[0;34m\u001b[0m\u001b[0m\n\u001b[1;32m      9\u001b[0m \u001b[0;34m\u001b[0m\u001b[0m\n",
      "\u001b[0;31mTypeError\u001b[0m: 'tuple' object does not support item assignment"
     ]
    }
   ],
   "source": [
    "sampleList = ([\"Python\", 'B'], [\"C++\", 'B'])\n",
    "print(\"[Before]\", type(sampleList), sampleList)\n",
    "\n",
    "sampleList[0][1] = 'A'\n",
    "print(\"[trial.1]\", type(sampleList), sampleList)\n",
    "\n",
    "sampleList[0] = [\"Python\", 'B'] # Error in this statement\n",
    "print(\"[trial.2]\", type(sampleList), sampleList)\n",
    "\n",
    "print(\"[After]\", type(sampleList), sampleList)"
   ]
  },
  {
   "cell_type": "markdown",
   "metadata": {},
   "source": [
    "## ``dictionary`` 타입 이해하기"
   ]
  },
  {
   "cell_type": "markdown",
   "metadata": {},
   "source": [
    "``dictionary`` 타입은 이름이 의미하는 것처럼, 사전의 **\"단어:의미(값)\"의 쌍을 저장하는 용도**입니다.<br>\n",
    "``dictionary`` 타입은 따라서 \"단어\"를 키워드로 사용하여야 하므로, \"단어\"는 중복이 허용되지 않으나, \"의미(값)\"은 중복되어도 상관없습니다.<br>\n",
    "\n",
    "``dictionary`` 타입에서 자주 사용되는 Methods들을 살펴보기 위하여, 간단하게 프로그래밍 언어와 저자를 나타내는 ``langAuthor``을 ``dictionary`` 타입으로 만들고, <br>\n",
    "이의 type()과 내용을 확인해 보면 다음과 같습니다. <br>\n",
    "\n",
    "```python\n",
    "langAuthor = {\"python\":\"Guido van Rossum\",\"C++\":\"Bjarne Stroustrup\"}\n",
    "print(type(langAuthor), langAuthor)\n",
    "```\n",
    "\n",
    "``dictionary``는 일반적으로 우리가 사용하는 사전과 같다고 했으니, 사전을 찾아볼까요?<br>\n",
    "다음과 같이 'python'과 'C++' 언어의 저자를 확인할 수 있습니다.<br>\n",
    "리스트와 tuple에서도 ``[ ]`` 기호를 사용하였지만, 당시는 숫자나 숫자값을 갖는 변수를 넣었습니다.<br>\n",
    "``dictionary``는 ``단어(혹은 Key 값)``을 ``[ ]`` 기호안에 적어주며 결과값은 해당 ``단어(혹은 Key 값)``에 상응하는 ``의미(값)``입니다.<br>\n",
    "\n",
    "```python\n",
    "print(langAuthor['python'])\n",
    "print(langAuthor['C++'])\n",
    "```\n",
    "\n",
    "``dictionary``의 ``단어(혹은 Key 값)``은 변경이 불가하지만, ``단어(혹은 Key 값)``에 상응하는 ``의미(값)``는 수정이 가능합니다.<br>\n",
    "다음의 코드 처럼 우리는 \"C++\" 언어의 저자 이름을 대문자로 바꾸어서 다시 저장해 보았습니다.<br>\n",
    "\n",
    "```python\n",
    "langAuthor['C++'] = \"Bjarne Stroustrup\".upper()\n",
    "print(langAuthor['C++'])\n",
    "```\n",
    "\n",
    "``dictionary``의 아이템을 삭제하는 경우는 Python의 내장 문법인 ``del``을 사용하면 됩니다.<br>\n",
    "다음 처럼 ``del`` 명령에 ``단어(혹은 Key 값)``을 주면, 해당 정보는 사라지게 됩니다.<br>\n",
    "\n",
    "```python\n",
    "del langAuthor['C++']\n",
    "print(type(langAuthor), langAuthor)\n",
    "```\n",
    "\n",
    "``dictionary``에 아이템을 추가하는 경우는 쉽습니다.<br>\n",
    "다음과 같이 새로운 ``단어(혹은 Key 값)``을 ``[ ]`` 기호안에 적어주고, 이에 상응하는 값은 대입하면 됩니다.<br>\n",
    "\n",
    "```python\n",
    "langAuthor['C++'] = \"Bjarne Stroustrup\"\n",
    "print(type(langAuthor), langAuthor)\n",
    "```\n",
    "\n",
    "리스트 혹은 tuple 처럼 반복문에서도 사용할 수 있습니다.<br>\n",
    "아래의 코드는 반복문을 사용하여, ``dictionary`` 안의 아이템을 하나 하나 읽어서 출력하는 것을 보여줍니다.<br>\n",
    "\n",
    "```python\n",
    "for item in langAuthor:\n",
    "    print(item, \"is designed by \", langAuthor[item])\n",
    "```\n",
    "\n",
    "지금까지 설명한 코드들을 하나의 프로그램으로 묶은 것이 아래의 프로그램입니다.<br>\n",
    "\n",
    "```python\n",
    "langAuthor = {\"python\":\"Guido van Rossum\",\"C++\":\"Bjarne Stroustrup\"}\n",
    "print(type(langAuthor), langAuthor)\n",
    "\n",
    "print(langAuthor['python'])\n",
    "print(langAuthor['C++'])\n",
    "\n",
    "langAuthor['C++'] = \"Bjarne Stroustrup\".upper()\n",
    "print(langAuthor['C++'])\n",
    "\n",
    "del langAuthor['C++']\n",
    "print(type(langAuthor), langAuthor)\n",
    "\n",
    "langAuthor['C++'] = \"Bjarne Stroustrup\"\n",
    "print(type(langAuthor), langAuthor)\n",
    "\n",
    "for item in langAuthor:\n",
    "    print(item, \"is designed by \", langAuthor[item])\n",
    "```\n",
    "\n",
    "아래의 입력창에 위의 예제를 입력하여 실제 결과를 확인해 봅니다. "
   ]
  },
  {
   "cell_type": "code",
   "execution_count": 5,
   "metadata": {},
   "outputs": [
    {
     "name": "stdout",
     "output_type": "stream",
     "text": [
      "<class 'dict'> {'python': 'Guido van Rossum', 'C++': 'Bjarne Stroustrup'}\n",
      "Guido van Rossum\n",
      "Bjarne Stroustrup\n",
      "BJARNE STROUSTRUP\n",
      "<class 'dict'> {'python': 'Guido van Rossum'}\n",
      "<class 'dict'> {'python': 'Guido van Rossum', 'C++': 'Bjarne Stroustrup'}\n",
      "python is designed by  Guido van Rossum\n",
      "C++ is designed by  Bjarne Stroustrup\n"
     ]
    }
   ],
   "source": [
    "langAuthor = {\"python\":\"Guido van Rossum\",\"C++\":\"Bjarne Stroustrup\"}\n",
    "print(type(langAuthor), langAuthor)\n",
    "\n",
    "print(langAuthor['python'])   #Key를 넣어주면 Value가 출력이 된다. \n",
    "print(langAuthor['C++'])\n",
    "\n",
    "langAuthor['C++'] = \"Bjarne Stroustrup\".upper()\n",
    "print(langAuthor['C++'])\n",
    "\n",
    "del langAuthor['C++'] #Key를 지워주면 그에 해당하는 Value도 같이 제거된다.\n",
    "print(type(langAuthor), langAuthor)\n",
    "\n",
    "langAuthor['C++'] = \"Bjarne Stroustrup\" #추가도된다. 변수[Key] = Value\n",
    "print(type(langAuthor), langAuthor)\n",
    "\n",
    "for item in langAuthor:   #Key를 리턴한다.\n",
    "    print(item, \"is designed by \", langAuthor[item])\n"
   ]
  },
  {
   "cell_type": "markdown",
   "metadata": {},
   "source": [
    "# 실습 (LAB)"
   ]
  },
  {
   "cell_type": "markdown",
   "metadata": {},
   "source": [
    "## ``list`` >> ``tuple`` >> ``set`` 변환 프로그램 개발하기"
   ]
  },
  {
   "cell_type": "markdown",
   "metadata": {},
   "source": [
    "다음의 요구 사항에 맞는 프로그램을 개발하여 아래의 입력창을 통해서 실행합니다.<br>\n",
    "\n",
    "(a) 다음과 같이 list 하나는 프로그래밍 언어를, 다른 list는 언어의 개발자 이름을 갖도록 선언합니다.<br>\n",
    "\n",
    "```python\n",
    "language = [\"python\", \"c++\", \"javascript\", \"go\"]\n",
    "author = [\"Guido van Rossum\", \"Bjarne Stroustrup\", \"Brendan Eich\", \"Robert Griesemer\"]\n",
    "```\n",
    "\n",
    "(b) 함수 matingPairs()를 만드는데, 입력 파라메타로 위의 두 리스트를 받아서, 결과를 set 타입으로 돌려줍니다.<br>\n",
    "(c) 함수 matingPairs()는 두 리스트에서 각각 하나의 값을 꺼내서 언어 이름별 저자의 tuple을 만든 후,<br>\n",
    "(d) 함수 matingPairs() 안의 내부 변수인 set 타입 데이터 타입에 (c)에서 만든 tuple을 아이템으로 추가해 줍니다.<br>\n",
    "(e) 모든 언어에 대한 저자 매핑과, 이를 set에 넣는 과정을 마치면, 함수 matingPairs()은 결과값으로 set를 돌려줍니다.<br>\n",
    "(f) 함수 matingPairs()의 결과값을 화면에 출력합니다."
   ]
  },
  {
   "cell_type": "code",
   "execution_count": 6,
   "metadata": {},
   "outputs": [
    {
     "name": "stdout",
     "output_type": "stream",
     "text": [
      "{'go', 'Bjarne Stroustrup', 'javascript', 'Brendan Eich', 'python', ('c++', 'Bjarne Stroustrup'), 'Guido van Rossum', ('javascript', 'Brendan Eich'), 'c++', ('go', 'Robert Griesemer'), 'Robert Griesemer', ('python', 'Guido van Rossum')}\n"
     ]
    }
   ],
   "source": [
    "language = [\"python\", \"c++\", \"javascript\", \"go\"]\n",
    "author = [\"Guido van Rossum\", \"Bjarne Stroustrup\", \"Brendan Eich\", \"Robert Griesemer\"]\n",
    "newset = set()\n",
    "tuple = ()\n",
    "\n",
    "def matingPairs(language, author):\n",
    "    newset = set(language+author)\n",
    "    for i in [0,1,2,3]:\n",
    "        tuple = (language[i],author[i])\n",
    "        newset.add(tuple)\n",
    "    return newset\n",
    "\n",
    "print(matingPairs(language, author))"
   ]
  },
  {
   "cell_type": "markdown",
   "metadata": {},
   "source": [
    "## ``dictionary`` 멤버 갯수 산출 프로그램 개발하기"
   ]
  },
  {
   "cell_type": "markdown",
   "metadata": {},
   "source": [
    "다음의 요구 사항에 맞는 프로그램을 개발하여 아래의 입력창을 통해서 실행합니다.<br>\n",
    "\n",
    "(a) ``dictionary``의 ``key``는 유일해야 하지만 ``value``는 유일하지 않아도 됩니다.<br>\n",
    "(b) ``count_values()`` 라는 이름의 함수를 구현합니다. <br>\n",
    "(c) ``count_values()`` 함수는 하나의 dictionary를 입력 파라메타로 받아서, 이 dictionary가 포함한 서로 다른 value의 개수를 반환합니다. <br>\n",
    "(d) 예를 들어, ``{'red': 1, 'green': 1, 'blue': 2}``가 입력 파라메타로 전달되면, 2를 반환합니다.<br>"
   ]
  },
  {
   "cell_type": "code",
   "execution_count": 4,
   "metadata": {},
   "outputs": [
    {
     "name": "stdout",
     "output_type": "stream",
     "text": [
      "2\n",
      "dict_values([1, 1, 2]) ..이상, 참고용코드\n",
      "3 ..이상, 참고용코드\n"
     ]
    }
   ],
   "source": [
    "#복습필요\n",
    "def count_values(dictionary):\n",
    "    value=set(dictionary.values())\n",
    "    return len(value)\n",
    "\n",
    "dic={'red': 1, 'green': 1, 'blue': 2}\n",
    "print(count_values(dic))\n",
    "print(dic.values(),\"..이상, 참고용코드\")\n",
    "print(len(dic.values()),\"..이상, 참고용코드\")"
   ]
  },
  {
   "cell_type": "code",
   "execution_count": 8,
   "metadata": {},
   "outputs": [
    {
     "ename": "SyntaxError",
     "evalue": "unexpected EOF while parsing (<ipython-input-8-00ac5a3af022>, line 3)",
     "output_type": "error",
     "traceback": [
      "\u001b[0;36m  File \u001b[0;32m\"<ipython-input-8-00ac5a3af022>\"\u001b[0;36m, line \u001b[0;32m3\u001b[0m\n\u001b[0;31m    print(dic[0]\u001b[0m\n\u001b[0m                ^\u001b[0m\n\u001b[0;31mSyntaxError\u001b[0m\u001b[0;31m:\u001b[0m unexpected EOF while parsing\n"
     ]
    }
   ],
   "source": [
    "dic = {\"20000000\" : [10, 20, 30]}\n",
    "print(dic)\n",
    "print(dic[0]"
   ]
  },
  {
   "cell_type": "code",
   "execution_count": 39,
   "metadata": {},
   "outputs": [
    {
     "name": "stdout",
     "output_type": "stream",
     "text": [
      "Help on class dict in module builtins:\n",
      "\n",
      "class dict(object)\n",
      " |  dict() -> new empty dictionary\n",
      " |  dict(mapping) -> new dictionary initialized from a mapping object's\n",
      " |      (key, value) pairs\n",
      " |  dict(iterable) -> new dictionary initialized as if via:\n",
      " |      d = {}\n",
      " |      for k, v in iterable:\n",
      " |          d[k] = v\n",
      " |  dict(**kwargs) -> new dictionary initialized with the name=value pairs\n",
      " |      in the keyword argument list.  For example:  dict(one=1, two=2)\n",
      " |  \n",
      " |  Methods defined here:\n",
      " |  \n",
      " |  __contains__(self, key, /)\n",
      " |      True if the dictionary has the specified key, else False.\n",
      " |  \n",
      " |  __delitem__(self, key, /)\n",
      " |      Delete self[key].\n",
      " |  \n",
      " |  __eq__(self, value, /)\n",
      " |      Return self==value.\n",
      " |  \n",
      " |  __ge__(self, value, /)\n",
      " |      Return self>=value.\n",
      " |  \n",
      " |  __getattribute__(self, name, /)\n",
      " |      Return getattr(self, name).\n",
      " |  \n",
      " |  __getitem__(...)\n",
      " |      x.__getitem__(y) <==> x[y]\n",
      " |  \n",
      " |  __gt__(self, value, /)\n",
      " |      Return self>value.\n",
      " |  \n",
      " |  __init__(self, /, *args, **kwargs)\n",
      " |      Initialize self.  See help(type(self)) for accurate signature.\n",
      " |  \n",
      " |  __iter__(self, /)\n",
      " |      Implement iter(self).\n",
      " |  \n",
      " |  __le__(self, value, /)\n",
      " |      Return self<=value.\n",
      " |  \n",
      " |  __len__(self, /)\n",
      " |      Return len(self).\n",
      " |  \n",
      " |  __lt__(self, value, /)\n",
      " |      Return self<value.\n",
      " |  \n",
      " |  __ne__(self, value, /)\n",
      " |      Return self!=value.\n",
      " |  \n",
      " |  __repr__(self, /)\n",
      " |      Return repr(self).\n",
      " |  \n",
      " |  __setitem__(self, key, value, /)\n",
      " |      Set self[key] to value.\n",
      " |  \n",
      " |  __sizeof__(...)\n",
      " |      D.__sizeof__() -> size of D in memory, in bytes\n",
      " |  \n",
      " |  clear(...)\n",
      " |      D.clear() -> None.  Remove all items from D.\n",
      " |  \n",
      " |  copy(...)\n",
      " |      D.copy() -> a shallow copy of D\n",
      " |  \n",
      " |  get(self, key, default=None, /)\n",
      " |      Return the value for key if key is in the dictionary, else default.\n",
      " |  \n",
      " |  items(...)\n",
      " |      D.items() -> a set-like object providing a view on D's items\n",
      " |  \n",
      " |  keys(...)\n",
      " |      D.keys() -> a set-like object providing a view on D's keys\n",
      " |  \n",
      " |  pop(...)\n",
      " |      D.pop(k[,d]) -> v, remove specified key and return the corresponding value.\n",
      " |      If key is not found, d is returned if given, otherwise KeyError is raised\n",
      " |  \n",
      " |  popitem(...)\n",
      " |      D.popitem() -> (k, v), remove and return some (key, value) pair as a\n",
      " |      2-tuple; but raise KeyError if D is empty.\n",
      " |  \n",
      " |  setdefault(self, key, default=None, /)\n",
      " |      Insert key with a value of default if key is not in the dictionary.\n",
      " |      \n",
      " |      Return the value for key if key is in the dictionary, else default.\n",
      " |  \n",
      " |  update(...)\n",
      " |      D.update([E, ]**F) -> None.  Update D from dict/iterable E and F.\n",
      " |      If E is present and has a .keys() method, then does:  for k in E: D[k] = E[k]\n",
      " |      If E is present and lacks a .keys() method, then does:  for k, v in E: D[k] = v\n",
      " |      In either case, this is followed by: for k in F:  D[k] = F[k]\n",
      " |  \n",
      " |  values(...)\n",
      " |      D.values() -> an object providing a view on D's values\n",
      " |  \n",
      " |  ----------------------------------------------------------------------\n",
      " |  Class methods defined here:\n",
      " |  \n",
      " |  fromkeys(iterable, value=None, /) from builtins.type\n",
      " |      Create a new dictionary with keys from iterable and values set to value.\n",
      " |  \n",
      " |  ----------------------------------------------------------------------\n",
      " |  Static methods defined here:\n",
      " |  \n",
      " |  __new__(*args, **kwargs) from builtins.type\n",
      " |      Create and return a new object.  See help(type) for accurate signature.\n",
      " |  \n",
      " |  ----------------------------------------------------------------------\n",
      " |  Data and other attributes defined here:\n",
      " |  \n",
      " |  __hash__ = None\n",
      "\n"
     ]
    }
   ],
   "source": [
    "help(dict)"
   ]
  },
  {
   "cell_type": "code",
   "execution_count": 4,
   "metadata": {},
   "outputs": [],
   "source": [
    "#연습\n",
    "#파일입출력으로 구구단(7단)\n",
    "file = open('seven.txt', 'w', encoding='utf8')\n",
    "for a in range(1, 9):\n",
    "    line = f'7 * {a} = {a * 7}\\n'  ## 1)\n",
    "    file.write(line)\n",
    "file.close()"
   ]
  },
  {
   "cell_type": "markdown",
   "metadata": {},
   "source": [
    "텍스트 파일 복사하기\n",
    "텍스트 파일을 읽어서 한줄씩 출력하고 다시 이를 다른 파일에 쓰는 프로그램을 작성해보자. 하나의 함수로 작성할 것이다. 이는 위에서 배운 몇 가지 사실만 기억한다면 매우 간단하게 작성될 수 있다.\n",
    "\n",
    "원본 파일과 대상 파일을 각각 읽기 모드와 쓰기 모드로 열어야 한다. 따라서 프로그램 전체 코드는 2개의 with 문이 중첩된 모양이 될 것이다.\n",
    "읽어들인 각 라인을 출력한 후에 대상 파일에 기록하면 된다. 행 단위로 처리되기 때문에 기록할 때에는 개행문자를 붙여주면 된다.\n",
    "\n",
    "def copy_and_print(filename):\n",
    "  with open(filename, encoding=\"utf8\") as f1:\n",
    "    targetfile = 'copied_' + filename\n",
    "    with open(targetfile, 'w', encoding='utf8') as f2:\n",
    "      for line in f1:\n",
    "        print(line)\n",
    "        f2.write(line + '\\n')"
   ]
  },
  {
   "cell_type": "markdown",
   "metadata": {},
   "source": [
    "**[간단한 합계, 평균 프로그램]**<br>\n",
    "학생의 이름, 국어, 수학, 영어 점수를 입력받아서 각 학생의 총점과 평균, 그리고 전체 학생의 수학 점수의 평균을 출력하는 프로그램을 작성한다고 생각해보자.<br> 물론 키보드를 이용해서 각 데이터를 입력받는 식으로 프로그램을 작성할 수도 있다. 하지만 그렇게 일일이 타이핑하는 것은 너무나 수고스러운 일이니 다음과 같이 텍스트 파일에 개별 학생의 성적이 기입된 데이터가 있다고 가정하자.<br>\n",
    "<br>\n",
    "홍길동 87 90 82<br>\n",
    "최점례 91 80 87<br>\n",
    "오서방 73 92 99<br>\n",
    "...<br>\n",
    "그렇다면 우리는 다음과 같은 방식으로 데이터를 처리할 수 있을 것이라 생각해볼 수 있다.<br>\n",
    "<br>\n",
    "각 라인의 데이터는 모두 문자열이며, 이름, 국어, 수학, 영어 점수 순으로 나뉜다. (이름에는 띄어쓰기가 없다고 가정한다.)<br>\n",
    "각 라인의 데이터를 하나의 사전으로 변환할 수 있다.<br>\n",
    "이 말은 전체 데이터는 사전의 리스트로 변환될 수 있다는 것이다.<br>\n",
    "리스트의 각각의 사전에 대해서 세 개의 점수 값을 합계, 평균 내는 것은 간단한 일이다.<br>\n",
    "리스트의 각 사전에 대해서 특정한 과목 키를 이용해서 그 값을 합계, 평균 낼 수도 있을 것이다.<br>\n",
    "먼저 각 학생의 총점과 평균을 출력하는 함수를 작성해보자.<br>\n",
    "<br>"
   ]
  },
  {
   "cell_type": "code",
   "execution_count": 3,
   "metadata": {},
   "outputs": [
    {
     "ename": "SyntaxError",
     "evalue": "invalid syntax (<ipython-input-3-c52544bebd78>, line 6)",
     "output_type": "error",
     "traceback": [
      "\u001b[0;36m  File \u001b[0;32m\"<ipython-input-3-c52544bebd78>\"\u001b[0;36m, line \u001b[0;32m6\u001b[0m\n\u001b[0;31m    print('{이름: aDict['이름'] - 총점: {total}, 평균: {avg:.2f}')\u001b[0m\n\u001b[0m                        ^\u001b[0m\n\u001b[0;31mSyntaxError\u001b[0m\u001b[0;31m:\u001b[0m invalid syntax\n"
     ]
    }
   ],
   "source": [
    "def print_personal_marks(aDict):\n",
    "    keys = ('국어', '수학', '영어')\n",
    "    total = sum(aDict[x] for x in keys)\n",
    "    avg = total / 3\n",
    "    print(f'{이름: aDict['이름'] - 총점: {total}, 평균: {avg:.2f}')\n",
    "#다음은 정수의 리스트를 받아서 총점과 합계를 출력하는 함수이다.\n",
    "\n",
    "def print_class_marks(marks):\n",
    "  total = sum(marks)\n",
    "  avg = total / len(marks)\n",
    "  print(f'총점: {total}, 평균: {avg:0.2f}')\n",
    "#자 이제 파일을 읽어서 성적 정보를 파싱하는 코드를 생각해보자. 한 줄의 정보를 입력받은 것은 다음과 같이 처리할 수 있다.\n",
    "\n",
    "aLine = ....\n",
    "keys = ('국어', '수학', '영어')\n",
    "name, *marks = aLine.split(' ')  # 공백으로 분리한 첫 값은 name, 그외 값은 marks라는 리스트로\n",
    "## marks의 각 요소를 정수로 변환하고 키와 조합하여 사전으로 만든다.\n",
    "anItem = dict(zip(keys, (int(x) for x in marks)))\n",
    "## 여기에 이름을 추가하여 주고 데이터에 추가한다.\n",
    "anItem['이름'] = name\n",
    "#자 위 코드는 “한줄의 데이터” ==> “하나의 사전객체”로 변환하는 과정을 표현하고 있다. \n",
    "#따라서 “여러 줄의 데이터”가 있다면 이 동작을 맵핑하여 “모든 사전의 리스트”로 변환할 수 있을 것이다.\n",
    "#개별 데이터를 변환하고 출력하는 부분을 모두 함수로 만들면 여러줄의 리스트는 간단히 성적의 데이터 \n",
    "#리스트로 변환되고, 각각 학생의 성적과 전체 수학 성적은 매우 간단하게 출력할 수 있다.\n",
    "\n",
    "### 위의 코드를 함수로 정의하고 읽어들인 데이터로 성적 데이터를 만든다.\n",
    "def process_line(line):\n",
    "  keys = ('국어', '영어', '수학')\n",
    "  name, *marks = line.split()\n",
    "  anItem = dict(zip(keys, (int(x) for x in marks)))\n",
    "  anItem['이름'] = name\n",
    "  return anItem\n",
    "\n",
    "with open('data.txt', encoding='utf8') as f:\n",
    "  data = [process_line(line) for line in f]\n",
    "  ## 각 학생의 성적을 출력한다.\n",
    "  for x in data:\n",
    "    print_personal_marks(x)\n",
    "\n",
    "  ## 전체 수학 성적을 출력한다. \n",
    "  print(\"전체 수학 성적\")\n",
    "  print_class_marks([item['수학'] for item in data])\n"
   ]
  },
  {
   "cell_type": "markdown",
   "metadata": {},
   "source": [
    "**텍스트 파일 복사하기**<br>\n",
    "텍스트 파일을 읽어서 한줄씩 출력하고 다시 이를 다른 파일에 쓰는 프로그램을 작성해보자. 하나의 함수로 작성할 것이다. 이는 위에서 배운 몇 가지 사실만 기억한다면 매우 간단하게 작성될 수 있다.<br>\n",
    "\n",
    "원본 파일과 대상 파일을 각각 읽기 모드와 쓰기 모드로 열어야 한다. 따라서 프로그램 전체 코드는 2개의 with 문이 중첩된 모양이 될 것이다.<br>\n",
    "읽어들인 각 라인을 출력한 후에 대상 파일에 기록하면 된다. 행 단위로 처리되기 때문에 기록할 때에는 개행문자를 붙여주면 된다.<br>"
   ]
  },
  {
   "cell_type": "code",
   "execution_count": 10,
   "metadata": {},
   "outputs": [
    {
     "name": "stdout",
     "output_type": "stream",
     "text": [
      "파일에 기록될 문자열입니다.\n",
      "\n",
      "파일 기록하는거 참 쉽죠?!\n",
      "\n",
      "하나둘셋넷다섯\n",
      "\n",
      "여섯\n",
      "\n",
      "일곱\n",
      "\n",
      "여덟\n",
      "\n",
      "아홉\n",
      "\n",
      "열\n"
     ]
    }
   ],
   "source": [
    "def copy_and_print(filename):\n",
    "    with open(filename, encoding=\"utf8\") as f1:\n",
    "        targetfile = 'copied_' + filename\n",
    "        with open(targetfile, 'w', encoding='utf8') as f2:\n",
    "            for line in f1:\n",
    "                print(line)\n",
    "                f2.write(line + '\\n')\n",
    "#가져온 파일을 화면에 출력해주고 'copied_ ~~~'라는 파일로 그 내용을 복사해온다.\n",
    "                \n",
    "copy_and_print('file.txt')"
   ]
  },
  {
   "cell_type": "code",
   "execution_count": 8,
   "metadata": {},
   "outputs": [],
   "source": [
    "f = open('file.txt', 'w')\n",
    "f.write('파일에 기록될 문자열입니다.\\n')\n",
    "f.write('파일 기록하는거 참 쉽죠?!\\n')\n",
    "f.close()\n",
    "\n",
    "f = open('file.txt', 'a')\n",
    "f.writelines(['하나', '둘', '셋', '넷', '다섯']) #리스트를 전달\n",
    "f.write('\\n')\n",
    "f.writelines('\\n'.join(['여섯', '일곱', '여덟', '아홉', '열']))#문자열을 빈칸(\\n)으로 연결하기 위해 string 메서드 join을 사용\n",
    "f.close()"
   ]
  },
  {
   "cell_type": "code",
   "execution_count": 63,
   "metadata": {},
   "outputs": [
    {
     "name": "stdout",
     "output_type": "stream",
     "text": [
      "22\n",
      "29\n",
      "\n",
      "2\n",
      "\n",
      "16\n",
      "\n",
      "12\n",
      "\n",
      "35\n",
      "\n",
      "8\n",
      "\n",
      "83\n",
      "\n",
      "166\n",
      "Total number of pelts: 373\n"
     ]
    }
   ],
   "source": [
    "#강의노트 'Skip'부분 복습\n",
    "\n",
    "hopedale_file = open('hopedale.txt', 'r')\n",
    "hopedale_file.readline()  #header\n",
    "\n",
    "data = hopedale_file.readline().strip()\n",
    "while data.startswith('#'):\n",
    "    data = hopedale_file.readline().strip()\n",
    "\n",
    "total_pelts = int(data)\n",
    "\n",
    "for data in hopedale_file:\n",
    "    print(data)    \n",
    "    total_pelts += int(data.strip())\n",
    "hopedale_file.close()\n",
    "\n",
    "print(\"Total number of pelts:\", total_pelts)\n"
   ]
  }
 ],
 "metadata": {
  "kernelspec": {
   "display_name": "Python 3",
   "language": "python",
   "name": "python3"
  },
  "language_info": {
   "codemirror_mode": {
    "name": "ipython",
    "version": 3
   },
   "file_extension": ".py",
   "mimetype": "text/x-python",
   "name": "python",
   "nbconvert_exporter": "python",
   "pygments_lexer": "ipython3",
   "version": "3.7.3"
  }
 },
 "nbformat": 4,
 "nbformat_minor": 2
}
