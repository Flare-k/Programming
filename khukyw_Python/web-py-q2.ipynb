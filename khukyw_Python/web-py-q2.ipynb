{
 "cells": [
  {
   "cell_type": "markdown",
   "metadata": {},
   "source": [
    "# Quiz#2       < 출제자 : 유승화, 이메일 : sud0303@naver.com >"
   ]
  },
  {
   "cell_type": "markdown",
   "metadata": {},
   "source": [
    "String class의 method를 활용하여\n",
    "나무 모양의 스트링을 return하는 함수를 만들어 봅시다.\n",
    "\n",
    "string = makeTree(shape, width, rain)<br><br>\n",
    "shape : 나뭇잎의 모양을 결정합니다(문자 하나)<br>\n",
    "width : 나무 그림의 땅의 넓이를 결정합니다. ( 11이상의 정수 )<br>\n",
    "rain : 날씨가 비가 오는지를 결정합니다. ( boolean, 비의 모양은‘/’ 로 표현, 나무 아래부분은 비가 오지 않습니다. )\n",
    "\n",
    "\n",
    "나무의 그림의 높이는 9로 고정되어 있습니다. 나뭇잎의 길이는 각각 1,3,5,7,9,11 입니다."
   ]
  },
  {
   "cell_type": "markdown",
   "metadata": {},
   "source": [
    "작성 코드 예시\n",
    "\n",
    "```python\n",
    "def makeTree(shape, width, rain):\n",
    "    # 함수 내용 작성\n",
    "    \n",
    "    return output\n",
    "    \n",
    "string = makeTree(shape, width, rain)\n",
    "print(string)\n",
    "```\n"
   ]
  },
  {
   "cell_type": "code",
   "execution_count": null,
   "metadata": {},
   "outputs": [],
   "source": [
    "from IPython.display import Image\n",
    "Image(\"quiz#2_Sample.JPG\")"
   ]
  },
  {
   "cell_type": "code",
   "execution_count": 10,
   "metadata": {},
   "outputs": [],
   "source": []
  },
  {
   "cell_type": "code",
   "execution_count": 11,
   "metadata": {},
   "outputs": [
    {
     "name": "stdout",
     "output_type": "stream",
     "text": [
      "     *     \n",
      "    ***    \n",
      "   *****   \n",
      "  *******  \n",
      " ********* \n",
      "***********\n",
      "    |||    \n",
      "===========\n"
     ]
    }
   ],
   "source": []
  }
 ],
 "metadata": {
  "anaconda-cloud": {},
  "kernelspec": {
   "display_name": "Python 3",
   "language": "python",
   "name": "python3"
  },
  "language_info": {
   "codemirror_mode": {
    "name": "ipython",
    "version": 3
   },
   "file_extension": ".py",
   "mimetype": "text/x-python",
   "name": "python",
   "nbconvert_exporter": "python",
   "pygments_lexer": "ipython3",
   "version": "3.7.1"
  }
 },
 "nbformat": 4,
 "nbformat_minor": 2
}
