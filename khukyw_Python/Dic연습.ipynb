{
 "cells": [
  {
   "cell_type": "code",
   "execution_count": 2,
   "metadata": {},
   "outputs": [
    {
     "name": "stdout",
     "output_type": "stream",
     "text": [
      "{'snow goose', 'northern fulmar', 'long-tailed jaeger', 'canada goose'}\n"
     ]
    }
   ],
   "source": [
    "observations_file = open('observations.txt')\n",
    "birds_observed = set()\n",
    "for line in observations_file:\n",
    "    bird = line.strip()\n",
    "    birds_observed.add(bird)\n",
    "    \n",
    "print(birds_observed)"
   ]
  },
  {
   "cell_type": "code",
   "execution_count": null,
   "metadata": {},
   "outputs": [],
   "source": []
  },
  {
   "cell_type": "code",
   "execution_count": 4,
   "metadata": {},
   "outputs": [
    {
     "name": "stdout",
     "output_type": "stream",
     "text": [
      "canada goose 5\n",
      "long-tailed jaeger 2\n",
      "snow goose 1\n",
      "northern fulmar 1\n"
     ]
    }
   ],
   "source": [
    "observations_file = open('observations.txt')\n",
    "bird_counts = []\n",
    "for line in observations_file:\n",
    "    bird = line.strip()\n",
    "    found = False\n",
    "    \n",
    "    #Find bird in the list of bird counts\n",
    "    for entry in bird_counts:\n",
    "        if entry[0] == bird:\n",
    "            entry[1] = entry[1] + 1\n",
    "            found = True\n",
    "    if not found:\n",
    "        bird_counts.append([bird, 1])\n",
    "\n",
    "observations_file.close()\n",
    "for entry in bird_counts:\n",
    "    print(entry[0], entry[1])\n"
   ]
  },
  {
   "cell_type": "code",
   "execution_count": null,
   "metadata": {},
   "outputs": [],
   "source": []
  },
  {
   "cell_type": "code",
   "execution_count": 6,
   "metadata": {},
   "outputs": [
    {
     "name": "stdout",
     "output_type": "stream",
     "text": [
      "canada goose 5\n",
      "long-tailed jaeger 2\n",
      "snow goose 1\n",
      "northern fulmar 1\n"
     ]
    }
   ],
   "source": [
    "observations_file = open('observations.txt')\n",
    "bird_to_observations = {}\n",
    "\n",
    "for line in observations_file:\n",
    "    bird = line.strip()\n",
    "    if bird in bird_to_observations:\n",
    "        bird_to_observations[bird] = bird_to_observations[bird] + 1\n",
    "    else:\n",
    "        bird_to_observations[bird] = 1\n",
    "        \n",
    "observations_file.close()\n",
    "\n",
    "for bird, observations in bird_to_observations.items():\n",
    "    print(bird, observations)\n",
    "    "
   ]
  },
  {
   "cell_type": "code",
   "execution_count": 8,
   "metadata": {},
   "outputs": [
    {
     "name": "stdout",
     "output_type": "stream",
     "text": [
      "canada goose 5\n",
      "long-tailed jaeger 2\n",
      "snow goose 1\n",
      "northern fulmar 1\n"
     ]
    }
   ],
   "source": [
    "observations_file = open('observations.txt')\n",
    "bird_to_observations = {}\n",
    "\n",
    "for line in observations_file:\n",
    "    bird = line.strip()\n",
    "    bird_to_observations[bird] = bird_to_observations.get(bird, 0)+1    \n",
    "observations_file.close()\n",
    "\n",
    "for bird, observations in bird_to_observations.items():\n",
    "    print(bird, observations)\n",
    "    "
   ]
  },
  {
   "cell_type": "code",
   "execution_count": 10,
   "metadata": {},
   "outputs": [
    {
     "name": "stdout",
     "output_type": "stream",
     "text": [
      "canada goose 5\n",
      "long-tailed jaeger 2\n",
      "northern fulmar 1\n",
      "snow goose 1\n"
     ]
    }
   ],
   "source": [
    "sorted_birds = sorted(bird_to_observations.keys())\n",
    "for bird in sorted_birds:\n",
    "    print(bird, bird_to_observations[bird])"
   ]
  },
  {
   "cell_type": "code",
   "execution_count": 14,
   "metadata": {},
   "outputs": [],
   "source": [
    "observations_to_birds_list = {}\n",
    "for bird, observations in bird_to_observations.items():\n",
    "    if observations in observations_to_birds_list:\n",
    "        observations_to_birds_list[observations].append(bird)\n",
    "    else:\n",
    "        observations_to_birds_list[observations] = [bird]"
   ]
  },
  {
   "cell_type": "code",
   "execution_count": 1,
   "metadata": {},
   "outputs": [
    {
     "ename": "NameError",
     "evalue": "name 'observations_to_birds_list' is not defined",
     "output_type": "error",
     "traceback": [
      "\u001b[0;31m---------------------------------------------------------------------------\u001b[0m",
      "\u001b[0;31mNameError\u001b[0m                                 Traceback (most recent call last)",
      "\u001b[0;32m<ipython-input-1-8d9979e2d2c1>\u001b[0m in \u001b[0;36m<module>\u001b[0;34m\u001b[0m\n\u001b[0;32m----> 1\u001b[0;31m \u001b[0mobservations_sorted\u001b[0m \u001b[0;34m=\u001b[0m \u001b[0msorted\u001b[0m\u001b[0;34m(\u001b[0m\u001b[0mobservations_to_birds_list\u001b[0m\u001b[0;34m.\u001b[0m\u001b[0mkeys\u001b[0m\u001b[0;34m(\u001b[0m\u001b[0;34m)\u001b[0m\u001b[0;34m)\u001b[0m\u001b[0;34m\u001b[0m\u001b[0;34m\u001b[0m\u001b[0m\n\u001b[0m\u001b[1;32m      2\u001b[0m \u001b[0;32mfor\u001b[0m \u001b[0mobservations\u001b[0m \u001b[0;32min\u001b[0m \u001b[0mobservations_sorted\u001b[0m\u001b[0;34m:\u001b[0m\u001b[0;34m\u001b[0m\u001b[0;34m\u001b[0m\u001b[0m\n\u001b[1;32m      3\u001b[0m     \u001b[0mprint\u001b[0m\u001b[0;34m(\u001b[0m\u001b[0mobservations\u001b[0m\u001b[0;34m,\u001b[0m \u001b[0;34m\":\"\u001b[0m\u001b[0;34m,\u001b[0m \u001b[0mend\u001b[0m\u001b[0;34m=\u001b[0m\u001b[0;34m\"\"\u001b[0m\u001b[0;34m)\u001b[0m\u001b[0;34m\u001b[0m\u001b[0;34m\u001b[0m\u001b[0m\n\u001b[1;32m      4\u001b[0m     \u001b[0;32mfor\u001b[0m \u001b[0mbird\u001b[0m \u001b[0;32min\u001b[0m \u001b[0mobservations_to_birds_list\u001b[0m\u001b[0;34m[\u001b[0m\u001b[0mobservations\u001b[0m\u001b[0;34m]\u001b[0m\u001b[0;34m:\u001b[0m\u001b[0;34m\u001b[0m\u001b[0;34m\u001b[0m\u001b[0m\n\u001b[1;32m      5\u001b[0m         \u001b[0mprint\u001b[0m\u001b[0;34m(\u001b[0m\u001b[0;34m\" \"\u001b[0m\u001b[0;34m,\u001b[0m \u001b[0mbird\u001b[0m\u001b[0;34m,\u001b[0m \u001b[0mend\u001b[0m \u001b[0;34m=\u001b[0m\u001b[0;34m\"\"\u001b[0m\u001b[0;34m)\u001b[0m\u001b[0;34m\u001b[0m\u001b[0;34m\u001b[0m\u001b[0m\n",
      "\u001b[0;31mNameError\u001b[0m: name 'observations_to_birds_list' is not defined"
     ]
    }
   ],
   "source": [
    "observations_sorted = sorted(observations_to_birds_list.keys())\n",
    "for observations in observations_sorted:\n",
    "    print(observations, \":\", end=\"\")\n",
    "    for bird in observations_to_birds_list[observations]:\n",
    "        print(\" \", bird, end =\"\")\n",
    "    print()"
   ]
  },
  {
   "cell_type": "code",
   "execution_count": 4,
   "metadata": {},
   "outputs": [
    {
     "name": "stdout",
     "output_type": "stream",
     "text": [
      "----------------\n",
      "list sorting\n",
      "[10, 30, 50, 20]\n",
      "[10, 20, 30, 50]\n",
      "----------------\n",
      "simple dictionary sorting\n",
      "{'영희': 80, '철수': 90, '혜영': 70}\n",
      "딕셔너리 - VALUE 로 소팅\n",
      "[('혜영', 70), ('영희', 80), ('철수', 90)]\n",
      "딕셔너리 - KEY로 소팅\n",
      "[('영희', 80), ('철수', 90), ('혜영', 70)]\n",
      "----------------\n",
      "tuple 배열로 이뤄진 딕셔너리를 소팅 하기\n",
      "{'영희': (70, 100, 90), '철수': (90, 80, 70)}\n",
      "tuple 의 1번째 항목으로 소팅\n",
      "[('영희', (70, 100, 90)), ('철수', (90, 80, 70))]\n",
      "----------------\n",
      "딕셔너리 배열로 이뤄진 딕셔너리를 정렬하기\n",
      "{'영희': {'국어': 70, '수학': 100, '영어': 90}, '철수': {'국어': 90, '수학': 80, '영어': 70}}\n",
      "국어 성적으로 소팅\n",
      "[('영희', {'국어': 70, '수학': 100, '영어': 90}), ('철수', {'국어': 90, '수학': 80, '영어': 70})]\n",
      "영어 성적으로 소팅\n",
      "[('철수', {'국어': 90, '수학': 80, '영어': 70}), ('영희', {'국어': 70, '수학': 100, '영어': 90})]\n"
     ]
    }
   ],
   "source": [
    "#리스트와 딕셔너리 정렬하기\n",
    "\n",
    "import operator\n",
    "\n",
    "print(\"----------------\")\n",
    "print(\"list sorting\")\n",
    "list = [10, 30, 50, 20]\n",
    "print(list)\n",
    "list2 = list\n",
    "list.sort()\n",
    "print(list2)\n",
    "\n",
    "print(\"----------------\")\n",
    "print(\"simple dictionary sorting\")\n",
    "dic1 = {'영희':80, '철수':90, '혜영':70}\n",
    "print(dic1)\n",
    "print('딕셔너리 - VALUE 로 소팅')\n",
    "dic2 = sorted(dic1.items(), key=operator.itemgetter(1))\n",
    "print(dic2)\n",
    "\n",
    "print('딕셔너리 - KEY로 소팅')\n",
    "dic2 = sorted(dic1.items(), key=operator.itemgetter(0))\n",
    "print(dic2)\n",
    "\n",
    "print(\"----------------\")\n",
    "print('tuple 배열로 이뤄진 딕셔너리를 소팅 하기')\n",
    "\n",
    "data = {}\n",
    "data['영희'] = (80, 95, 90)\n",
    "data['철수'] = (90, 80, 70)\n",
    "data['영희'] = (70, 100, 90)\n",
    "\n",
    "print(data)\n",
    "\n",
    "print('tuple 의 1번째 항목으로 소팅')\n",
    "data2 = sorted(data.items(), key=lambda x : x[1][0], reverse = False)\n",
    "print(data2)\n",
    "\n",
    "print(\"----------------\")\n",
    "print('딕셔너리 배열로 이뤄진 딕셔너리를 정렬하기')\n",
    "data['영희'] = {'국어':80, '수학': 95,'영어': 90}\n",
    "data['철수'] = {'국어':90, '수학': 80,'영어': 70}\n",
    "data['영희'] = {'국어':70, '수학': 100,'영어': 90}\n",
    "print(data)\n",
    "\n",
    "print(\"국어 성적으로 소팅\")\n",
    "data2 = sorted(data.items(), key = lambda x:x[1]['국어'], reverse=False)\n",
    "print(data2)\n",
    "\n",
    "print(\"영어 성적으로 소팅\")\n",
    "data2 = sorted(data.items(), key = lambda x:x[1]['영어'], reverse=False)\n",
    "print(data2)\n",
    "\n"
   ]
  },
  {
   "cell_type": "code",
   "execution_count": 9,
   "metadata": {},
   "outputs": [
    {
     "name": "stdout",
     "output_type": "stream",
     "text": [
      "{'key': 3}\n",
      "2\n"
     ]
    }
   ],
   "source": [
    "a = {}\n",
    "\n",
    "a['key'] = 3\n",
    "print(a)\n",
    "\n",
    "b = {'aa':[2,3,4]}\n",
    "print(b['aa'][0])"
   ]
  }
 ],
 "metadata": {
  "kernelspec": {
   "display_name": "Python 3",
   "language": "python",
   "name": "python3"
  },
  "language_info": {
   "codemirror_mode": {
    "name": "ipython",
    "version": 3
   },
   "file_extension": ".py",
   "mimetype": "text/x-python",
   "name": "python",
   "nbconvert_exporter": "python",
   "pygments_lexer": "ipython3",
   "version": "3.7.3"
  }
 },
 "nbformat": 4,
 "nbformat_minor": 2
}
