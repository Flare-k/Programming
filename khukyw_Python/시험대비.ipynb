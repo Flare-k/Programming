{
 "cells": [
  {
   "cell_type": "markdown",
   "metadata": {},
   "source": [
    "# #클래스를 활용한 자판기."
   ]
  },
  {
   "cell_type": "code",
   "execution_count": 14,
   "metadata": {},
   "outputs": [
    {
     "name": "stdout",
     "output_type": "stream",
     "text": [
      "1:커피, 2:과자\n",
      "구동할 자판기를 선택하세요.1\n",
      "[커피 자판기 입니다.]\n",
      "동전을 넣어주세요.(단위: 100원) :100\n",
      "1:설탕커피(200원)2:프림커피(300원)3:원두커피(400원)\n",
      "원하시는 상품번호를 선택하세요.1\n",
      "선택하신 설탕커피 입니다. 거스름돈은 9800원 입니다.\n",
      "감사합니다.\n",
      "동전을 넣어주세요.(단위: 100원) :0\n",
      "1:설탕커피(200원)2:프림커피(300원)3:원두커피(400원)\n",
      "원하시는 상품번호를 선택하세요.2\n",
      "동전이 부족합니다. \n",
      " 거스름돈은 0원 입니다.\n",
      "동전을 넣어주세요.(단위: 100원) :-1\n",
      "1:설탕커피(200원)2:프림커피(300원)3:원두커피(400원)\n",
      "원하시는 상품번호를 선택하세요.as\n",
      "잘 못 누르셨습니다.\n",
      "1:설탕커피(200원)2:프림커피(300원)3:원두커피(400원)\n",
      "판매를 종료합니다.\n"
     ]
    }
   ],
   "source": [
    "import sys\n",
    "\n",
    "#가격은 100원 단위이므로 PRICE_UNIT 상수 값을 100으로 선언한다.\n",
    "PRICE_UNIT = 100\n",
    "\n",
    "class texts:\n",
    "    title          = \"[%s 자판기 입니다.]\"\n",
    "    product        = \"%s:%s(%s원)\"\n",
    "    insert_coin    = \"동전을 넣어주세요.(단위: 100원) :\"\n",
    "    n_enough_coin  = \"동전이 부족합니다. \\n 거스름돈은 %s원 입니다.\"\n",
    "    select_product = \"원하시는 상품번호를 선택하세요.\"\n",
    "    select_fault   =  \"잘 못 누르셨습니다.\"\n",
    "    product_out    = \"선택하신 %s 입니다. 거스름돈은 %s원 입니다.\\n감사합니다.\"\n",
    "    \n",
    "class Product:\n",
    "    #제품 종류, 가격을 코드 변경없이 데이터를 쉽게 추가하거나 변경할 수 있다.\n",
    "    productType = {\"1\":\"설탕커피\", \"2\":\"프림커피\", \"3\":\"원두커피\"}\n",
    "    productValue = {\"1\":200, \"2\":300, \"3\":400}\n",
    "    \n",
    "class CoffeeVM(Product):\n",
    "    _name = \"커피\"\n",
    "    \n",
    "    def __init__(self):\n",
    "        #사용자가 자판기 종류를 선택하면 _name 출력한다.\n",
    "        print(texts.title %self._name)    #'커피 자판기 입니다.' 출력\n",
    "        \n",
    "    def run(self):\n",
    "        while True:\n",
    "            try:\n",
    "                inputCoin = float(input(texts.insert_coin))\n",
    "            except ValueError:\n",
    "                #잘못된 값을 입력받으면 에러 메시지를 출력한다.\n",
    "                print(text.select_fault)\n",
    "            else:\n",
    "                self.selectProduct(inputCoin)\n",
    "                \n",
    "    def selectProduct(self, coin):\n",
    "        #제품 종류를 리스트로 선언하여 코드변경 없이 데이터를 동적으로 보여준다.\n",
    "        description = \"\"\n",
    "        for selection, item in Product.productType.items():\n",
    "            #제품 가격을 가져온다.\n",
    "            price = self.getProductValue(selection)\n",
    "            description += selection+':'+item+'('+str(price)+'원)'\n",
    "        \n",
    "        print(description)\n",
    "        inputProduct = input(texts.select_product)\n",
    "        productValue = self.getProductValue(inputProduct)\n",
    "        \n",
    "        #입력한 값에 해당하는 내용이 리스트에 없으면 0이 반환된다.\n",
    "        if productValue:\n",
    "            productName = self.getProductName(inputProduct)\n",
    "            self.payment(coin, productName, productValue)\n",
    "        else:\n",
    "            #잘못된 값을 입력받으면 에러 메시지를 출력하고 제품선택 메뉴로 이동한다.\n",
    "            print(texts.select_fault)\n",
    "            self.selectProduct(coin)\n",
    "            \n",
    "    def getProductValue(self, product):\n",
    "        returnValue = 0\n",
    "        for selection, value in Product.productValue.items():\n",
    "            if selection == product:\n",
    "                returnValue = value\n",
    "        return returnValue\n",
    "        \n",
    "    def getProductName(self, product):\n",
    "        for selection, name in Product.productType.items():\n",
    "            if selection == product:\n",
    "                return name\n",
    "                \n",
    "    def payment(self, coin, name, value):\n",
    "        coinValue = coin*PRICE_UNIT\n",
    "        if coinValue >= value:\n",
    "            balance = coinValue - value\n",
    "            print(texts.product_out %(name ,int(balance)))\n",
    "            \n",
    "        else:\n",
    "            print(texts.n_enough_coin %int(coinValue))\n",
    "            #지불을 마치면 초기 메뉴로 이동한다.\n",
    "            self.run()\n",
    "            \n",
    "#과자 클래스는 커피 클래스를 상속받는다.\n",
    "class SnackVM(CoffeeVM):\n",
    "    _name = \"과자\"\n",
    "    \n",
    "    def __init__(self):\n",
    "        #Product 제품 종류, 가격을 Overriding한다.\n",
    "        Product.productType = {\"1\":\"오징어칩\", \"2\":\"새우깡\", \"3\":\"프링글스\", \"4\":\"자갈치\"}\n",
    "        Product.productValue = {\"1\":400, \"2\":500, \"3\":600, \"4\":500}\n",
    "        #사용자가 자판기 종류를 선택하면 _name 출력한다.\n",
    "        print(texts.title %self._name)\n",
    "                                \n",
    "                                \n",
    "if __name__ == '__main__':\n",
    "    print(\"1:커피, 2:과자\")\n",
    "    select_vm = input(\"구동할 자판기를 선택하세요.\").strip()\n",
    "        \n",
    "    if select_vm == \"1\":\n",
    "        vm = CoffeeVM()\n",
    "    elif select_vm == \"2\":\n",
    "        vm = SnackVM()\n",
    "    else:\n",
    "        print(\"잘 못 누르셨습니다. 다시 실행 해 주세요\")\n",
    "        sys.exit(-1)\n",
    "    try:\n",
    "        vm.run()\n",
    "    except KeyboardInterrupt as exc:\n",
    "        print(\"판매를 종료합니다.\")"
   ]
  },
  {
   "cell_type": "markdown",
   "metadata": {},
   "source": [
    "# 미사일 궤도추적."
   ]
  },
  {
   "cell_type": "code",
   "execution_count": null,
   "metadata": {},
   "outputs": [],
   "source": [
    "import math\n",
    "from math import pow, ceil\n",
    "from matplotlib import pyplot as plt #plt라는 이름으로 사용할 것\n",
    "\n",
    "GRAVITY = 9.81\n",
    "INTERVAL = 0.001\n",
    "\n",
    "def timeArray(start, end, step):\n",
    "    times = []\n",
    "    while start < end:\n",
    "        times.append(start)\n",
    "        start += step\n",
    "    return times\n",
    "\n",
    "#포물선을 그리는 \n",
    "\n"
   ]
  },
  {
   "cell_type": "markdown",
   "metadata": {},
   "source": [
    "# #달력만들기"
   ]
  },
  {
   "cell_type": "code",
   "execution_count": 51,
   "metadata": {},
   "outputs": [
    {
     "name": "stdout",
     "output_type": "stream",
     "text": [
      "연도를 입력하세요(ex. YYYY):2018\n",
      "월을 입력하세요(1~12):1\n",
      "        January   2018\n",
      "---------------------------\n",
      "일   월   화  수   목   금  토\n",
      "     1   2   3   4   5   6  \n",
      " 7   8   9  10  11  12  13  \n",
      "14  15  16  17  18  19  20  \n",
      "21  22  23  24  25  26  27  \n",
      "28  29  30  31  \n",
      "\n"
     ]
    }
   ],
   "source": [
    "import datetime\n",
    "\n",
    "def getMonthName(month):\n",
    "    name=['January','February','March','April','May','June',\n",
    "        'July','August','Setember','October','November','December']\n",
    "    monthName = name[month-1]\n",
    "    return monthName\n",
    "\n",
    "def calendar(year, month):\n",
    "    print('       ',getMonthName(month),' ',year)\n",
    "    print('-'*27)\n",
    "    print('일   월   화  수   목   금  토')\n",
    "\n",
    "def getStartDay(year, month):\n",
    "    d=datetime.date(year, month, 1)  #d에 년,월,1일을 저장\n",
    "    return d.weekday()             #0을 월요일로 받음.\n",
    "              #2018,3월의 경우 1의 인덱스가 3이므로 목요일이 1일이다.\n",
    "def getLastDay(year, month):\n",
    "    if month == 12:\n",
    "        year += 1\n",
    "        month = 1\n",
    "    else:\n",
    "        month += 1\n",
    "    \n",
    "    d = datetime.date(year, month,1)  \n",
    "    t = datetime.timedelta(days = 1)\n",
    "    k = d-t\n",
    "    return k.day\n",
    "\n",
    "def body(year, month):\n",
    "    startday = getStartDay(year, month)\n",
    "    lastday = getLastDay(year, month)\n",
    "    \n",
    "    if startday == 6:\n",
    "        s = 1\n",
    "    else:\n",
    "        s = startday+2\n",
    "    c = 0\n",
    "    m = 0\n",
    "\n",
    "    for k in range(6):\n",
    "        for i in range(7):\n",
    "            c += 1\n",
    "            if c < s:\n",
    "                print('{:>2}'.format(' '),end='  ')\n",
    "            else:\n",
    "                if lastday>m:\n",
    "                    m += 1\n",
    "                    print('{:>2}'.format(m),end='  ')\n",
    "        print()\n",
    "    \n",
    "def Dal(year, month):\n",
    "    calendar(year, month)\n",
    "    body(year, month)\n",
    "    \n",
    "    \n",
    "#--main Function--\n",
    "year = eval(input('연도를 입력하세요(ex. YYYY):'))\n",
    "month = eval(input('월을 입력하세요(1~12):'))\n",
    "Dal(year, month)\n",
    "\n",
    "\n"
   ]
  },
  {
   "cell_type": "code",
   "execution_count": 49,
   "metadata": {},
   "outputs": [
    {
     "name": "stdout",
     "output_type": "stream",
     "text": [
      "2019-04-01\n",
      "0\n"
     ]
    }
   ],
   "source": [
    "print(datetime.date(2019,4,1))\n",
    "print(datetime.date(2019,4,1).weekday())\n"
   ]
  },
  {
   "cell_type": "code",
   "execution_count": 53,
   "metadata": {},
   "outputs": [
    {
     "name": "stdout",
     "output_type": "stream",
     "text": [
      "연도를 입력해주세요(ex,YYYY):2019\n",
      "월을 입력해주세요(1~12):4\n",
      "     April 2019\n",
      "Su Mo Tu We Th Fr Sa\n",
      "    1  2  3  4  5  6\n",
      " 7  8  9 10 11 12 13\n",
      "14 15 16 17 18 19 20\n",
      "21 22 23 24 25 26 27\n",
      "28 29 30\n",
      "\n"
     ]
    }
   ],
   "source": [
    "#모듈로 짤 경우.\n",
    "import calendar\n",
    "c = calendar.TextCalendar(calendar.SUNDAY)\n",
    "year = int(input(\"연도를 입력해주세요(ex,YYYY):\"))\n",
    "month = int(input(\"월을 입력해주세요(1~12):\"))\n",
    "cld = c.formatmonth(year,month)\n",
    "print(cld)"
   ]
  },
  {
   "cell_type": "markdown",
   "metadata": {},
   "source": [
    "# #리스트연습. (Method 중심)"
   ]
  },
  {
   "cell_type": "code",
   "execution_count": 39,
   "metadata": {},
   "outputs": [
    {
     "name": "stdout",
     "output_type": "stream",
     "text": [
      "[100, 97, 95, 88, 79]\n",
      "[100, 97, 95, 88, 79, 65]\n",
      "[100, 97, 95, 88, 79, 65, 93]\n",
      "[100, 97, 95, 88, 79, 65, 93]\n",
      "65의 개수: 1\n",
      "65의 인덱스 값: 5\n",
      ".[7]에 '99'를 추가한 경우: [100, 97, 95, 88, 79, 65, 93, 99]\n",
      "맨 마지막 요소를 제거한 경우: [100, 97, 95, 88, 79, 65, 93]\n",
      "97을 제거한 모습: [100, 95, 88, 79, 65, 93]\n",
      "순서를 거꾸로 한 모습: [93, 65, 79, 88, 95, 100]\n",
      "정렬한 모습 [65, 79, 88, 93, 95, 100]\n",
      "1번째 인덱스에 있는 값을 지운 모습: [65, 88, 93, 95, 100]\n"
     ]
    }
   ],
   "source": [
    "high_score = [100, 97, 95, 88, 79]\n",
    "print(high_score)\n",
    "\n",
    "high_score.append(65)  #객체를 리스트에 추가\n",
    "print(high_score)\n",
    "\n",
    "high_score.extend([93])  #리스트를 객체로 리스트에 추가\n",
    "print(high_score)\n",
    "\n",
    "z = high_score.copy()\n",
    "print(z)\n",
    "\n",
    "print(\"65의 개수:\",high_score.count(65))\n",
    "\n",
    "print(\"65의 인덱스 값:\",high_score.index(65))\n",
    "\n",
    "high_score.insert(7, 99)\n",
    "print(\".[7]에 '99'를 추가한 경우:\",high_score)\n",
    "\n",
    "high_score.pop()\n",
    "print(\"맨 마지막 요소를 제거한 경우:\",high_score)\n",
    "\n",
    "high_score.remove(97)\n",
    "print(\"97을 제거한 모습:\",high_score)\n",
    "\n",
    "high_score.reverse()\n",
    "print(\"순서를 거꾸로 한 모습:\",high_score)\n",
    "\n",
    "high_score.sort()\n",
    "print(\"정렬한 모습\",high_score)\n",
    "\n",
    "del high_score[1]\n",
    "print(\"1번째 인덱스에 있는 값을 지운 모습:\",high_score)\n",
    "\n"
   ]
  },
  {
   "cell_type": "markdown",
   "metadata": {},
   "source": [
    "# #조건문 연습."
   ]
  },
  {
   "cell_type": "code",
   "execution_count": 38,
   "metadata": {},
   "outputs": [
    {
     "name": "stdout",
     "output_type": "stream",
     "text": [
      "Enter your score:10\n",
      "Add your effort\n",
      "Thanks!\n",
      "Keep it up!\n"
     ]
    },
    {
     "data": {
      "text/plain": [
       "'    \\nnumber =1 \\nwhile number <= 10:\\n    print(number)\\n    number = number + 1\\n'"
      ]
     },
     "execution_count": 38,
     "metadata": {},
     "output_type": "execute_result"
    }
   ],
   "source": [
    "score = int(input(\"Enter your score:\"))\n",
    "\n",
    "great = [100, 90, 80, 88]\n",
    "\n",
    "if score > 70:\n",
    "    print(\"Did good job!\")\n",
    "else:\n",
    "    print(\"Add your effort\")\n",
    "    \n",
    "print(\"Thanks!\")\n",
    "\n",
    "if score not in great:\n",
    "    print(\"Keep it up!\")\n",
    "else:\n",
    "    print(\"You are great!\")\n",
    "\"\"\"    \n",
    "number =1 \n",
    "while number <= 10:\n",
    "    print(number)\n",
    "    number = number + 1\n",
    "\"\"\""
   ]
  },
  {
   "cell_type": "markdown",
   "metadata": {},
   "source": [
    "# #Function."
   ]
  },
  {
   "cell_type": "code",
   "execution_count": 37,
   "metadata": {},
   "outputs": [
    {
     "name": "stdout",
     "output_type": "stream",
     "text": [
      "5\n",
      "9\n",
      "1\n",
      "25\n",
      "Enter the first value: 5\n",
      "Enter the second value: 9\n",
      "Sum's Result:  14\n"
     ]
    }
   ],
   "source": [
    "arr = [1, 3, 5, 7, 9]\n",
    "print(len(arr))\n",
    "print(max(arr))\n",
    "print(min(arr))\n",
    "print(sum(arr))\n",
    "\n",
    "def add(x, y):\n",
    "    sum = x+y\n",
    "    return sum\n",
    "\n",
    "a = int(input(\"Enter the first value: \"))\n",
    "b = int(input(\"Enter the second value: \"))\n",
    "result = add(a, b)\n",
    "print(\"Sum's Result: \",result)"
   ]
  },
  {
   "cell_type": "markdown",
   "metadata": {},
   "source": [
    "# #Class."
   ]
  },
  {
   "cell_type": "markdown",
   "metadata": {},
   "source": [
    "> Class??? <br>\n",
    "  설계도와 같다. 설계도를 가지고 여러 개의 객체에 쓸 수 있다. <br>\n",
    "  \n",
    "> 객체지향??? <br>\n",
    "  속성과 기능을 포함한 프로그램 단위로 프로그램의 구성요소를 객체화하는 것."
   ]
  },
  {
   "cell_type": "code",
   "execution_count": 36,
   "metadata": {},
   "outputs": [
    {
     "name": "stdout",
     "output_type": "stream",
     "text": [
      "Ball01 color: Red\n",
      "Ball01 speed: 10\n",
      "Ball02 color: Blue\n",
      "Ball02 speed: 20\n"
     ]
    }
   ],
   "source": [
    "class Ball:\n",
    "    color = \"\"  #초기값을 없게 만듬\n",
    "    speed = 0\n",
    "    \n",
    "    def setSpeed(self, value):   #Method\n",
    "        self.speed = value   #이렇게 쓰면 해당객체에 만 쓰이게 된다.\n",
    "    \n",
    "ball01 = Ball()   #ball01은 Ball이라는 class를 가지고 만든다.\n",
    "ball01.color = \"Red\"\n",
    "ball01.setSpeed(10)\n",
    "\n",
    "ball02 = Ball()   #ball02은 Ball이라는 class를 가지고 만든다.\n",
    "ball02.color = \"Blue\"\n",
    "ball02.setSpeed(20)\n",
    "\n",
    "print(\"Ball01 color: %s\" %ball01.color)\n",
    "print(\"Ball01 speed: %d\" %ball01.speed)\n",
    "\n",
    "print(\"Ball02 color: %s\" %ball02.color)\n",
    "print(\"Ball02 speed: %d\" %ball02.speed)\n"
   ]
  },
  {
   "cell_type": "markdown",
   "metadata": {},
   "source": [
    "# #객체지향, 상속"
   ]
  },
  {
   "cell_type": "code",
   "execution_count": null,
   "metadata": {},
   "outputs": [],
   "source": [
    "class Ball:   #부모 class\n",
    "    color = \"\"  #초기값을 없게 만듬\n",
    "    speed = 0\n",
    "    \n",
    "    def setSpeed(self, value):   #Method\n",
    "        self.speed = value    #class에 쓰는 변수를 self에.. \n",
    "\n",
    "class redBall(Ball):     #자식 class\n",
    "    color = \"Real Red\"\n",
    "        \n",
    "        \n",
    "        \n",
    "ball01 = Ball()   #ball01은 Ball이라는 class를 가지고 만든다.\n",
    "ball01.color = \"Red\"\n",
    "ball01.setSpeed(10)\n",
    "\n",
    "ball02 = Ball()   #ball02은 Ball이라는 class를 가지고 만든다.\n",
    "ball02.color = \"Blue\"\n",
    "ball02.setSpeed(20)\n",
    "\n",
    "redBall01 = redBall()\n",
    "redBall01.setSpeed(15)\n",
    "\n",
    "print(\"Ball01 color: %s\" %ball01.color)\n",
    "print(\"Ball01 speed: %d \\n\" %ball01.speed)\n",
    "\n",
    "print(\"Ball02 color: %s\" %ball02.color)\n",
    "print(\"Ball02 speed: %d \\n\" %ball02.speed)\n",
    "\n",
    "print(\"redBall01 color %s\" %redBall01.color)\n",
    "print(\"redBall01 speed %d \\n\" %redBall01.speed)"
   ]
  },
  {
   "cell_type": "markdown",
   "metadata": {},
   "source": [
    "# #숫자 야구게임"
   ]
  },
  {
   "cell_type": "code",
   "execution_count": 1,
   "metadata": {},
   "outputs": [
    {
     "name": "stdout",
     "output_type": "stream",
     "text": [
      "숫자야구게임을 시작합니다 !!!\n",
      "---------------------------\n",
      "숫자 3자리를 입력하세요 : 1 2 3\n",
      "결과 : [ 0 ] Strike [ 1 ] Ball\n",
      "숫자 3자리를 입력하세요 : 3 21 \n",
      "결과 : [ 0 ] Strike [ 1 ] Ball\n",
      "숫자 3자리를 입력하세요 : 345\n",
      "결과 : [ 0 ] Strike [ 2 ] Ball\n",
      "숫자 3자리를 입력하세요 : 456\n",
      "결과 : [ 0 ] Strike [ 1 ] Ball\n",
      "숫자 3자리를 입력하세요 : 666\n",
      "결과 : [ 0 ] Strike [ 0 ] Ball\n",
      "숫자 3자리를 입력하세요 : 123\n",
      "결과 : [ 1 ] Strike [ 1 ] Ball\n",
      "숫자 3자리를 입력하세요 : 573\n",
      "결과 : [ 2 ] Strike [ 0 ] Ball\n",
      "숫자 3자리를 입력하세요 : 576\n",
      "결과 : [ 1 ] Strike [ 0 ] Ball\n",
      "숫자 3자리를 입력하세요 : 873\n",
      "결과 : [ 1 ] Strike [ 0 ] Ball\n",
      "숫자 3자리를 입력하세요 : 563\n",
      "결과 : [ 2 ] Strike [ 0 ] Ball\n",
      "숫자 3자리를 입력하세요 : 543\n",
      "결과 : [ 2 ] Strike [ 0 ] Ball\n",
      "숫자 3자리를 입력하세요 : 503\n",
      "결과 : [ 2 ] Strike [ 0 ] Ball\n",
      "숫자 3자리를 입력하세요 : 593\n",
      "결과 : [ 2 ] Strike [ 0 ] Ball\n",
      "숫자 3자리를 입력하세요 : 583\n",
      "결과 : [ 2 ] Strike [ 0 ] Ball\n",
      "숫자 3자리를 입력하세요 : 553\n",
      "결과 : [ 2 ] Strike [ 1 ] Ball\n",
      "숫자 3자리를 입력하세요 : 533\n",
      "결과 : [ 2 ] Strike [ 1 ] Ball\n",
      "숫자 3자리를 입력하세요 : 523\n",
      "결과 : [ 2 ] Strike [ 0 ] Ball\n",
      "숫자 3자리를 입력하세요 : 513\n",
      "결과 : [ 3 ] Strike [ 0 ] Ball\n",
      "---------------------------\n",
      "18 번 만에 정답을 맞추셨습니다.\n"
     ]
    }
   ],
   "source": [
    "import random    \n",
    "    # 게임을 위한 랜덤 숫자 생성\n",
    "rn = [\"0\", \"0\", \"0\"]\n",
    "rn[0] = str(random.randrange(1, 9, 1))  #1이상 9미만 1의 배수 리턴\n",
    "rn[1] = rn[0]\n",
    "rn[2] = rn[0]\n",
    "while (rn[0] == rn[1]):\n",
    "    rn[1] = str(random.randrange(1, 9, 1))\n",
    "while (rn[0] == rn[2] or rn[1] == rn[2]):\n",
    "    rn[2] = str(random.randrange(1, 9, 1))\n",
    "\n",
    "#print(rn)\n",
    "\n",
    "t_cnt = 0 # 시도횟수\n",
    "s_cnt = 0 # 스트라이크 갯수\n",
    "b_cnt = 0 # 볼 갯수\n",
    "\n",
    "print(\"숫자야구게임을 시작합니다 !!!\")\n",
    "print(\"---------------------------\")\n",
    "while ( s_cnt < 3 ):\n",
    "\n",
    "    num = str(input(\"숫자 3자리를 입력하세요 : \"))\n",
    "\n",
    "    s_cnt = 0\n",
    "    b_cnt = 0\n",
    "\n",
    "    for i in range(0, 3):\n",
    "         for j in range(0, 3):\n",
    "            if(num[i] == str(rn[j]) and i == j):\n",
    "                s_cnt += 1\n",
    "            elif(num[i] == str(rn[j]) and i != j):\n",
    "                b_cnt += 1\n",
    "    print(\"결과: [\", s_cnt, \"] Strike, [\", b_cnt, \"] Ball\")\n",
    "    t_cnt += 1\n",
    "print(\"---------------------------\")\n",
    "print(t_cnt, \"번 만에 정답을 맞추셨습니다.\")"
   ]
  },
  {
   "cell_type": "markdown",
   "metadata": {},
   "source": [
    "# #성적만들기"
   ]
  },
  {
   "cell_type": "code",
   "execution_count": 60,
   "metadata": {},
   "outputs": [
    {
     "name": "stdout",
     "output_type": "stream",
     "text": [
      "학생 이름을 입력하시오 : 2\n",
      "국어 점수 : 21\n",
      "영어 점수 : 21\n",
      "수학 점수 : 3\n",
      "합산: 45 평균: 15\n",
      ">> 성적: 가\n",
      "학생 이름을 입력하시오 : 21\n",
      "국어 점수 : 21\n",
      "영어 점수 : 24\n",
      "수학 점수 : 14\n",
      "합산: 59 평균: 19\n",
      ">> 성적: 가\n",
      "학생 이름을 입력하시오 : 개\n",
      "국어 점수 : 100\n",
      "영어 점수 : 29\n",
      "수학 점수 : 39\n",
      "합산: 168 평균: 56\n",
      ">> 성적: 가\n"
     ]
    }
   ],
   "source": [
    "for x in range(3) :\n",
    "\n",
    "    name = input(\"학생 이름을 입력하시오 : \")\n",
    "\n",
    "    korea = int(input(\"국어 점수 : \"))\n",
    "    english = int(input(\"영어 점수 : \"))\n",
    "    math = int(input(\"수학 점수 : \"))\n",
    "\n",
    "    sum = korea + english + math\n",
    "    avg = sum/3\n",
    "\n",
    "    print(\"합산:\",sum,\"평균:\",int(avg))\n",
    "\n",
    "    if avg >= 95:\n",
    "        print(\">> 성적: A\")\n",
    "    elif 80 <= avg < 95:\n",
    "        print(\">> 성적: B\")\n",
    "    elif 70 <= avg < 80:\n",
    "        print(\">> 성적: C\")\n",
    "    elif 60 <= avg < 70:\n",
    "        print(\">> 성적: D\")\n",
    "    else:\n",
    "        print(\">> 성적: F\")\n",
    "\n",
    "\n",
    "\n",
    "#출처: https://kanonxkanon.tistory.com/2298 [Monochrome :)]"
   ]
  },
  {
   "cell_type": "markdown",
   "metadata": {},
   "source": [
    "# #학점계산기"
   ]
  },
  {
   "cell_type": "code",
   "execution_count": 2,
   "metadata": {},
   "outputs": [
    {
     "name": "stdout",
     "output_type": "stream",
     "text": [
      "Start of Exam Grader Program\n",
      "============================\n",
      "과목 수를 입력하세요: \n",
      "3\n",
      "과목수는:  3\n",
      "1번째 과목의 점수를 입력하세요 : 100\n",
      "2번째 과목의 점수를 입력하세요 : 90\n",
      "3번째 과목의 점수를 입력하세요 : 95\n",
      "A\n",
      "===========================\n",
      "End of Exam Grader Program\n"
     ]
    }
   ],
   "source": [
    "# 총 과목 수를 Console를 통해 받기\n",
    "# 첫 번째 수정\n",
    "def get_number_of_subjects():\n",
    "    # \"\"\"\n",
    "    # Input:\n",
    "    #     - None\n",
    "    # Output:\n",
    "    #     - number_of_subjects: Integer Type의 총 과목 수\n",
    "    # Examples(python shell):\n",
    "    #     >>> import exam_grader as eg\n",
    "    #     >>> eg.get_number_of_subjects()\n",
    "    #   과목수를 입력하세요: 10\n",
    "    #   10\n",
    "    # \"\"\"\n",
    "    #\n",
    "    # ===Modify codes below=================\n",
    "    number_of_subjects = None\n",
    "    print(\"과목 수를 입력하세요: \")\n",
    "    input_number = int(input()) # 과목의 수를 정수형태로 입력받는다\n",
    "    number_of_subjects = input_number\n",
    "    # ======================================\n",
    "    print(\"과목수는: \", number_of_subjects)\n",
    "    return number_of_subjects\n",
    " \n",
    "def sum_of_scores(number_of_subjects):\n",
    "    total_score = 0\n",
    "    for i in range(number_of_subjects):\n",
    "        message = str(i + 1) + \"번째 과목의 점수를 입력하세요 : \"\n",
    "        score = int(input(message))\n",
    "        total_score = total_score + score\n",
    "    return total_score\n",
    " \n",
    "def print_exam_grader(average_score):\n",
    "    grade = 'F'\n",
    "    if average_score >= 90.0:\n",
    "        grade = 'A'\n",
    "    elif average_score >= 80.0:\n",
    "        grade = 'B'\n",
    "    elif average_score >= 70.0:\n",
    "        grade = 'C'\n",
    "    elif average_score >= 60.0:\n",
    "        grade = 'D'\n",
    "    else:\n",
    "        grade = 'F'\n",
    "    print(grade)\n",
    "\n",
    "#get_average_score함수 생성하기\n",
    "def get_average_score(total_score, number_of_subjects):\n",
    "    result = None\n",
    "    result = float(total_score)/number_of_subjects\n",
    "    return result\n",
    " \n",
    "def main():\n",
    "    print(\"Start of Exam Grader Program\")\n",
    "    print(\"============================\")\n",
    " \n",
    "    number_of_subjects = get_number_of_subjects()\n",
    "    total_score = sum_of_scores(number_of_subjects)\n",
    "    average_score = get_average_score(total_score=total_score, number_of_subjects=number_of_subjects)\n",
    "    print_exam_grader(average_score)\n",
    "    print(\"===========================\")\n",
    "    print(\"End of Exam Grader Program\")\n",
    "\n",
    "if __name__ == '__main__':\n",
    "    main()"
   ]
  },
  {
   "cell_type": "markdown",
   "metadata": {},
   "source": [
    "# #할인계산\n",
    "1. xx랜드에서 4월생일자 할인 이벤트를함.\n",
    "\n",
    "2. 한번구매시 반드시 자유이용권은 반드시 1장이상 구매해야함.\n",
    "\n",
    "3. 4월생일자 할인율 30%\n",
    "\n",
    "4. 4월생일자가 구매할 경우 동반입장하는 고객은 24% 할인율을 적용함.\n",
    "\n",
    "5. 단체할인율은 35%\n",
    "\n",
    "6. 4월생일자가 자유이용권을 4장이상 구매시 단체할인율 적용\n"
   ]
  },
  {
   "cell_type": "code",
   "execution_count": 63,
   "metadata": {},
   "outputs": [
    {
     "name": "stdout",
     "output_type": "stream",
     "text": [
      "자유이용권 갯수 : (종료: 0)3\n",
      "일반입장권 갯수 :2\n",
      "생년월일 :940421\n",
      "==== 4월 생일자 할인 적용 ====\n",
      "==== 4월 생일자 구매 기본할인 적용 ====\n",
      "생일 >> 940421\n",
      "할인금액 >> 42120 원\n",
      "총 금액 >> 179880 원\n",
      "자유이용권 갯수 : (종료: 0)0\n",
      "============== 프로그램 종료 ==============\n",
      "일반입장권 갯수 :0\n",
      "생년월일 :0\n",
      "생일 >> 0\n",
      "할인금액 >> 0 원\n",
      "총 금액 >> 0 원\n",
      "자유이용권 갯수 : (종료: 0)a\n"
     ]
    },
    {
     "ename": "ValueError",
     "evalue": "invalid literal for int() with base 10: 'a'",
     "output_type": "error",
     "traceback": [
      "\u001b[0;31m---------------------------------------------------------------------------\u001b[0m",
      "\u001b[0;31mValueError\u001b[0m                                Traceback (most recent call last)",
      "\u001b[0;32m<ipython-input-63-d29fc62286d7>\u001b[0m in \u001b[0;36m<module>\u001b[0;34m\u001b[0m\n\u001b[1;32m     46\u001b[0m \u001b[0;34m\u001b[0m\u001b[0m\n\u001b[1;32m     47\u001b[0m \u001b[0;32mwhile\u001b[0m \u001b[0;32mTrue\u001b[0m\u001b[0;34m:\u001b[0m\u001b[0;34m\u001b[0m\u001b[0;34m\u001b[0m\u001b[0m\n\u001b[0;32m---> 48\u001b[0;31m     \u001b[0mfeeCalculator\u001b[0m\u001b[0;34m(\u001b[0m\u001b[0;34m)\u001b[0m\u001b[0;34m\u001b[0m\u001b[0;34m\u001b[0m\u001b[0m\n\u001b[0m",
      "\u001b[0;32m<ipython-input-63-d29fc62286d7>\u001b[0m in \u001b[0;36mfeeCalculator\u001b[0;34m()\u001b[0m\n\u001b[1;32m      7\u001b[0m \u001b[0;34m\u001b[0m\u001b[0m\n\u001b[1;32m      8\u001b[0m     \u001b[0;31m# input\u001b[0m\u001b[0;34m\u001b[0m\u001b[0;34m\u001b[0m\u001b[0;34m\u001b[0m\u001b[0m\n\u001b[0;32m----> 9\u001b[0;31m     \u001b[0mi_free_count\u001b[0m \u001b[0;34m=\u001b[0m \u001b[0mint\u001b[0m\u001b[0;34m(\u001b[0m\u001b[0minput\u001b[0m\u001b[0;34m(\u001b[0m\u001b[0;34m'자유이용권 갯수 : (종료: 0)'\u001b[0m\u001b[0;34m)\u001b[0m\u001b[0;34m)\u001b[0m\u001b[0;34m\u001b[0m\u001b[0;34m\u001b[0m\u001b[0m\n\u001b[0m\u001b[1;32m     10\u001b[0m \u001b[0;34m\u001b[0m\u001b[0m\n\u001b[1;32m     11\u001b[0m     \u001b[0;31m# 자유이용권은 1장이상 필수 구매\u001b[0m\u001b[0;34m\u001b[0m\u001b[0;34m\u001b[0m\u001b[0;34m\u001b[0m\u001b[0m\n",
      "\u001b[0;31mValueError\u001b[0m: invalid literal for int() with base 10: 'a'"
     ]
    }
   ],
   "source": [
    "def feeCalculator():\n",
    "    free_price = 54000  # 금액_자유이용권\n",
    "    default_price = 30000  # 금액_일반입장권\n",
    "    birthday_discount = 0.3  # 할인율_4월 생일고객\n",
    "    companion_discount = 0.24  # 할인율_동반고객\n",
    "    group_discount = 0.35  # 할인율_단체고객\n",
    "\n",
    "    # input\n",
    "    i_free_count = int(input('자유이용권 갯수 : (종료: 0)'))\n",
    "\n",
    "    # 자유이용권은 1장이상 필수 구매\n",
    "    if i_free_count == 0:\n",
    "        print('============== 프로그램 종료 ==============')\n",
    "        quit()\n",
    "\n",
    "    i_default_count = int(input('일반입장권 갯수 :'))\n",
    "    i_birthday = input('생년월일 :')\n",
    "\n",
    "    # output\n",
    "    o_sale_price = 0\n",
    "    total_free_price = free_price * i_free_count  # 자유이용권 총금액\n",
    "    total_default_price = default_price * i_default_count  # 일반입장권 총금액\n",
    "    o_total_price = total_free_price + total_default_price  # 할인적용 안된 납부금액\n",
    "\n",
    "\n",
    "    # 4월 생일자 할인\n",
    "    if i_birthday[2:4] == '04':\n",
    "        print('==== 4월 생일자 할인 적용 ====')\n",
    "\n",
    "        # 4장이상 구매시 단체고객 할인율 적용\n",
    "        if i_free_count >= 4:\n",
    "            print('==== 4월 생일자 4장 이상 구매할인 적용 ====')\n",
    "            o_sale_price = total_free_price * group_discount\n",
    "\n",
    "        # 기본 생일자 할인율 적용\n",
    "        else:\n",
    "            print('==== 4월 생일자 구매 기본할인 적용 ====')\n",
    "            o_sale_price = (free_price * birthday_discount) + (free_price * (i_free_count - 1) * companion_discount)\n",
    "\n",
    "    o_total_price = o_total_price - o_sale_price  # 최종계산\n",
    "\n",
    "    print('생일 >> {}'.format(i_birthday))\n",
    "    print('할인금액 >> {} 원'.format(round(o_sale_price)))\n",
    "    print('총 금액 >> {} 원'.format(round(o_total_price)))\n",
    "\n",
    "\n",
    "while True:\n",
    "    feeCalculator()\n"
   ]
  },
  {
   "cell_type": "markdown",
   "metadata": {},
   "source": [
    "# #다각형을 그리는 함수"
   ]
  },
  {
   "cell_type": "code",
   "execution_count": 10,
   "metadata": {},
   "outputs": [],
   "source": [
    "import turtle as t\n",
    "\n",
    "def polygon(n):\n",
    "    for x in range(n):\n",
    "        t.forward(50)\n",
    "        t.left(360/n)\n",
    "        \n",
    "def polygon2(n, a):\n",
    "    for x in range(n):\n",
    "        t.forward(a)\n",
    "        t.left(360/n)\n",
    "        \n",
    "polygon(3)\n",
    "polygon(5)\n",
    "\n",
    "\n",
    "t.up()\n",
    "t.forward(100)\n",
    "t.down()\n",
    "\n",
    "polygon2(3, 75)\n",
    "polygon2(5, 100)\n",
    "\n"
   ]
  },
  {
   "cell_type": "markdown",
   "metadata": {},
   "source": [
    "# #왼손코딩"
   ]
  },
  {
   "cell_type": "code",
   "execution_count": null,
   "metadata": {},
   "outputs": [],
   "source": [
    "my_tuple = 1, 2, 3    #튜플로 패킹\n",
    "num1, num2, num3 = my_tuple #튜플을 언패킹\n",
    "print(my_tuple)\n",
    "print(num1)\n",
    "print(num2)\n",
    "print(num3)\n",
    "num1, num2 = num2, num1   #오른쪽에서 패킹을 하고 왼쪽에서 언패킹을 함\n",
    "print(num1)\n",
    "print(num2)\n",
    "\n",
    "for tuple in my_tuple:\n",
    "    print(tuple)"
   ]
  },
  {
   "cell_type": "code",
   "execution_count": null,
   "metadata": {},
   "outputs": [],
   "source": [
    "for i in range(1):\n",
    "    print(i)\n",
    "    \n",
    "for i in range(2,10):\n",
    "    for j in range(1, 10):\n",
    "        print(i,\"x\",j,\"=\",i*j)\n",
    "        \n",
    "# i의 첫번째 값을 넣고 두번째 반복문을 쭉 반복 그다음 순서대로...\n"
   ]
  },
  {
   "cell_type": "code",
   "execution_count": null,
   "metadata": {},
   "outputs": [],
   "source": [
    "#Comprehension\n",
    "\n",
    "numbers = [1,2,3,4,5,6,7,8,9,10]\n",
    "odd_numbers = []\n",
    "even_numbers = []\n",
    "for number in numbers:\n",
    "    if number%2 ==1:\n",
    "        odd_numbers.append(number)\n",
    "        print(number,\"은(는) 홀수입니다.\")\n",
    "    else:\n",
    "        even_numbers.append(number)\n",
    "        print(number,\"은(는) 짝수입니다.\")\n",
    "print(odd_numbers)\n",
    "print(even_numbers)\n",
    "\n",
    "[number for number in numbers if number%2 == 1]   #comprehension\n",
    "\n",
    "\"\"\"\n",
    "def cls():\n",
    "    print('\\n'*100)\n",
    "    \n",
    "cls()\n",
    "\n",
    "\"\"\""
   ]
  },
  {
   "cell_type": "code",
   "execution_count": 27,
   "metadata": {},
   "outputs": [
    {
     "name": "stdout",
     "output_type": "stream",
     "text": [
      "['강연욱', '최한나', '권태민', '조규현', '홍푸름', '신민철']\n",
      "False\n",
      "True\n",
      "False\n",
      "['강연욱', '최한나', '권태민', '조규현', '홍푸름', '신민철', '허동녕']\n"
     ]
    }
   ],
   "source": [
    "#Membership\n",
    "\n",
    "people = ['강연욱', '최한나', '권태민', '조규현', '홍푸름', '신민철']\n",
    "\n",
    "print(people)\n",
    "\n",
    "print('허동녕' in people)\n",
    "print('강연욱' in people)\n",
    "people.append('허동녕')\n",
    "print('허동녕' not in people)\n",
    "print(people)\n"
   ]
  },
  {
   "cell_type": "code",
   "execution_count": 26,
   "metadata": {},
   "outputs": [
    {
     "name": "stdout",
     "output_type": "stream",
     "text": [
      "횟수: 4\n",
      "횟수: 5\n",
      "횟수: 6\n",
      "횟수: 7\n",
      "횟수: 8\n"
     ]
    }
   ],
   "source": [
    "count = 0\n",
    "\n",
    "while count < 10:\n",
    "    count += 1\n",
    "    if count < 4:\n",
    "        continue\n",
    "    print(\"횟수:\",count)\n",
    "    if count == 8:\n",
    "        break;"
   ]
  },
  {
   "cell_type": "code",
   "execution_count": 4,
   "metadata": {},
   "outputs": [
    {
     "name": "stdout",
     "output_type": "stream",
     "text": [
      "(18, 80)\n",
      "18\n",
      "80\n"
     ]
    }
   ],
   "source": [
    "def add_mul(a, b):\n",
    "    return a+b, a*b\n",
    "\n",
    "print(add_mul(8,10))\n",
    "my_add, my_mul = add_mul(8, 10)\n",
    "print(my_add)\n",
    "print(my_mul)"
   ]
  },
  {
   "cell_type": "code",
   "execution_count": 59,
   "metadata": {},
   "outputs": [
    {
     "name": "stdout",
     "output_type": "stream",
     "text": [
      "c\n",
      "['e', 'c']\n",
      "[3, 14, 63, 54, 51, 37]\n",
      "9\n"
     ]
    }
   ],
   "source": [
    "import random\n",
    "\n",
    "students = ['a', 'b', 'c', 'd', 'e']\n",
    "print(random.choice(students))\n",
    "print(random.sample(students,2))    #(value, 개수)\n",
    "print(random.sample(range(1,64),6))  #로또\n",
    "print(random.randint(8,10))  #정해진 정수 랜덤으로"
   ]
  },
  {
   "cell_type": "markdown",
   "metadata": {},
   "source": [
    "# #오늘 날짜 구하기"
   ]
  },
  {
   "cell_type": "code",
   "execution_count": 6,
   "metadata": {},
   "outputs": [
    {
     "name": "stdout",
     "output_type": "stream",
     "text": [
      "2019-05-29 10:33:15.771304\n"
     ]
    }
   ],
   "source": [
    "import datetime\n",
    "\n",
    "date = datetime.datetime.now()\n",
    "\n",
    "\n",
    "print(date)"
   ]
  },
  {
   "cell_type": "markdown",
   "metadata": {},
   "source": [
    "# #왼손예제"
   ]
  },
  {
   "cell_type": "code",
   "execution_count": 6,
   "metadata": {},
   "outputs": [
    {
     "name": "stdout",
     "output_type": "stream",
     "text": [
      "Example:\n",
      "Greetings, friends.\n",
      "Coding complete? Click 'Check' to earn cool rewards!\n"
     ]
    }
   ],
   "source": [
    "def correct_sentence(text: str) -> str:\n",
    "    text = text[0].upper() + text[1:]\n",
    "    \n",
    "    if not text.endswith('.'):\n",
    "        text += '.'   \n",
    "    return text\n",
    "\n",
    "if __name__ == '__main__':\n",
    "    print(\"Example:\")\n",
    "    print(correct_sentence(\"greetings, friends\"))\n",
    "    \n",
    "    assert correct_sentence(\"greetings, friends\") == \"Greetings, friends.\"\n",
    "    assert correct_sentence(\"Greetings, friends\") == \"Greetings, friends.\"\n",
    "    assert correct_sentence(\"Greetings, friends.\") == \"Greetings, friends.\"\n",
    "\n",
    "print(\"Coding complete? Click 'Check' to earn cool rewards!\")"
   ]
  },
  {
   "cell_type": "code",
   "execution_count": 7,
   "metadata": {},
   "outputs": [
    {
     "name": "stdout",
     "output_type": "stream",
     "text": [
      "Done, Time to Check.\n",
      "Hi. My name is Kang and I'm 26 years old.\n"
     ]
    }
   ],
   "source": [
    "#입력받은 정보로 사람을 소개하는 함수를 작성하기\n",
    "def say_hi(name: str, age: int) -> str:\n",
    "    return \"Hi. My name is {} and I'm {} years old.\".format(name, age)\n",
    "\n",
    "if __name__ == '__main__':\n",
    "    assert say_hi(\"Alex\", 32) == \"Hi. My name is Alex and I'm 32 years old.\", \"First\"\n",
    "    assert say_hi(\"Frank\", 68) == \"Hi. My name is Frank and I'm 68 years old.\", \"Second\"\n",
    "    print(\"Done, Time to Check.\")\n",
    "    \n",
    "print(say_hi(\"Kang\", 26))"
   ]
  },
  {
   "cell_type": "code",
   "execution_count": 29,
   "metadata": {},
   "outputs": [
    {
     "name": "stdout",
     "output_type": "stream",
     "text": [
      "Example:\n",
      "Hello\n"
     ]
    }
   ],
   "source": [
    "#문자열에서 첫번째단어를 찾아라 점,공백,콤마로 시작될 수도 있다.\n",
    "def first_word(text:str)->str:\n",
    "    text = text.replace('.', ' ').replace(',', ' ').strip()\n",
    "    text = text.split()  #단어와 공백을 구분\n",
    "    #점과 콤마를 다 공백으로 바꾸고 앞뒤 공백을 제거해줌 \n",
    "    #문자열을 공백단위로 나눠줌 split\n",
    "    return text[0]\n",
    "if __name__ == '__main__':\n",
    "    print(\"Example:\")\n",
    "    print(first_word(\"Hello world\"))\n",
    "    \n",
    "    assert first_word(\"Hello world\") == \"Hello\"\n",
    "    assert first_word(\"a word\") == \"a\"\n",
    "    assert first_word(\"don't touch it\") == \"don't\"\n",
    "    "
   ]
  },
  {
   "cell_type": "code",
   "execution_count": 54,
   "metadata": {},
   "outputs": [
    {
     "name": "stdout",
     "output_type": "stream",
     "text": [
      "3\n",
      "6\n"
     ]
    }
   ],
   "source": [
    "#두개의 문자열이 주어짐, 두번째 인덱스를 찾아라.즉, sims면 첫번째 s가 아닌 두번째 s\n",
    "def find_secondindex(text:str, symbol: str)->[int, None]:\n",
    "    if text.count(symbol)<2:\n",
    "        return None\n",
    "    first = text.find(symbol)  #해당 단어의 첫 인덱스값을 저장\n",
    "    return text.find(symbol, first+1) #첫 인덱스의 다음값부터 찾게다라는 의미.\n",
    "                    \n",
    "print(find_secondindex(\"sims\",\"s\"))\n",
    "print(find_secondindex(\"He likes her.\", \"e\"))"
   ]
  },
  {
   "cell_type": "code",
   "execution_count": 3,
   "metadata": {},
   "outputs": [
    {
     "name": "stdout",
     "output_type": "stream",
     "text": [
      "A -> C\n",
      "A -> B\n",
      "C -> B\n",
      "A -> C\n",
      "B -> A\n",
      "B -> C\n",
      "A -> C\n",
      "None\n"
     ]
    }
   ],
   "source": [
    "#하노이 탑\n",
    "def T(N, Beg, Aux, End):\n",
    "    if N == 1:\n",
    "        print(Beg, '->', End)\n",
    "    else:\n",
    "        T(N-1, Beg, End, Aux)\n",
    "        T(1, Beg, Aux, End)\n",
    "        T(N-1, Aux, Beg, End)\n",
    "print(T(3,'A','B','C'))"
   ]
  },
  {
   "cell_type": "markdown",
   "metadata": {},
   "source": [
    "# #전화요금"
   ]
  },
  {
   "cell_type": "code",
   "execution_count": 6,
   "metadata": {},
   "outputs": [
    {
     "name": "stdout",
     "output_type": "stream",
     "text": [
      "음성 통화 시간(분)을 입력하세요:200\n",
      "문자 전송 건수를 입력하세요:100\n",
      "데이터 사용량(MB)을 입력하세요:100\n",
      "\n",
      "음성 통화요금: 8640\n",
      "문자 전송요금: 0\n",
      "데이터 요금: 0\n",
      "이달 통신 요금: 38640\n"
     ]
    }
   ],
   "source": [
    "voice = float(input(\"음성 통화 시간(분)을 입력하세요:\"))\n",
    "character = float(input(\"문자 전송 건수를 입력하세요:\"))\n",
    "data = float(input(\"데이터 사용량(MB)을 입력하세요:\"))\n",
    "\n",
    "v_over = voice - 100\n",
    "c_over = character - 200\n",
    "d_over = data - 300\n",
    "\n",
    "#음성 통화요금\n",
    "if v_over < 0:\n",
    "    v_pay = 0\n",
    "elif v_over <= 50:\n",
    "    v_pay = v_over*60*1.56\n",
    "elif v_over <= 100:\n",
    "    v_pay = v_over*60*1.44\n",
    "else:\n",
    "    v_pay = v_over*60*1.25\n",
    "#문자 전송요금    \n",
    "if c_over < 0:\n",
    "    c_pay = 0\n",
    "else:\n",
    "    c_pay = c_over*20\n",
    "#데이터 요금    \n",
    "if d_over < 0:\n",
    "    d_pay = 0\n",
    "else:\n",
    "    d_pay = d_over*55\n",
    "#총 통신 요금    \n",
    "pay = v_pay+c_pay+d_pay+30000\n",
    "print()\n",
    "print(\"음성 통화요금:\", int(v_pay))\n",
    "print(\"문자 전송요금:\", int(c_pay))\n",
    "print(\"데이터 요금:\", int(d_pay))\n",
    "print(\"이달 통신 요금:\", int(pay))\n"
   ]
  },
  {
   "cell_type": "markdown",
   "metadata": {},
   "source": [
    "# #컴퓨터와 가위바위보"
   ]
  },
  {
   "cell_type": "code",
   "execution_count": 13,
   "metadata": {},
   "outputs": [
    {
     "name": "stdout",
     "output_type": "stream",
     "text": [
      "1,2,3 중 하나를 선택하시오\n",
      "가위=1 , 바위=2, 보=3  :1\n",
      ">>당신이 졌습니다. 본인: 1 컴퓨터: 2\n",
      "1,2,3 중 하나를 선택하시오\n",
      "가위=1 , 바위=2, 보=3  :2\n",
      ">>비겼습니다. 본인: 2 컴퓨터: 2\n",
      "1,2,3 중 하나를 선택하시오\n",
      "가위=1 , 바위=2, 보=3  :3\n",
      ">>당신이 이겼습니다. 본인: 3 컴퓨터: 2\n",
      "1,2,3 중 하나를 선택하시오\n",
      "가위=1 , 바위=2, 보=3  :4\n",
      ">>당신이 이겼습니다. 본인: 4 컴퓨터: 2\n",
      ">>잘 못 입력하셨습니다.\n"
     ]
    }
   ],
   "source": [
    "import random\n",
    "\n",
    "com = random.randint(1,3)\n",
    "while True:\n",
    "    print(\"1,2,3 중 하나를 선택하시오\")\n",
    "    user = int(input(\"가위=1 , 바위=2, 보=3  :\"))\n",
    "     \n",
    "    if user == com:\n",
    "        print(\">>비겼습니다.\",\"본인:\",user,\"컴퓨터:\",com)\n",
    "    elif user > com:\n",
    "        print(\">>당신이 이겼습니다.\",\"본인:\",user,\"컴퓨터:\",com)\n",
    "    elif user < com:\n",
    "        print(\">>당신이 졌습니다.\",\"본인:\",user,\"컴퓨터:\",com)\n",
    "    if user >= 4:\n",
    "        print(\">>잘 못 입력하셨습니다.\")\n",
    "        break\n"
   ]
  },
  {
   "cell_type": "code",
   "execution_count": 12,
   "metadata": {},
   "outputs": [
    {
     "name": "stdout",
     "output_type": "stream",
     "text": [
      "1,2,3 중 하나를 선택하시오\n",
      "가위=1 , 바위=2, 보=3  :1\n",
      "\n",
      "컴퓨터가 이겼어요!\n",
      "당신은 가위 입니다.\n",
      "컴퓨터는 보 입니다.\n"
     ]
    }
   ],
   "source": [
    "import random\n",
    "\n",
    "print(\"1,2,3 중 하나를 선택하시오\")\n",
    "user = int(input(\"가위=1 , 바위=2, 보=3  :\"))\n",
    "com = random.randint(1,3)\n",
    "\n",
    "\n",
    "if user == com:\n",
    "    print(\">>비겼습니다.\",\"본인:\",user,\"컴퓨터:\",com)\n",
    "elif user == 1:\n",
    "    if com == 2:\n",
    "        print()\n",
    "        print(\"컴퓨터가 이겼어요!\")\n",
    "        print(\"당신은 가위 입니다.\")\n",
    "        print(\"컴퓨터는 보 입니다.\")\n",
    "    else:\n",
    "        print()"
   ]
  },
  {
   "cell_type": "markdown",
   "metadata": {},
   "source": [
    "# #암호화"
   ]
  },
  {
   "cell_type": "code",
   "execution_count": 36,
   "metadata": {},
   "outputs": [
    {
     "name": "stdout",
     "output_type": "stream",
     "text": [
      "bcdef\n"
     ]
    }
   ],
   "source": [
    "secret = \"abcde\"\n",
    "secret1 = \"\"\n",
    "\n",
    "for i in secret:\n",
    "    s = ord(i)\n",
    "    s = s+1\n",
    "    \n",
    "    ii = chr(s)\n",
    "    \n",
    "    secret1 = secret1+ii\n",
    "    \n",
    "print(secret1)\n",
    "\n",
    "#1씩 밀어서 암호화... Rot13, Caesar 같은 암호화.. "
   ]
  },
  {
   "cell_type": "code",
   "execution_count": null,
   "metadata": {},
   "outputs": [],
   "source": []
  },
  {
   "cell_type": "code",
   "execution_count": 41,
   "metadata": {},
   "outputs": [
    {
     "ename": "SyntaxError",
     "evalue": "invalid syntax (<ipython-input-41-0e11a37734bb>, line 17)",
     "output_type": "error",
     "traceback": [
      "\u001b[0;36m  File \u001b[0;32m\"<ipython-input-41-0e11a37734bb>\"\u001b[0;36m, line \u001b[0;32m17\u001b[0m\n\u001b[0;31m    solution(1'S'2'D'*3'T')\u001b[0m\n\u001b[0m                ^\u001b[0m\n\u001b[0;31mSyntaxError\u001b[0m\u001b[0;31m:\u001b[0m invalid syntax\n"
     ]
    }
   ],
   "source": [
    "import re\n",
    "\n",
    "def solution(dart_result):\n",
    "    shot = re.findall(r'\\d{1,2}[SDT][*#]?', dart_result)\n",
    "    opt = [1,1,1]\n",
    "    for i, s in enumerate(shot):\n",
    "        if s[-1] == '#':\n",
    "            opt[i] *= -1\n",
    "            shot[i] = shot[i][:-1]\n",
    "        elif s[-1] == '*':\n",
    "            opt[i] *= 2\n",
    "            shot[i] = shot[i][:-1]\n",
    "            if i:\n",
    "                opt[i-1] *= 2\n",
    "    point = [(int(s[:-1]) ** '0SDT'.find(s[-1]) * o) for s, o in zip(shot, opt)]\n",
    "    return sum(point)\n",
    "solution(1S2D*3T)"
   ]
  },
  {
   "cell_type": "code",
   "execution_count": 43,
   "metadata": {},
   "outputs": [
    {
     "name": "stdout",
     "output_type": "stream",
     "text": [
      "['#####', '# # #', '### #', '#  ##', '#####']\n",
      "['######', '###  #', '##  ##', ' #### ', ' #####', '### # ']\n"
     ]
    }
   ],
   "source": [
    "def secret(n, arr1, arr2):\n",
    "    print(['{0:b}'.format((i | j)).zfill(n).replace('0', ' ').replace('1', '#') for i, j in zip(arr1, arr2)])\n",
    "\n",
    "\n",
    "secret(5, [9, 20, 28, 18, 11], [30, 1, 21, 17, 28])\n",
    "secret(6, [46, 33, 33 ,22, 31, 50], [27 ,56, 19, 14, 14, 10])\n"
   ]
  },
  {
   "cell_type": "code",
   "execution_count": 45,
   "metadata": {},
   "outputs": [
    {
     "name": "stdout",
     "output_type": "stream",
     "text": [
      "#####\n",
      "# # #\n",
      "### #\n",
      "#  ##\n",
      "#####\n"
     ]
    }
   ],
   "source": [
    "def secret_map(n, arr1, arr2):\n",
    "    for i in range(n):\n",
    "        row = bin(arr1[i] | arr2[i])\n",
    "        row = row[2:]\n",
    "        row = row.zfill(n)\n",
    "        row = row.replace('0', ' ')\n",
    "        row = row.replace('1', '#')\n",
    "        print(row)\n",
    "\n",
    "secret_map(5, [9, 20, 28, 18, 11], [30, 1, 21, 17, 28])\n",
    "\n"
   ]
  },
  {
   "cell_type": "code",
   "execution_count": 46,
   "metadata": {},
   "outputs": [],
   "source": [
    "# #카이사르"
   ]
  },
  {
   "cell_type": "code",
   "execution_count": 60,
   "metadata": {},
   "outputs": [
    {
     "name": "stdout",
     "output_type": "stream",
     "text": [
      "암호화할 구문을 넣으세요>>kangyeonwook\n",
      "암호화할 숫자를 입력해주세요>>4\n",
      "O E R K C I S R A S S O "
     ]
    }
   ],
   "source": [
    "code = input(\"암호화할 구문을 넣으세요>>\")\n",
    "upcode = code.upper()\n",
    "\n",
    "choice = int(input(\"암호화할 숫자를 입력해주세요>>\"))\n",
    "\n",
    "for i in upcode:\n",
    "    newcode = ord(i)\n",
    "    newcode += choice\n",
    "    if newcode <= 64:\n",
    "        newcode += 26\n",
    "    elif newcode >= 91:\n",
    "        newcode -= 26\n",
    "    print(chr(newcode), end=\" \")\n"
   ]
  },
  {
   "cell_type": "code",
   "execution_count": 62,
   "metadata": {},
   "outputs": [
    {
     "name": "stdout",
     "output_type": "stream",
     "text": [
      "당신이 해독하고자 하는 암호문을 입력하세요>>asd\n",
      "프로그램이 해독한 카이사르 암호문 >> \n",
      "\n",
      "-10 : Q c T \n",
      "\n",
      "-9 : P b S \n",
      "\n",
      "-8 : O a R \n",
      "\n",
      "-7 : N ` Q \n",
      "\n",
      "-6 : M _ P \n",
      "\n",
      "-5 : L ^ O \n",
      "\n",
      "-4 : K ] N \n",
      "\n",
      "-3 : J \\ M \n",
      "\n",
      "-2 : I [ L \n",
      "\n",
      "-1 : H Z K \n",
      "\n",
      "0 : G Y J \n",
      "\n",
      "1 : F X I \n",
      "\n",
      "2 : E W H \n",
      "\n",
      "3 : D V G \n",
      "\n",
      "4 : C U F \n",
      "\n",
      "5 : B T E \n",
      "\n",
      "6 : A S D \n",
      "\n",
      "7 : Z R C \n",
      "\n",
      "8 : Y Q B \n",
      "\n",
      "9 : X P A \n",
      "\n",
      "10 : W O Z \n",
      "\n"
     ]
    }
   ],
   "source": [
    "def amho(su):\n",
    "    print(su, end=' : ')\n",
    "    for i in code:\n",
    "          num = ord(i)\n",
    "          num -= su\n",
    "          if num <= 64:\n",
    "              num += 26\n",
    "          elif num >= 91:\n",
    "              num -= 26\n",
    "          print(chr(num), end=' ')\n",
    "          \n",
    "    print(\"\\n\")\n",
    "          \n",
    "code = input(\"당신이 해독하고자 하는 암호문을 입력하세요>>\")\n",
    "print(\"프로그램이 해독한 카이사르 암호문 >> \\n\")\n",
    "for i in range(-10,11):\n",
    "          amho(i)"
   ]
  },
  {
   "cell_type": "markdown",
   "metadata": {},
   "source": [
    "# 숫자 Up&Down 게임"
   ]
  },
  {
   "cell_type": "code",
   "execution_count": 8,
   "metadata": {},
   "outputs": [
    {
     "name": "stdout",
     "output_type": "stream",
     "text": [
      "1~100 숫자 Up & Down 게임을 시작합니다 !!!\n",
      "---------------------------\n",
      "1 ~ 100 사이의 숫자를 입력하세요 : 10\n",
      "Up\n",
      "1 ~ 100 사이의 숫자를 입력하세요 : 20\n",
      "Up\n",
      "1 ~ 100 사이의 숫자를 입력하세요 : 30\n",
      "Up\n",
      "1 ~ 100 사이의 숫자를 입력하세요 : 40\n",
      "Up\n",
      "1 ~ 100 사이의 숫자를 입력하세요 : 50\n",
      "Up\n",
      "1 ~ 100 사이의 숫자를 입력하세요 : 60\n",
      "Down\n",
      "1 ~ 100 사이의 숫자를 입력하세요 : 51\n",
      "Up\n",
      "1 ~ 100 사이의 숫자를 입력하세요 : 57\n",
      "---------------------------\n",
      "8 번 만에 정답을 맞추셨습니다.\n"
     ]
    }
   ],
   "source": [
    "import random\n",
    "\n",
    "# 게임을 위한 랜덤 숫자 생성\n",
    "\n",
    "rn = random.randrange(1, 101, 1)\n",
    "num = -1\n",
    "\n",
    "t_cnt = 0 # 시도횟수\n",
    "\n",
    "print(\"1~100 숫자 Up & Down 게임을 시작합니다 !!!\")\n",
    "print(\"---------------------------\")\n",
    "while ( rn != num ):\n",
    "\n",
    "    num = int(input(\"1 ~ 100 사이의 숫자를 입력하세요 : \"))\n",
    "\n",
    "    if (num > rn):\n",
    "        print(\"Down\")\n",
    "    elif (num < rn):\n",
    "        print(\"Up\")\n",
    "\n",
    "    t_cnt += 1\n",
    "print(\"---------------------------\")\n",
    "print(t_cnt, \"번 만에 정답을 맞추셨습니다.\")"
   ]
  },
  {
   "cell_type": "markdown",
   "metadata": {},
   "source": [
    "# 로또 생성기"
   ]
  },
  {
   "cell_type": "code",
   "execution_count": 10,
   "metadata": {},
   "outputs": [
    {
     "name": "stdout",
     "output_type": "stream",
     "text": [
      "lotto 게임 수를 입력하세요 : 3\n",
      "lotto 자동 번호 입니다.\n",
      "----------------------\n",
      "[11, 27, 28, 29, 30, 39]\n",
      "[23, 30, 31, 33, 40, 42]\n",
      "[14, 17, 26, 33, 40, 43]\n"
     ]
    }
   ],
   "source": [
    "import random\n",
    "\n",
    "num = int(input(\"lotto 게임 수를 입력하세요 : \"))\n",
    "\n",
    "print(\"lotto 자동 번호 입니다.\")\n",
    "print(\"----------------------\")\n",
    "# 입력한 게임 수 만큼 반복\n",
    "for x in range(1, num+1):\n",
    "    lotto = [0, 0, 0, 0, 0, 0]\n",
    "\n",
    "    lotto[0] = random.randrange(1, 46, 1)\n",
    "\n",
    "    lotto[1] = lotto[0]\n",
    "    lotto[2] = lotto[0]\n",
    "    lotto[3] = lotto[0]\n",
    "    lotto[4] = lotto[0]\n",
    "    lotto[5] = lotto[0]\n",
    "\n",
    "    # 중복된 수가 발생되지 않도록 채번\n",
    "    while (lotto[0] == lotto[1]):\n",
    "        lotto[1] = random.randrange(1, 46, 1)\n",
    "    while (lotto[0] == lotto[2] or lotto[1] == lotto[2]):\n",
    "        lotto[2] = random.randrange(1, 46, 1)\n",
    "    while (lotto[0] == lotto[3] or lotto[1] == lotto[3] or lotto[2] == lotto[3]):\n",
    "        lotto[3] = random.randrange(1, 46, 1)\n",
    "    while (lotto[0] == lotto[4] or lotto[1] == lotto[4] or lotto[2] == lotto[4] or lotto[3] == lotto[4]):\n",
    "        lotto[4] = random.randrange(1, 46, 1)\n",
    "    while (lotto[0] == lotto[5] or lotto[1] == lotto[5] or lotto[2] == lotto[5] or lotto[3] == lotto[5] or lotto[4] == lotto[5]):\n",
    "        lotto[5] = random.randrange(1, 46, 1)\n",
    "\n",
    "    # 결과를 정렬\n",
    "    lotto.sort()\n",
    "\n",
    "    # 결과 출력\n",
    "    print(lotto)"
   ]
  },
  {
   "cell_type": "code",
   "execution_count": 12,
   "metadata": {},
   "outputs": [
    {
     "name": "stdout",
     "output_type": "stream",
     "text": [
      "===========================================================================================\n",
      "        정답수:         0개          1개          2개          3개          4개          5개\n",
      "===========================================================================================\n",
      "횟수(    1000):      0.244000     0.373000     0.272000     0.098000     0.012000     0.001000\n",
      "===========================================================================================\n",
      "횟수(    5000):      0.241000     0.387200     0.265400     0.090600     0.014800     0.001000\n",
      "===========================================================================================\n",
      "횟수(   10000):      0.248100     0.390600     0.259500     0.085600     0.015000     0.001200\n",
      "===========================================================================================\n",
      "횟수(   50000):      0.238100     0.393760     0.263660     0.088340     0.015060     0.001080\n",
      "===========================================================================================\n",
      "횟수(  100000):      0.237360     0.395070     0.263340     0.088220     0.014930     0.001080\n",
      "===========================================================================================\n"
     ]
    },
    {
     "ename": "KeyboardInterrupt",
     "evalue": "",
     "output_type": "error",
     "traceback": [
      "\u001b[0;31m---------------------------------------------------------------------------\u001b[0m",
      "\u001b[0;31mKeyboardInterrupt\u001b[0m                         Traceback (most recent call last)",
      "\u001b[0;32m<ipython-input-12-721a04933622>\u001b[0m in \u001b[0;36m<module>\u001b[0;34m\u001b[0m\n\u001b[1;32m      9\u001b[0m     \u001b[0mcnt\u001b[0m \u001b[0;34m=\u001b[0m \u001b[0;36m0\u001b[0m\u001b[0;34m;\u001b[0m\u001b[0;34m\u001b[0m\u001b[0;34m\u001b[0m\u001b[0m\n\u001b[1;32m     10\u001b[0m     \u001b[0;32mfor\u001b[0m \u001b[0mn\u001b[0m \u001b[0;32min\u001b[0m \u001b[0mrange\u001b[0m\u001b[0;34m(\u001b[0m\u001b[0;36m5\u001b[0m\u001b[0;34m)\u001b[0m\u001b[0;34m:\u001b[0m\u001b[0;31m#\u001b[0m\u001b[0;34m\u001b[0m\u001b[0;34m\u001b[0m\u001b[0m\n\u001b[0;32m---> 11\u001b[0;31m         \u001b[0mrnd1\u001b[0m \u001b[0;34m=\u001b[0m \u001b[0mrandom\u001b[0m\u001b[0;34m.\u001b[0m\u001b[0mrandint\u001b[0m\u001b[0;34m(\u001b[0m\u001b[0;36m0\u001b[0m\u001b[0;34m,\u001b[0m \u001b[0;36m4\u001b[0m\u001b[0;34m)\u001b[0m\u001b[0;31m#문제\u001b[0m\u001b[0;34m\u001b[0m\u001b[0;34m\u001b[0m\u001b[0m\n\u001b[0m\u001b[1;32m     12\u001b[0m         \u001b[0mrnd2\u001b[0m \u001b[0;34m=\u001b[0m \u001b[0mrandom\u001b[0m\u001b[0;34m.\u001b[0m\u001b[0mrandint\u001b[0m\u001b[0;34m(\u001b[0m\u001b[0;36m0\u001b[0m\u001b[0;34m,\u001b[0m \u001b[0;36m4\u001b[0m\u001b[0;34m)\u001b[0m\u001b[0;31m#답\u001b[0m\u001b[0;34m\u001b[0m\u001b[0;34m\u001b[0m\u001b[0m\n\u001b[1;32m     13\u001b[0m         \u001b[0;32mif\u001b[0m \u001b[0mrnd1\u001b[0m \u001b[0;34m==\u001b[0m \u001b[0mrnd2\u001b[0m\u001b[0;34m:\u001b[0m\u001b[0;31m#문제와 답이 같다면\u001b[0m\u001b[0;34m\u001b[0m\u001b[0;34m\u001b[0m\u001b[0m\n",
      "\u001b[0;31mKeyboardInterrupt\u001b[0m: "
     ]
    }
   ],
   "source": [
    "from numpy import random \n",
    "\n",
    "D = {0:0, 1:0, 2:0, 3:0, 4:0, 5:0 } \n",
    "count = 0; \n",
    "print(\"===========================================================================================\") \n",
    "print(\"%11s:%10d개 %10d개 %10d개 %10d개 %10d개 %10d개\"%(\"정답수\", 0, 1, 2, 3, 4, 5)) \n",
    "print(\"===========================================================================================\") \n",
    "for i in range(10000000): \n",
    "    cnt = 0; \n",
    "    for n in range(5):# \n",
    "        rnd1 = random.randint(0, 4)#문제 \n",
    "        rnd2 = random.randint(0, 4)#답 \n",
    "        if rnd1 == rnd2:#문제와 답이 같다면 \n",
    "            cnt = cnt + 1 \n",
    "\n",
    "    D[cnt] = D[cnt] + 1 \n",
    "\n",
    "    if (i+1) == 1000 or (i+1) == 5000 or (i+1) == 10000 or (i+1) == 50000 or (i+1) == 100000 or (i+1) == 5000000 or (i+1) == 10000000: \n",
    "        print(\"횟수(%8d):%14f %12f %12f %12f %12f %12f\" % ((i + 1), D[0] / (i+1), D[1] / (i+1), D[2] / (i+1), D[3] / (i+1), D[4] / (i+1), D[5] / (i+1))) \n",
    "        print(\"===========================================================================================\")\n"
   ]
  },
  {
   "cell_type": "code",
   "execution_count": 1,
   "metadata": {
    "scrolled": true
   },
   "outputs": [
    {
     "name": "stdout",
     "output_type": "stream",
     "text": [
      "20\n"
     ]
    },
    {
     "ename": "IndexError",
     "evalue": "list index out of range",
     "output_type": "error",
     "traceback": [
      "\u001b[0;31m---------------------------------------------------------------------------\u001b[0m",
      "\u001b[0;31mIndexError\u001b[0m                                Traceback (most recent call last)",
      "\u001b[0;32m<ipython-input-1-da2ee9e29b5c>\u001b[0m in \u001b[0;36m<module>\u001b[0;34m\u001b[0m\n\u001b[1;32m      6\u001b[0m     \u001b[0marr\u001b[0m\u001b[0;34m=\u001b[0m\u001b[0mk\u001b[0m\u001b[0;34m.\u001b[0m\u001b[0msplit\u001b[0m\u001b[0;34m(\u001b[0m\u001b[0;34m\" \"\u001b[0m\u001b[0;34m)\u001b[0m\u001b[0;34m\u001b[0m\u001b[0;34m\u001b[0m\u001b[0m\n\u001b[1;32m      7\u001b[0m     \u001b[0;32mfor\u001b[0m \u001b[0mj\u001b[0m \u001b[0;32min\u001b[0m \u001b[0mrange\u001b[0m\u001b[0;34m(\u001b[0m\u001b[0;36m4\u001b[0m\u001b[0;34m)\u001b[0m\u001b[0;34m:\u001b[0m\u001b[0;34m\u001b[0m\u001b[0;34m\u001b[0m\u001b[0m\n\u001b[0;32m----> 8\u001b[0;31m         \u001b[0;32mif\u001b[0m\u001b[0;34m(\u001b[0m\u001b[0marr\u001b[0m\u001b[0;34m[\u001b[0m\u001b[0mj\u001b[0m\u001b[0;34m]\u001b[0m\u001b[0;34m==\u001b[0m\u001b[0;34m'0'\u001b[0m\u001b[0;34m)\u001b[0m\u001b[0;34m:\u001b[0m\u001b[0;34m\u001b[0m\u001b[0;34m\u001b[0m\u001b[0m\n\u001b[0m\u001b[1;32m      9\u001b[0m             \u001b[0mx\u001b[0m\u001b[0;34m+=\u001b[0m\u001b[0;36m1\u001b[0m\u001b[0;34m\u001b[0m\u001b[0;34m\u001b[0m\u001b[0m\n\u001b[1;32m     10\u001b[0m         \u001b[0;32melse\u001b[0m\u001b[0;34m:\u001b[0m\u001b[0;34m\u001b[0m\u001b[0;34m\u001b[0m\u001b[0m\n",
      "\u001b[0;31mIndexError\u001b[0m: list index out of range"
     ]
    }
   ],
   "source": [
    "arr=[None]*4\n",
    "for i in range(3):\n",
    "    x=0\n",
    "    y=0\n",
    "    k=input()\n",
    "    arr=k.split(\" \")\n",
    "    for j in range(4):\n",
    "        if(arr[j]=='0'):\n",
    "            x+=1\n",
    "        else:\n",
    "            y+=1\n",
    "if(x==1):\n",
    "    print('A')\n",
    "elif(x==2):\n",
    "    print('B')\n",
    "elif(x==3):\n",
    "    print('C')\n",
    "elif(x==4):\n",
    "    print('D')\n",
    "else:\n",
    "    print('E')\n"
   ]
  },
  {
   "cell_type": "markdown",
   "metadata": {},
   "source": [
    "# 윷놀이"
   ]
  },
  {
   "cell_type": "code",
   "execution_count": 1,
   "metadata": {},
   "outputs": [
    {
     "name": "stdout",
     "output_type": "stream",
     "text": [
      "도\n"
     ]
    }
   ],
   "source": [
    "import random \n",
    "Ylist = ['도','개','걸','윷','모'] \n",
    "Stacklist = [] \n",
    "def playYut(): \n",
    "    r = random.randrange(0,5) \n",
    "    return r \n",
    "while True: \n",
    "    Stacklist.append(playYut()) \n",
    "    if Stacklist[-1] != 3 and Stacklist[-1] != 4: \n",
    "        break \n",
    "for i in Stacklist: \n",
    "    print(Ylist[i]) "
   ]
  },
  {
   "cell_type": "code",
   "execution_count": 15,
   "metadata": {},
   "outputs": [
    {
     "name": "stdout",
     "output_type": "stream",
     "text": [
      "1\n"
     ]
    },
    {
     "ename": "KeyboardInterrupt",
     "evalue": "",
     "output_type": "error",
     "traceback": [
      "\u001b[0;31m---------------------------------------------------------------------------\u001b[0m",
      "\u001b[0;31mKeyboardInterrupt\u001b[0m                         Traceback (most recent call last)",
      "\u001b[0;32m~/anaconda3/lib/python3.7/site-packages/ipykernel/kernelbase.py\u001b[0m in \u001b[0;36m_input_request\u001b[0;34m(self, prompt, ident, parent, password)\u001b[0m\n\u001b[1;32m    877\u001b[0m             \u001b[0;32mtry\u001b[0m\u001b[0;34m:\u001b[0m\u001b[0;34m\u001b[0m\u001b[0;34m\u001b[0m\u001b[0m\n\u001b[0;32m--> 878\u001b[0;31m                 \u001b[0mident\u001b[0m\u001b[0;34m,\u001b[0m \u001b[0mreply\u001b[0m \u001b[0;34m=\u001b[0m \u001b[0mself\u001b[0m\u001b[0;34m.\u001b[0m\u001b[0msession\u001b[0m\u001b[0;34m.\u001b[0m\u001b[0mrecv\u001b[0m\u001b[0;34m(\u001b[0m\u001b[0mself\u001b[0m\u001b[0;34m.\u001b[0m\u001b[0mstdin_socket\u001b[0m\u001b[0;34m,\u001b[0m \u001b[0;36m0\u001b[0m\u001b[0;34m)\u001b[0m\u001b[0;34m\u001b[0m\u001b[0;34m\u001b[0m\u001b[0m\n\u001b[0m\u001b[1;32m    879\u001b[0m             \u001b[0;32mexcept\u001b[0m \u001b[0mException\u001b[0m\u001b[0;34m:\u001b[0m\u001b[0;34m\u001b[0m\u001b[0;34m\u001b[0m\u001b[0m\n",
      "\u001b[0;32m~/anaconda3/lib/python3.7/site-packages/jupyter_client/session.py\u001b[0m in \u001b[0;36mrecv\u001b[0;34m(self, socket, mode, content, copy)\u001b[0m\n\u001b[1;32m    802\u001b[0m         \u001b[0;32mtry\u001b[0m\u001b[0;34m:\u001b[0m\u001b[0;34m\u001b[0m\u001b[0;34m\u001b[0m\u001b[0m\n\u001b[0;32m--> 803\u001b[0;31m             \u001b[0mmsg_list\u001b[0m \u001b[0;34m=\u001b[0m \u001b[0msocket\u001b[0m\u001b[0;34m.\u001b[0m\u001b[0mrecv_multipart\u001b[0m\u001b[0;34m(\u001b[0m\u001b[0mmode\u001b[0m\u001b[0;34m,\u001b[0m \u001b[0mcopy\u001b[0m\u001b[0;34m=\u001b[0m\u001b[0mcopy\u001b[0m\u001b[0;34m)\u001b[0m\u001b[0;34m\u001b[0m\u001b[0;34m\u001b[0m\u001b[0m\n\u001b[0m\u001b[1;32m    804\u001b[0m         \u001b[0;32mexcept\u001b[0m \u001b[0mzmq\u001b[0m\u001b[0;34m.\u001b[0m\u001b[0mZMQError\u001b[0m \u001b[0;32mas\u001b[0m \u001b[0me\u001b[0m\u001b[0;34m:\u001b[0m\u001b[0;34m\u001b[0m\u001b[0;34m\u001b[0m\u001b[0m\n",
      "\u001b[0;32m~/anaconda3/lib/python3.7/site-packages/zmq/sugar/socket.py\u001b[0m in \u001b[0;36mrecv_multipart\u001b[0;34m(self, flags, copy, track)\u001b[0m\n\u001b[1;32m    469\u001b[0m         \"\"\"\n\u001b[0;32m--> 470\u001b[0;31m         \u001b[0mparts\u001b[0m \u001b[0;34m=\u001b[0m \u001b[0;34m[\u001b[0m\u001b[0mself\u001b[0m\u001b[0;34m.\u001b[0m\u001b[0mrecv\u001b[0m\u001b[0;34m(\u001b[0m\u001b[0mflags\u001b[0m\u001b[0;34m,\u001b[0m \u001b[0mcopy\u001b[0m\u001b[0;34m=\u001b[0m\u001b[0mcopy\u001b[0m\u001b[0;34m,\u001b[0m \u001b[0mtrack\u001b[0m\u001b[0;34m=\u001b[0m\u001b[0mtrack\u001b[0m\u001b[0;34m)\u001b[0m\u001b[0;34m]\u001b[0m\u001b[0;34m\u001b[0m\u001b[0;34m\u001b[0m\u001b[0m\n\u001b[0m\u001b[1;32m    471\u001b[0m         \u001b[0;31m# have first part already, only loop while more to receive\u001b[0m\u001b[0;34m\u001b[0m\u001b[0;34m\u001b[0m\u001b[0;34m\u001b[0m\u001b[0m\n",
      "\u001b[0;32mzmq/backend/cython/socket.pyx\u001b[0m in \u001b[0;36mzmq.backend.cython.socket.Socket.recv\u001b[0;34m()\u001b[0m\n",
      "\u001b[0;32mzmq/backend/cython/socket.pyx\u001b[0m in \u001b[0;36mzmq.backend.cython.socket.Socket.recv\u001b[0;34m()\u001b[0m\n",
      "\u001b[0;32mzmq/backend/cython/socket.pyx\u001b[0m in \u001b[0;36mzmq.backend.cython.socket._recv_copy\u001b[0;34m()\u001b[0m\n",
      "\u001b[0;32m~/anaconda3/lib/python3.7/site-packages/zmq/backend/cython/checkrc.pxd\u001b[0m in \u001b[0;36mzmq.backend.cython.checkrc._check_rc\u001b[0;34m()\u001b[0m\n",
      "\u001b[0;31mKeyboardInterrupt\u001b[0m: ",
      "\nDuring handling of the above exception, another exception occurred:\n",
      "\u001b[0;31mKeyboardInterrupt\u001b[0m                         Traceback (most recent call last)",
      "\u001b[0;32m<ipython-input-15-135549d43b3f>\u001b[0m in \u001b[0;36m<module>\u001b[0;34m\u001b[0m\n\u001b[1;32m      1\u001b[0m \u001b[0mN\u001b[0m \u001b[0;34m=\u001b[0m \u001b[0mint\u001b[0m\u001b[0;34m(\u001b[0m\u001b[0minput\u001b[0m\u001b[0;34m(\u001b[0m\u001b[0;34m)\u001b[0m\u001b[0;34m)\u001b[0m\u001b[0;34m\u001b[0m\u001b[0;34m\u001b[0m\u001b[0m\n\u001b[0;32m----> 2\u001b[0;31m \u001b[0ms\u001b[0m \u001b[0;34m=\u001b[0m \u001b[0mset\u001b[0m\u001b[0;34m(\u001b[0m\u001b[0mmap\u001b[0m\u001b[0;34m(\u001b[0m\u001b[0mint\u001b[0m\u001b[0;34m,\u001b[0m \u001b[0minput\u001b[0m\u001b[0;34m(\u001b[0m\u001b[0;34m)\u001b[0m\u001b[0;34m.\u001b[0m\u001b[0msplit\u001b[0m\u001b[0;34m(\u001b[0m\u001b[0;34m)\u001b[0m\u001b[0;34m)\u001b[0m\u001b[0;34m)\u001b[0m\u001b[0;34m\u001b[0m\u001b[0;34m\u001b[0m\u001b[0m\n\u001b[0m\u001b[1;32m      3\u001b[0m \u001b[0mX\u001b[0m \u001b[0;34m=\u001b[0m \u001b[0mint\u001b[0m\u001b[0;34m(\u001b[0m\u001b[0minput\u001b[0m\u001b[0;34m(\u001b[0m\u001b[0;34m)\u001b[0m\u001b[0;34m)\u001b[0m\u001b[0;34m\u001b[0m\u001b[0;34m\u001b[0m\u001b[0m\n\u001b[1;32m      4\u001b[0m \u001b[0;34m\u001b[0m\u001b[0m\n\u001b[1;32m      5\u001b[0m \u001b[0;32mfor\u001b[0m \u001b[0mi\u001b[0m \u001b[0;32min\u001b[0m \u001b[0mrange\u001b[0m\u001b[0;34m(\u001b[0m\u001b[0mX\u001b[0m\u001b[0;34m)\u001b[0m\u001b[0;34m:\u001b[0m\u001b[0;34m\u001b[0m\u001b[0;34m\u001b[0m\u001b[0m\n",
      "\u001b[0;32m~/anaconda3/lib/python3.7/site-packages/ipykernel/kernelbase.py\u001b[0m in \u001b[0;36mraw_input\u001b[0;34m(self, prompt)\u001b[0m\n\u001b[1;32m    851\u001b[0m             \u001b[0mself\u001b[0m\u001b[0;34m.\u001b[0m\u001b[0m_parent_ident\u001b[0m\u001b[0;34m,\u001b[0m\u001b[0;34m\u001b[0m\u001b[0;34m\u001b[0m\u001b[0m\n\u001b[1;32m    852\u001b[0m             \u001b[0mself\u001b[0m\u001b[0;34m.\u001b[0m\u001b[0m_parent_header\u001b[0m\u001b[0;34m,\u001b[0m\u001b[0;34m\u001b[0m\u001b[0;34m\u001b[0m\u001b[0m\n\u001b[0;32m--> 853\u001b[0;31m             \u001b[0mpassword\u001b[0m\u001b[0;34m=\u001b[0m\u001b[0;32mFalse\u001b[0m\u001b[0;34m,\u001b[0m\u001b[0;34m\u001b[0m\u001b[0;34m\u001b[0m\u001b[0m\n\u001b[0m\u001b[1;32m    854\u001b[0m         )\n\u001b[1;32m    855\u001b[0m \u001b[0;34m\u001b[0m\u001b[0m\n",
      "\u001b[0;32m~/anaconda3/lib/python3.7/site-packages/ipykernel/kernelbase.py\u001b[0m in \u001b[0;36m_input_request\u001b[0;34m(self, prompt, ident, parent, password)\u001b[0m\n\u001b[1;32m    881\u001b[0m             \u001b[0;32mexcept\u001b[0m \u001b[0mKeyboardInterrupt\u001b[0m\u001b[0;34m:\u001b[0m\u001b[0;34m\u001b[0m\u001b[0;34m\u001b[0m\u001b[0m\n\u001b[1;32m    882\u001b[0m                 \u001b[0;31m# re-raise KeyboardInterrupt, to truncate traceback\u001b[0m\u001b[0;34m\u001b[0m\u001b[0;34m\u001b[0m\u001b[0;34m\u001b[0m\u001b[0m\n\u001b[0;32m--> 883\u001b[0;31m                 \u001b[0;32mraise\u001b[0m \u001b[0mKeyboardInterrupt\u001b[0m\u001b[0;34m\u001b[0m\u001b[0;34m\u001b[0m\u001b[0m\n\u001b[0m\u001b[1;32m    884\u001b[0m             \u001b[0;32melse\u001b[0m\u001b[0;34m:\u001b[0m\u001b[0;34m\u001b[0m\u001b[0;34m\u001b[0m\u001b[0m\n\u001b[1;32m    885\u001b[0m                 \u001b[0;32mbreak\u001b[0m\u001b[0;34m\u001b[0m\u001b[0;34m\u001b[0m\u001b[0m\n",
      "\u001b[0;31mKeyboardInterrupt\u001b[0m: "
     ]
    }
   ],
   "source": [
    "N = int(input())\n",
    "s = set(map(int, input().split()))\n",
    "X = int(input())\n",
    "\n",
    "for i in range(X):\n",
    "    order = list(input().split())\n",
    "    if order[0] == 0:\n",
    "        s.pop()\n",
    "        print(\"pop\")\n",
    "    elif order[0] == 'remove':\n",
    "        s.remove(int(order[1]))\n",
    "        print(\"remove\"+i)\n",
    "    elif order[0] == 'discard':\n",
    "        s.discard(int(order[1]))\n",
    "        print(\"discard\"+i)\n",
    "        \n",
    "print(sum(s))"
   ]
  },
  {
   "cell_type": "code",
   "execution_count": 34,
   "metadata": {},
   "outputs": [
    {
     "name": "stdout",
     "output_type": "stream",
     "text": [
      "['kim,50,90,40\\n', 'sss,10,100,60\\n', 'ddd,90,50,30\\n', 'gfsdf,99,100,80']\n",
      "kim,50,90,40\n",
      "['kim', '50', '90', '40']\n",
      "sss,10,100,60\n",
      "['sss', '10', '100', '60']\n",
      "ddd,90,50,30\n",
      "['ddd', '90', '50', '30']\n",
      "gfsdf,99,100,80\n",
      "['gfsdf', '99', '100', '80']\n"
     ]
    }
   ],
   "source": [
    "if __name__ == \"__main__\":\n",
    "    fp = open('./students.csv','r')\n",
    "    lines = fp.readlines()\n",
    "    fp.close()\n",
    "   \n",
    "    print(lines)\n",
    "    \n",
    "    for line in lines:\n",
    "        line = line.strip()\n",
    "        print(line)\n",
    "\n",
    "        items = line.split(',')\n",
    "        print(items)\n"
   ]
  },
  {
   "cell_type": "code",
   "execution_count": 36,
   "metadata": {},
   "outputs": [
    {
     "ename": "ValueError",
     "evalue": "invalid literal for int() with base 10: 'kim'",
     "output_type": "error",
     "traceback": [
      "\u001b[0;31m---------------------------------------------------------------------------\u001b[0m",
      "\u001b[0;31mValueError\u001b[0m                                Traceback (most recent call last)",
      "\u001b[0;32m<ipython-input-36-54045a5185b1>\u001b[0m in \u001b[0;36m<module>\u001b[0;34m\u001b[0m\n\u001b[1;32m     49\u001b[0m \u001b[0;34m\u001b[0m\u001b[0m\n\u001b[1;32m     50\u001b[0m \u001b[0;32mif\u001b[0m \u001b[0m__name__\u001b[0m \u001b[0;34m==\u001b[0m \u001b[0;34m\"__main__\"\u001b[0m\u001b[0;34m:\u001b[0m\u001b[0;34m\u001b[0m\u001b[0;34m\u001b[0m\u001b[0m\n\u001b[0;32m---> 51\u001b[0;31m     \u001b[0mmain\u001b[0m\u001b[0;34m(\u001b[0m\u001b[0;34m)\u001b[0m\u001b[0;34m\u001b[0m\u001b[0;34m\u001b[0m\u001b[0m\n\u001b[0m",
      "\u001b[0;32m<ipython-input-36-54045a5185b1>\u001b[0m in \u001b[0;36mmain\u001b[0;34m()\u001b[0m\n\u001b[1;32m     12\u001b[0m \u001b[0;34m\u001b[0m\u001b[0m\n\u001b[1;32m     13\u001b[0m         \u001b[0mstudent\u001b[0m \u001b[0;34m=\u001b[0m \u001b[0;34m{\u001b[0m\u001b[0;34m}\u001b[0m\u001b[0;34m\u001b[0m\u001b[0;34m\u001b[0m\u001b[0m\n\u001b[0;32m---> 14\u001b[0;31m         \u001b[0mstudent\u001b[0m\u001b[0;34m[\u001b[0m\u001b[0;34m'id'\u001b[0m\u001b[0;34m]\u001b[0m \u001b[0;34m=\u001b[0m \u001b[0mint\u001b[0m\u001b[0;34m(\u001b[0m\u001b[0mitems\u001b[0m\u001b[0;34m[\u001b[0m\u001b[0;36m0\u001b[0m\u001b[0;34m]\u001b[0m\u001b[0;34m)\u001b[0m\u001b[0;34m\u001b[0m\u001b[0;34m\u001b[0m\u001b[0m\n\u001b[0m\u001b[1;32m     15\u001b[0m         \u001b[0mstudent\u001b[0m\u001b[0;34m[\u001b[0m\u001b[0;34m'name'\u001b[0m\u001b[0;34m]\u001b[0m \u001b[0;34m=\u001b[0m \u001b[0mitems\u001b[0m\u001b[0;34m[\u001b[0m\u001b[0;36m1\u001b[0m\u001b[0;34m]\u001b[0m\u001b[0;34m\u001b[0m\u001b[0;34m\u001b[0m\u001b[0m\n\u001b[1;32m     16\u001b[0m         \u001b[0mstudent\u001b[0m\u001b[0;34m[\u001b[0m\u001b[0;34m'kor'\u001b[0m\u001b[0;34m]\u001b[0m \u001b[0;34m=\u001b[0m \u001b[0mint\u001b[0m\u001b[0;34m(\u001b[0m\u001b[0mitems\u001b[0m\u001b[0;34m[\u001b[0m\u001b[0;36m2\u001b[0m\u001b[0;34m]\u001b[0m\u001b[0;34m)\u001b[0m\u001b[0;34m\u001b[0m\u001b[0;34m\u001b[0m\u001b[0m\n",
      "\u001b[0;31mValueError\u001b[0m: invalid literal for int() with base 10: 'kim'"
     ]
    }
   ],
   "source": [
    "def main():\n",
    "\n",
    "    students = []\n",
    "   \n",
    "    fp = open('./students.csv','r')\n",
    "    lines = fp.readlines()\n",
    "    fp.close()\n",
    "   \n",
    "    for line in lines:\n",
    "        line = line.strip()  \n",
    "        items = line.split(',')\n",
    "       \n",
    "        student = {}\n",
    "        student['id'] = int(items[0])\n",
    "        student['name'] = items[1]\n",
    "        student['kor'] = int(items[2])\n",
    "        student['eng'] = int(items[3])\n",
    "        student['math'] = int(items[4])\n",
    "        student['total'] = 0\n",
    "        student['avg'] = 0.0\n",
    "        student['ranking'] = 0\n",
    "       \n",
    "        students.append(student)\n",
    "       \n",
    "    for student in students:\n",
    "        student['total'] = student['kor'] + student['eng'] + student['math']\n",
    "        student['avg'] = student['total'] / 3   \n",
    "          \n",
    "    sorted_students = sorted(students, key = lambda x : x['total'], reverse=True)\n",
    "\n",
    "    count = 1\n",
    "    for student in sorted_students:\n",
    "        student['ranking'] = count\n",
    "        count = count + 1\n",
    "       \n",
    "    result_students = sorted(sorted_students, key = lambda x : x['id'])\n",
    "   \n",
    "    fp = open('./result_students.csv', 'w')\n",
    "   \n",
    "    for student in result_students:\n",
    "        line = ','.join([str(student['id']),str(student['name']),str(student['kor']),str(student['eng']),\n",
    "                         str(student['math']),str(student['total']),str(student['avg']),str(student['ranking']),'\\n'])\n",
    "        fp.write(line)\n",
    "       \n",
    "    fp.close()\n",
    "       \n",
    "    for student in sorted_students:\n",
    "        print(student)\n",
    "    \n",
    "if __name__ == \"__main__\":\n",
    "    main()\n"
   ]
  },
  {
   "cell_type": "code",
   "execution_count": 38,
   "metadata": {
    "scrolled": true
   },
   "outputs": [
    {
     "name": "stdout",
     "output_type": "stream",
     "text": [
      "\n",
      "*** korea 학교 ***\n",
      "1. 학생정보 출력\n",
      "2. 학생정보 입력\n",
      "3. 학생정보 수정\n",
      "4. 학생정보 삭제\n",
      "5. 학생정보 검색\n",
      "6. 총점, 평균\n",
      "7. 종료\n",
      "\n",
      "무엇을 하시겠습니까?(번호입력) : 7\n"
     ]
    }
   ],
   "source": [
    "#딕셔너리를 이용한 성적처리 프로그램\n",
    "# 성적처리 프로그램\n",
    "\n",
    "menu = \"\"\"\n",
    "*** korea 학교 ***\n",
    "1. 학생정보 출력\n",
    "2. 학생정보 입력\n",
    "3. 학생정보 수정\n",
    "4. 학생정보 삭제\n",
    "5. 학생정보 검색\n",
    "6. 총점, 평균\n",
    "7. 종료\n",
    "\"\"\"\n",
    "\n",
    "scores={\"박묘희\":100, \"김경희\":90, \"조경민\":88, \"정우진\":95, \"최일석\":89}\n",
    "print(menu)\n",
    "\n",
    "\n",
    "def s_output() :\n",
    "    for i, j in scores.items() :\n",
    "        print(\"이름 : %s, 점수 : %d\" % (i,j))\n",
    "\n",
    "def s_input() :\n",
    "    name = input(\"이름을 입력해주세요 : \")\n",
    "    score = int(input(\"점수를 입력해주세요 : \"))\n",
    "    scores.update({name:score})\n",
    "    s_output()\n",
    "\n",
    "def s_modify():\n",
    "    name = input(\"누구의 점수를 수정하시겠습니까? : \")\n",
    "    names = scores.keys()\n",
    "    if name in names:\n",
    "        score = int(input(\"몇점으로 수정하시겠습니까? : \"))\n",
    "        scores[name] = score\n",
    "    else:\n",
    "        print(\"존재하지 않는 학생입니다.\")\n",
    "\n",
    "    s_output()\n",
    "\n",
    "def s_delete() :\n",
    "    name = input(\"누구의 점수를 삭제하시겠습니까 : \")\n",
    "    names = scores.keys()\n",
    "    if name in names:\n",
    "        scores.__delitem__(name)\n",
    "    else:\n",
    "        print(\"존재하지 않는 학생입니다.\")\n",
    "    s_output()\n",
    "\n",
    "def s_search() :\n",
    "    name = input(\"누구의 점수를 보시겠습니까 : \")\n",
    "    names = scores.keys()\n",
    "    if name in names:\n",
    "        print(\"%s학생의 점수는 %d점입니다.\"% (name, scores.get(name)))\n",
    "    else:\n",
    "        print(\"존재하지 않는 학생입니다.\")\n",
    "\n",
    "def s_calcul() :\n",
    "    sco = scores.values()\n",
    "    total = 0\n",
    "    for i in sco:\n",
    "        total += i\n",
    "    ave = total / len(sco)\n",
    "    print(\"총점 : %d, 평균 : %d\" %(total, ave))\n",
    "\n",
    "while True:\n",
    "    student = int(input(\"무엇을 하시겠습니까?(번호입력) : \"))\n",
    "    if student == 1 :\n",
    "        s_output()\n",
    "    elif student == 2 :\n",
    "         s_input()\n",
    "    elif student == 3 :\n",
    "         s_modify()\n",
    "    elif student == 4 :\n",
    "         s_delete()\n",
    "    elif student == 5 :\n",
    "         s_search()\n",
    "    elif student == 6 :\n",
    "         s_calcul()\n",
    "    elif student == 7 :\n",
    "        break;\n",
    "    else :\n",
    "        print(\"다시 입력해주세요\")\n",
    "\n",
    "\n"
   ]
  },
  {
   "cell_type": "code",
   "execution_count": 39,
   "metadata": {},
   "outputs": [
    {
     "ename": "SyntaxError",
     "evalue": "invalid syntax (<ipython-input-39-57cefdc4c1a0>, line 21)",
     "output_type": "error",
     "traceback": [
      "\u001b[0;36m  File \u001b[0;32m\"<ipython-input-39-57cefdc4c1a0>\"\u001b[0;36m, line \u001b[0;32m21\u001b[0m\n\u001b[0;31m    파이썬은 질문자님이 말씀하신 것 처럼 기본적인 오버로딩은 지원을 안 하니까\u001b[0m\n\u001b[0m             ^\u001b[0m\n\u001b[0;31mSyntaxError\u001b[0m\u001b[0;31m:\u001b[0m invalid syntax\n"
     ]
    }
   ],
   "source": [
    "def defaultArgs(start, end=None, width=1):\n",
    "    if(end==None):\n",
    "        # 이런 식으로 인자의 순서를 바꿔줌!!\n",
    "        # 하나만 들어오면\n",
    "        # start(사실 end의 역할을 시키고픔) -> 0, end\n",
    "        end=start\n",
    "        start=0\n",
    "    l=[]\n",
    "    numToAppend=start\n",
    "    while(numToAppend<end):\n",
    "        l.append(numToAppend)\n",
    "        numToAppend+=width\n",
    "    return l\n",
    "\n",
    "print(defaultArgs(10))\n",
    "print(defaultArgs(3, 10))\n",
    "print(defaultArgs(3, 10, 3))\n",
    "\n",
    "\n",
    "\n",
    "파이썬은 질문자님이 말씀하신 것 처럼 기본적인 오버로딩은 지원을 안 하니까\n",
    "디폴트 인자값을 설정해줘서 사용하고 싶은것이죠.\n",
    "\n",
    "근데, 디폴트 인자값은 뒤에서부터만 정해줄 수 있으니까.\n",
    "예를 들면 range(start, end, width) 이렇게 하고 싶은데\n",
    "range(start=0, end, width=1) 이렇게 디폴트 값을 안 준 인자가 존재할 때, 앞에는 인자를 줄 수가 없으니까\n",
    "약간 트릭?이 필요해요\n",
    "\n",
    "range(start, end=None, width=1) 이런 식으로 함수를 선언해주고\n",
    "start 하나만 입력하면\n",
    "start값, None, 1\n",
    "-> 0, start값을 end에 대입, 1\n",
    "\n",
    "start, end만 입력하면\n",
    "->start값, end값, 1\n",
    "\n",
    "이런식으로 사용가능할 듯 하네요"
   ]
  },
  {
   "cell_type": "code",
   "execution_count": 98,
   "metadata": {},
   "outputs": [
    {
     "ename": "IndentationError",
     "evalue": "expected an indented block (<ipython-input-98-f6f78de08fcc>, line 82)",
     "output_type": "error",
     "traceback": [
      "\u001b[0;36m  File \u001b[0;32m\"<ipython-input-98-f6f78de08fcc>\"\u001b[0;36m, line \u001b[0;32m82\u001b[0m\n\u001b[0;31m    file1 = myFile(\"inputdata1.csv\", 'r')\u001b[0m\n\u001b[0m        ^\u001b[0m\n\u001b[0;31mIndentationError\u001b[0m\u001b[0;31m:\u001b[0m expected an indented block\n"
     ]
    }
   ],
   "source": [
    "# ANSWER : START\n",
    "\n",
    "class myFile:\n",
    "    file = \"\"\n",
    "    fileclose = \"\"\n",
    "    \n",
    "    def __init__(self, filename =\"\", kind=''):\n",
    "        self.filename = filename\n",
    "        self.kind = kind\n",
    "\n",
    "        self.file = open(filename, kind) # 파일 열어서 file에 저장\n",
    "        \n",
    "        if(kind == 'r'):\n",
    "            lineContent = self.file.readline() #readline() 은 한줄씩 읽어서 리턴해준다.\n",
    "            fileMatrix = []\n",
    "            while lineContent != '':\n",
    "                fileMatrix.append(lineContent.strip('\\n').split(',')) #일단 읽음.\n",
    "                lineContent = self.file.readline()\n",
    "        elif(kind == 'w'):\n",
    "            return self.file\n",
    "    \n",
    "    def getStatus(self):\n",
    "        if self.file:\n",
    "            return True\n",
    "        else:\n",
    "            return False\n",
    "\n",
    "    def getBody(self):\n",
    "        self.file.readline()  #header, 첫 행 안 읽음 \n",
    "        self.data = self.file.readline().strip('\\n').split(',')\n",
    "        self.newdata = []\n",
    "        for self.data in self.file:\n",
    "            self.newdata.append(self.data)\n",
    "        \n",
    "        if not self.file:\n",
    "            print(\"ERROR!!\")\n",
    "            return False\n",
    "\n",
    "    def setContentHead(self,addlist=[]):\n",
    "        self.addlist = addlist\n",
    "        self.file.readline()  #header\n",
    "        self.addlist.append(self.file.readline())\n",
    "        \n",
    "        if not self.file:\n",
    "            print(\"ERROR!!\")\n",
    "            return False\n",
    "        \n",
    "    def setContentBody(self,newList = []):\n",
    "        self.newList = newList\n",
    "        while line != '':\n",
    "                fileM.append(line.strip('\\n').split(',')) #일단 읽음.\n",
    "                line = self.file.readline()\n",
    "                return True\n",
    "        \n",
    "        if not self.file:\n",
    "            print(\"ERROR!!\")\n",
    "            return False\n",
    "        \n",
    "    def writeFile(self):\n",
    "        \n",
    "        if not self.file:\n",
    "            print(\"ERROR!!\")\n",
    "            return False\n",
    "    def closeFile(self):\n",
    "        if self.file:\n",
    "            fileclose = self.file.close()\n",
    "            return fileclose\n",
    "        \n",
    "        else:\n",
    "            print(\"ERROR!!\")\n",
    "            return False\n",
    "            \n",
    "def mergeList(file1, file2):\n",
    "    \n",
    "\n",
    "     \n",
    "\n",
    "\n",
    "\n",
    "# ANSWER : END\n",
    "\n",
    "file1 = myFile(\"inputdata1.csv\", 'r')\n",
    "file2 = myFile(\"inputdata2.csv\", 'r')\n",
    "\n",
    "if (file1.getStatus() != False) and (file2.getStatus() != False):\n",
    "    newList = mergeList(file1.getBody(), file2.getBody())\n",
    "\n",
    "    file3 = myFile(\"output.csv\", 'w')\n",
    "    file3.setContentHead([\"ID\", \"Name\", \"Course 1\", \"Course 2\", \"Course 3\", \"Average\"])\n",
    "    file3.setContentBody(newList)\n",
    "    file3.writeFile()\n",
    "    file3.closeFile()\n",
    "else:\n",
    "    print(\"input file error\")\n",
    "\n",
    "file1.closeFile()\n",
    "file2.closeFile()"
   ]
  },
  {
   "cell_type": "code",
   "execution_count": null,
   "metadata": {},
   "outputs": [],
   "source": [
    "'''\n",
    "    def getStatus(self):\n",
    "        #file = open(self.filename, self.kind)\n",
    "        #if self.kind == 'r' or 'w':\n",
    "        #    return True\n",
    "        #else:\n",
    "            return False\n",
    "\n",
    "    def getBody(self):\n",
    "        #file = open(self.filiname, self.kind)\n",
    "        #file.readline()  #header, 첫 행 안 읽음 \n",
    "        #data = file.readline().strip('\\n').split(',')\n",
    "        #newdata = []\n",
    "        #for data in file:\n",
    "        #    newdata.append(data)\n",
    "        \n",
    "\n",
    "    def setContentHead(self,):\n",
    "        pass\n",
    "    def setContentBody(self,):\n",
    "        pass\n",
    "    def writeFile(self):\n",
    "        pass\n",
    "'''"
   ]
  }
 ],
 "metadata": {
  "kernelspec": {
   "display_name": "Python 3",
   "language": "python",
   "name": "python3"
  },
  "language_info": {
   "codemirror_mode": {
    "name": "ipython",
    "version": 3
   },
   "file_extension": ".py",
   "mimetype": "text/x-python",
   "name": "python",
   "nbconvert_exporter": "python",
   "pygments_lexer": "ipython3",
   "version": "3.7.3"
  }
 },
 "nbformat": 4,
 "nbformat_minor": 2
}
