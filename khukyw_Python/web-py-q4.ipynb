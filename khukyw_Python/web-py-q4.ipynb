{
 "cells": [
  {
   "cell_type": "markdown",
   "metadata": {},
   "source": [
    "# Quiz #4  < 출제자 : 상의정, 이메일 : syj5982@gmail.com >"
   ]
  },
  {
   "cell_type": "markdown",
   "metadata": {},
   "source": [
    "학생들의 성적을 저장하는 Dictionary타입 변수 dic이 존재한다.<br>\n",
    "dic의 key는 학생의 이름, value는 학생의 점수 리스트이다. 학생의 이름은 영문 문자열이며 학생 수는 최소 3명, 점수 리스트의 점수는 0~100사이의 자연수이다. 한 학생은 성적 중 동점 값은 존재하지 않으며 리스트의 성적 개수는 5개이다.<br>\n",
    "Dictionary dic을 사용하여 결과값을 출력하는 함수를 작성하시오."
   ]
  },
  {
   "cell_type": "markdown",
   "metadata": {},
   "source": [
    "## Q 1) "
   ]
  },
  {
   "cell_type": "markdown",
   "metadata": {},
   "source": [
    "Dictionary dic와 학생의 이름 name을 입력 패러미터로 받아 입력된 학생의 성적을 내림차순의 리스트로 출력하는 함수 ``getStudentScore(dic, name)``을 작성하시오.<br>\n",
    "\n",
    "   예시)<br>\n",
    "   입력 dic : ``{\"Ryu\":[80,30,50,100,75], \"James\":[13,25,5,98,30], \"Kershaw\":[60,55,90,88,72]}``<br>\n",
    "   입력 name : ``\"Ryu\"``<br>\n",
    "   반환값    : ``[100,80,75,50,30]``\n"
   ]
  },
  {
   "cell_type": "code",
   "execution_count": 19,
   "metadata": {
    "collapsed": true
   },
   "outputs": [],
   "source": []
  },
  {
   "cell_type": "markdown",
   "metadata": {},
   "source": [
    "## Q 2) "
   ]
  },
  {
   "cell_type": "markdown",
   "metadata": {},
   "source": [
    "Dictionary dic을 입력 패러미터로 받아 가장 총점이 높은 학생의 이름을 출력하는 함수 ``getHighestStudent(dic)``을 작성하시오.<br>\n",
    "\n",
    "   예시)<br>\n",
    "   입력 dic : ``{\"Ryu\":[80,30,50,100,75], \"James\":[13,25,5,98,30], \"Kershaw\":[60,55,90,88,72]}``<br>\n",
    "   반환값    : ``Kershaw``"
   ]
  },
  {
   "cell_type": "code",
   "execution_count": 20,
   "metadata": {
    "collapsed": true
   },
   "outputs": [],
   "source": []
  },
  {
   "cell_type": "markdown",
   "metadata": {},
   "source": [
    "## Q 3) "
   ]
  },
  {
   "cell_type": "markdown",
   "metadata": {},
   "source": [
    "Dictionary dic, 이름 name, 성적 리스트 score을 입력 패러미터로 받아 학생과 성적이 추가된 Dictionary dic을 반환하는 ``addStudent(dic, name,score)``을 작성하시오.<br>\n",
    "단 이미 Dictionary안에 존재하는 이름인 경우 값을 추가하지 않는다.<br>\n",
    "\n",
    "   예시)<br>\n",
    "   입력 dic : ``{\"Ryu\":[80,30,50,100,75], \"James\":[13,25,5,98,30], \"Kershaw\":[60,55,90,88,72]}``<br>\n",
    "   입력 name : ``\"Machado\"``<br>\n",
    "   입력 score : ``[50,45,80,90,70]``<br>\n",
    "   반환값    : ``{\"Ryu\":[80,30,50,100,75], \"James\":[13,25,5,98,30], \"Kershaw\":[60,55,90,88,72], \"Machado\":[50,45,80,90,70]}``\n",
    "   \n",
    "   입력 dic : ``{\"Ryu\":[80,30,50,100,75], \"James\":[13,25,5,98,30], \"Kershaw\":[60,55,90,88,72]}``<br>\n",
    "   입력 name : ``\"Ryu\"``<br>\n",
    "   입력 score : ``[50,45,80,90,70]``<br>\n",
    "   반환값    : ``{\"Ryu\":[80,30,50,100,75], \"James\":[13,25,5,98,30], \"Kershaw\":[60,55,90,88,72]}``"
   ]
  },
  {
   "cell_type": "code",
   "execution_count": 22,
   "metadata": {
    "collapsed": true
   },
   "outputs": [],
   "source": []
  },
  {
   "cell_type": "code",
   "execution_count": 23,
   "metadata": {},
   "outputs": [
    {
     "name": "stdout",
     "output_type": "stream",
     "text": [
      "[100, 80, 75, 50, 30]\n",
      "Kershaw\n",
      "{'Kershaw': [60, 55, 90, 88, 72], 'James': [10, 25, 5, 98, 30], 'Ryu': [100, 80, 75, 50, 30], 'Machado': [50, 45, 80, 90, 70]}\n"
     ]
    }
   ],
   "source": []
  },
  {
   "cell_type": "code",
   "execution_count": null,
   "metadata": {
    "collapsed": true
   },
   "outputs": [],
   "source": []
  }
 ],
 "metadata": {
  "kernelspec": {
   "display_name": "Python 3",
   "language": "python",
   "name": "python3"
  },
  "language_info": {
   "codemirror_mode": {
    "name": "ipython",
    "version": 3
   },
   "file_extension": ".py",
   "mimetype": "text/x-python",
   "name": "python",
   "nbconvert_exporter": "python",
   "pygments_lexer": "ipython3",
   "version": "3.7.3"
  }
 },
 "nbformat": 4,
 "nbformat_minor": 2
}
