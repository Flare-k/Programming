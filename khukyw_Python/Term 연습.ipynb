{
 "cells": [
  {
   "cell_type": "code",
   "execution_count": 1,
   "metadata": {},
   "outputs": [
    {
     "name": "stdout",
     "output_type": "stream",
     "text": [
      "어벤져스: 엔드게임\n",
      "뽀로로 극장판 보물섬 대모험\n",
      "나의 특별한 형제\n"
     ]
    }
   ],
   "source": [
    "import requests\n",
    "from bs4 import BeautifulSoup\n",
    "\n",
    "r=requests.get(\"http://www.cgv.co.kr/movies/?ft=0\")\n",
    "c=r.content\n",
    "\n",
    "html = BeautifulSoup(c, \"html.parser\")\n",
    "\n",
    "ol = html.find(\"ol\")\n",
    "li = ol.find_all(\"li\")\n",
    "\n",
    "for l in li:\n",
    "    div = l.find(\"div\",{\"class\":\"box-contents\"})\n",
    "    strong = div.find(\"strong\").text\n",
    "    print(strong)\n",
    "\n"
   ]
  },
  {
   "cell_type": "code",
   "execution_count": null,
   "metadata": {},
   "outputs": [],
   "source": [
    "import pandas as pd\n",
    "import matplotlib\n",
    "import matplotlib.pyplot as plt\n",
    "import matplotlib.font_manager as fm\n",
    "\n",
    "import sqlite3\n",
    "\n",
    "if __name__ == \"__main__\":\n",
    "    con = sqlite3.connect(\"./data/real_trade.db\")\n",
    "    cur = con.cursor()\n",
    "    query = cur.execute(\"SELECT * From lent\")\n",
    "    cols = [column[0] for column in query.description]\n",
    "    sil_trade = pd.DataFrame.from_records(data=query.fetchall(), columns=cols)\n",
    "    con.close()\n",
    "    \n",
    "\n",
    "                  \n",
    "              \n",
    "sil_trade.describe()\n",
    "              \n",
    "sil_trade.dtypes\n",
    "\n",
    "sil_trade[\"mo_price\"] = sil_trade[\"mo_price\"].str.replace(\" \",\"\")\n",
    "sil_trade[\"mo_price\"] = sil_trade[\"mo_price\"].str.replace(\",\", \"\")\n",
    "sil_trade[\"mo_price\"] = sil_trade[\"mo_price\"].astype(int)\n",
    "\n",
    "sil_trade[\"bo_price\"] = sil_trade[\"bo_price\"].str.replace(\" \",\"\")\n",
    "sil_trade[\"bo_price\"] = sil_trade[\"bo_price\"].str.replace(\",\", \"\")\n",
    "sil_trade[\"bo_price\"] = sil_trade[\"bo_price\"].astype(int)\n",
    "\n",
    "sil_trade[\"is_j\"]=\"월세\"\n",
    "sil_trade.ix[sil_trade[\"mo_price\"]==0,\"is_j\"]=\"전세\"\n",
    "\n",
    "sil_trade[\"ym\"]=sil_trade[\"year\"].astype(int)*100+sil_trade[\"month\"].astype(int)\n",
    "                  \n",
    "                  \n",
    "code=pd.read_excel(\"KIKcd_B.20180122.xlsx\")\n",
    "code_seo=code[(code[\"시도명\"]==\"서울특별시\") | (code[\"시도명\"]==\"경기도\")]\n",
    "code_seo=code_seo[code_seo[\"읍면동명\"].isnull()==True]\n",
    "code_seo = code_seo[code_seo[\"시군구명\"].isnull() == False]\n",
    "code_seo[\"ji_code\"] = code_seo[\"법정동코드\"].astype(str).str[0:5]\n",
    "code_seo=code_seo[[\"ji_code\",\"시도명\",\"시군구명\"]]\n",
    "\n",
    "sil_trade_1=pd.merge(sil_trade,code_seo,on=\"ji_code\",how=\"left\")\n",
    "temp = sil_trade_1.groupby([\"시도명\",\"ym\", \"is_j\"]).size().reset_index(name='counts')\n",
    "\n",
    "temp[\"ym\"]=temp[\"ym\"]-201700\n",
    "temp.ix[temp[\"ym\"]==101,\"ym\"]=13\n",
    "temp.ix[temp[\"ym\"] == 102, \"ym\"] = 14\n",
    "                  \n",
    "temp.set_index(\"ym\",inplace=True)\n",
    "temp.groupby([\"시도명\",\"is_j\"])[\"counts\"].plot(legend=True,grid=True,xticks=temp.index)\n"
   ]
  },
  {
   "cell_type": "code",
   "execution_count": 6,
   "metadata": {},
   "outputs": [
    {
     "ename": "SyntaxError",
     "evalue": "invalid syntax (<ipython-input-6-20c1413a3059>, line 105)",
     "output_type": "error",
     "traceback": [
      "\u001b[0;36m  File \u001b[0;32m\"<ipython-input-6-20c1413a3059>\"\u001b[0;36m, line \u001b[0;32m105\u001b[0m\n\u001b[0;31m    def crawl(\"https://zigbang.com/home/apt/map\"):\u001b[0m\n\u001b[0m                                               ^\u001b[0m\n\u001b[0;31mSyntaxError\u001b[0m\u001b[0;31m:\u001b[0m invalid syntax\n"
     ]
    }
   ],
   "source": [
    "# -*- coding: utf8 -*-\n",
    "\n",
    "\n",
    "\"\"\"\n",
    "# 주요기능 : 직방 매물 정보 크롤링\n",
    "# 상세기능 : 원하는 지역의 매물ID 를 가진 URL 을 입력받아 각 매물별 상세 정보를 csv 파일 및 jpg 파일로 저장\n",
    "# 추가계획 : 현재 계획 없음\n",
    "# 최종수정 : 2016.10.10\n",
    "\"\"\"\n",
    "\n",
    "from datetime import datetime\n",
    "from bs4 import BeautifulSoup\n",
    "import pandas as pd\n",
    "import requests\n",
    "import json\n",
    "import sys\n",
    "import re\n",
    "import os\n",
    "\n",
    "\n",
    "class crawl_zigbang_info:\n",
    "    # 수행기능 : 특정 지역 아이템 리스트를 가진 URL 링크를 입력하면 각 방에 대한 정보를 csv 파일 및 jpg 파일로 변환하여 저장\n",
    "    # url형식 : https://api.zigbang.com/v1/items?detail=true&item_ids=6128393&~~~&~~~&~~~\n",
    "    def crawl_items(self, zigbang_url):\n",
    "        response = requests.get(zigbang_url)\n",
    "        init_data = json.loads(response.text)\n",
    "\n",
    "        rooms_info = init_data.get('items')\n",
    "        self.save_info_to_csv(rooms_info)\n",
    "        \n",
    "        pattern = r'[0-9]{7}'\n",
    "        item_ids = re.findall(pattern, zigbang_url)\n",
    "        self.save_image(item_ids)\n",
    "\n",
    "    # 수행기능 : 각 매물에 대한 정보를 컬럼별로 나누어 '월.일_순서.csv' 파일로 저장\n",
    "    # 파라미터 : 리스트 ( 각 매물에 세부 정보 )\n",
    "    def save_info_to_csv(self, rooms_info):\n",
    "        df = pd.DataFrame(\n",
    "            columns=[\"제목\",\"룸 타입\", \"보증금/월세\", \"관리비\", \"부가옵션\", \"가까운 역\", \"건물층수\",\\\n",
    "                     \"엘리베이터\", \"집 주소\", \"입주일\", \"업자이름\", \"업자번호\", \"대표번호\", \"업자주소\",\\\n",
    "                     \"오픈상태\", \"현재상태\", \"비밀메모\", \"부가설명\"]\n",
    "            )\n",
    "        \n",
    "        for idx, item in enumerate(rooms_info):\n",
    "            room = item.get('item')\n",
    "            \n",
    "            df.loc[idx] = [\n",
    "                room['title'],    # 제목\n",
    "                room['building_type'] + ' / ' + room['room_type'],    # 룸타입\n",
    "                str(room['deposit']) +  ' / ' + str(room['rent']),    # 보증금/월세\n",
    "                room['manage_cost'],    # 관리비\n",
    "                room['options'],        # 부가옵션\n",
    "                room['near_subways'],   # 가까운 역 \n",
    "                str(room['floor']) + ' / ' + str(room['floor_all']),  # 건물층수\n",
    "                room['elevator'],       # 엘리베이터\n",
    "                str(room['address1']) + ' ' + str(room['address2']),  # 집 주소\n",
    "                room['movein_date'],    # 입주일\n",
    "                room['user_name'],      # 업자이름\n",
    "                room['user_mobile'],    # 업자번호\n",
    "                room['agent_phone'],    # 대표번호\n",
    "                room['agent_address1'], # 업자주소\n",
    "                room['is_status_open'], # 오픈상태\n",
    "                room['status'],         # 현재상태\n",
    "                room['secret_memo'],    # 비밀메모\n",
    "                room['description'].replace(\"\\n\\n\",\"\\n\"),  # 부가설명\n",
    "            ]\n",
    "\n",
    "        count = 1\n",
    "        currentTime = datetime.now()\n",
    "        while True:\n",
    "            csv_path = os.path.join('/home/giftbott', 'data', 'zigbang')\n",
    "            file_name = str(currentTime.month) + '.' + str(currentTime.day) + '_'\n",
    "            file_name = file_name + str(count) + '.csv'\n",
    "            csv_file = os.path.join(csv_path, file_name)\n",
    "            \n",
    "            if os.path.exists(csv_file):\n",
    "                count += 1\n",
    "            else:\n",
    "                break\n",
    "        \n",
    "        df.to_csv(csv_file)\n",
    "    \n",
    "    # 수행기능 : 방 이미지를 '원하는 경로/방id/번호.jpg' 에 저장\n",
    "    # 파라미터 : 리스트 ( 직방 각 매물에 대한 ID 리스트 )\n",
    "    def save_image(self, item_ids):\n",
    "        for id in item_ids:\n",
    "            detail_url = 'https://www.zigbang.com/items1/{id}'.format(id = id)\n",
    "            img_path = os.path.join('/home/giftbott', 'data','zigbang', id)\n",
    "\n",
    "            # 디렉토리가 있으면 이미 이미지가 저장된 상태이므로 pass\n",
    "            if not os.path.exists(img_path):\n",
    "                os.makedirs(img_path)\n",
    "\n",
    "                detail_response = requests.get(detail_url)\n",
    "                dom = BeautifulSoup(detail_response.content, 'html.parser')\n",
    "                img_lists = dom.select('.bxslider img')\n",
    "\n",
    "                for idx, image in enumerate(img_lists):\n",
    "                    img_name = os.path.join(img_path, (str)(idx + 1) + '.jpg')\n",
    "\n",
    "                    with open(img_name, 'wb') as f:\n",
    "                        f.write(requests.get(image['src']).content)\n",
    "\n",
    "                        \n",
    "def crawl(zigbang_url):\n",
    "    crawl = crawl_zigbang_info()\n",
    "    crawl.crawl_items(zigbang_url)"
   ]
  },
  {
   "cell_type": "code",
   "execution_count": 7,
   "metadata": {},
   "outputs": [
    {
     "name": "stdout",
     "output_type": "stream",
     "text": [
      "{1, 2, 3}\n",
      "{1, 2, 3}\n"
     ]
    }
   ],
   "source": [
    "a =  {1,2,3}\n",
    "print(a)\n",
    "type(a)\n",
    "a\n",
    "print(a)"
   ]
  },
  {
   "cell_type": "code",
   "execution_count": 25,
   "metadata": {},
   "outputs": [
    {
     "name": "stdout",
     "output_type": "stream",
     "text": [
      "A\n",
      "C\n",
      "G\n",
      "T\n"
     ]
    }
   ],
   "source": [
    "bases = ('A', 'C', 'G', 'T')\n",
    "for base in bases:\n",
    "    print(base)"
   ]
  },
  {
   "cell_type": "code",
   "execution_count": 14,
   "metadata": {},
   "outputs": [
    {
     "data": {
      "text/plain": [
       "True"
      ]
     },
     "execution_count": 14,
     "metadata": {},
     "output_type": "execute_result"
    }
   ],
   "source": [
    "d = 3\n",
    "d == (3 or 1)\n"
   ]
  },
  {
   "cell_type": "code",
   "execution_count": 26,
   "metadata": {},
   "outputs": [
    {
     "name": "stdout",
     "output_type": "stream",
     "text": [
      "first second\n",
      "second first\n"
     ]
    }
   ],
   "source": [
    "s1, s2 = 'first', 'second'\n",
    "print(s1, s2)\n",
    "s1, s2 = s2, s1\n",
    "print(s1, s2)"
   ]
  },
  {
   "cell_type": "code",
   "execution_count": 2,
   "metadata": {},
   "outputs": [
    {
     "name": "stdout",
     "output_type": "stream",
     "text": [
      "Requirement already satisfied: plotnine in /Users/noblyan/anaconda3/lib/python3.7/site-packages (0.5.1)\n",
      "Requirement already satisfied: pandas>=0.23.4 in /Users/noblyan/anaconda3/lib/python3.7/site-packages (from plotnine) (0.23.4)\n",
      "Requirement already satisfied: numpy in /Users/noblyan/anaconda3/lib/python3.7/site-packages (from plotnine) (1.15.4)\n",
      "Requirement already satisfied: patsy>=0.4.1 in /Users/noblyan/anaconda3/lib/python3.7/site-packages (from plotnine) (0.5.1)\n",
      "Requirement already satisfied: descartes>=1.1.0 in /Users/noblyan/anaconda3/lib/python3.7/site-packages (from plotnine) (1.1.0)\n",
      "Requirement already satisfied: mizani>=0.5.2 in /Users/noblyan/anaconda3/lib/python3.7/site-packages (from plotnine) (0.5.4)\n",
      "Requirement already satisfied: matplotlib>=3.0.0 in /Users/noblyan/anaconda3/lib/python3.7/site-packages (from plotnine) (3.0.2)\n",
      "Requirement already satisfied: statsmodels>=0.8.0 in /Users/noblyan/anaconda3/lib/python3.7/site-packages (from plotnine) (0.9.0)\n",
      "Requirement already satisfied: scipy>=1.0.0 in /Users/noblyan/anaconda3/lib/python3.7/site-packages (from plotnine) (1.1.0)\n",
      "Requirement already satisfied: python-dateutil>=2.5.0 in /Users/noblyan/anaconda3/lib/python3.7/site-packages (from pandas>=0.23.4->plotnine) (2.7.5)\n",
      "Requirement already satisfied: pytz>=2011k in /Users/noblyan/anaconda3/lib/python3.7/site-packages (from pandas>=0.23.4->plotnine) (2018.7)\n",
      "Requirement already satisfied: six in /Users/noblyan/anaconda3/lib/python3.7/site-packages (from patsy>=0.4.1->plotnine) (1.12.0)\n",
      "Requirement already satisfied: palettable in /Users/noblyan/anaconda3/lib/python3.7/site-packages (from mizani>=0.5.2->plotnine) (3.1.1)\n",
      "Requirement already satisfied: cycler>=0.10 in /Users/noblyan/anaconda3/lib/python3.7/site-packages (from matplotlib>=3.0.0->plotnine) (0.10.0)\n",
      "Requirement already satisfied: kiwisolver>=1.0.1 in /Users/noblyan/anaconda3/lib/python3.7/site-packages (from matplotlib>=3.0.0->plotnine) (1.0.1)\n",
      "Requirement already satisfied: pyparsing!=2.0.4,!=2.1.2,!=2.1.6,>=2.0.1 in /Users/noblyan/anaconda3/lib/python3.7/site-packages (from matplotlib>=3.0.0->plotnine) (2.3.0)\n",
      "Requirement already satisfied: setuptools in /Users/noblyan/anaconda3/lib/python3.7/site-packages (from kiwisolver>=1.0.1->matplotlib>=3.0.0->plotnine) (40.6.3)\n"
     ]
    }
   ],
   "source": [
    "!pip install plotnine"
   ]
  },
  {
   "cell_type": "code",
   "execution_count": 6,
   "metadata": {},
   "outputs": [
    {
     "name": "stdout",
     "output_type": "stream",
     "text": [
      "Requirement already satisfied: pandas in /Users/noblyan/anaconda3/lib/python3.7/site-packages (0.23.4)\n",
      "Requirement already satisfied: python-dateutil>=2.5.0 in /Users/noblyan/anaconda3/lib/python3.7/site-packages (from pandas) (2.7.5)\n",
      "Requirement already satisfied: pytz>=2011k in /Users/noblyan/anaconda3/lib/python3.7/site-packages (from pandas) (2018.7)\n",
      "Requirement already satisfied: numpy>=1.9.0 in /Users/noblyan/anaconda3/lib/python3.7/site-packages (from pandas) (1.15.4)\n",
      "Requirement already satisfied: six>=1.5 in /Users/noblyan/anaconda3/lib/python3.7/site-packages (from python-dateutil>=2.5.0->pandas) (1.12.0)\n"
     ]
    }
   ],
   "source": [
    "!pip install pandas"
   ]
  },
  {
   "cell_type": "code",
   "execution_count": 8,
   "metadata": {},
   "outputs": [
    {
     "ename": "NameError",
     "evalue": "name 'pandas' is not defined",
     "output_type": "error",
     "traceback": [
      "\u001b[0;31m-----------------------------------------------------------------------\u001b[0m",
      "\u001b[0;31mNameError\u001b[0m                             Traceback (most recent call last)",
      "\u001b[0;32m<ipython-input-8-800b3708db0c>\u001b[0m in \u001b[0;36m<module>\u001b[0;34m\u001b[0m\n\u001b[0;32m----> 1\u001b[0;31m \u001b[0mhelp\u001b[0m\u001b[0;34m(\u001b[0m\u001b[0mpandas\u001b[0m\u001b[0;34m)\u001b[0m\u001b[0;34m\u001b[0m\u001b[0;34m\u001b[0m\u001b[0m\n\u001b[0m",
      "\u001b[0;31mNameError\u001b[0m: name 'pandas' is not defined"
     ]
    }
   ],
   "source": [
    "help(pandas)"
   ]
  },
  {
   "cell_type": "code",
   "execution_count": 9,
   "metadata": {},
   "outputs": [
    {
     "name": "stdout",
     "output_type": "stream",
     "text": [
      "Requirement already satisfied: pandas in /Users/noblyan/anaconda3/lib/python3.7/site-packages (0.23.4)\n",
      "Requirement already satisfied: numpy in /Users/noblyan/anaconda3/lib/python3.7/site-packages (1.15.4)\n",
      "Requirement already satisfied: python-dateutil>=2.5.0 in /Users/noblyan/anaconda3/lib/python3.7/site-packages (from pandas) (2.7.5)\n",
      "Requirement already satisfied: pytz>=2011k in /Users/noblyan/anaconda3/lib/python3.7/site-packages (from pandas) (2018.7)\n",
      "Requirement already satisfied: six>=1.5 in /Users/noblyan/anaconda3/lib/python3.7/site-packages (from python-dateutil>=2.5.0->pandas) (1.12.0)\n"
     ]
    }
   ],
   "source": [
    "!pip install pandas numpy"
   ]
  }
 ],
 "metadata": {
  "kernelspec": {
   "display_name": "Python 3",
   "language": "python",
   "name": "python3"
  },
  "language_info": {
   "codemirror_mode": {
    "name": "ipython",
    "version": 3
   },
   "file_extension": ".py",
   "mimetype": "text/x-python",
   "name": "python",
   "nbconvert_exporter": "python",
   "pygments_lexer": "ipython3",
   "version": "3.7.1"
  }
 },
 "nbformat": 4,
 "nbformat_minor": 2
}
