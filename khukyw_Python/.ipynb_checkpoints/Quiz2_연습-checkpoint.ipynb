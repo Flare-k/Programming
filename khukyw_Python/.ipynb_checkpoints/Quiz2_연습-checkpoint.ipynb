{
 "cells": [
  {
   "cell_type": "code",
   "execution_count": 2,
   "metadata": {},
   "outputs": [
    {
     "ename": "NameError",
     "evalue": "name 'pi' is not defined",
     "output_type": "error",
     "traceback": [
      "\u001b[0;31m---------------------------------------------------------------------------\u001b[0m",
      "\u001b[0;31mNameError\u001b[0m                                 Traceback (most recent call last)",
      "\u001b[0;32m<ipython-input-2-f84ab820532c>\u001b[0m in \u001b[0;36m<module>\u001b[0;34m\u001b[0m\n\u001b[0;32m----> 1\u001b[0;31m \u001b[0mpi\u001b[0m\u001b[0;34m\u001b[0m\u001b[0;34m\u001b[0m\u001b[0m\n\u001b[0m",
      "\u001b[0;31mNameError\u001b[0m: name 'pi' is not defined"
     ]
    }
   ],
   "source": [
    "pi"
   ]
  },
  {
   "cell_type": "code",
   "execution_count": 4,
   "metadata": {},
   "outputs": [
    {
     "name": "stdout",
     "output_type": "stream",
     "text": [
      "3.141592653589793\n"
     ]
    }
   ],
   "source": [
    "import math\n",
    "print(math.pi)"
   ]
  },
  {
   "cell_type": "code",
   "execution_count": 6,
   "metadata": {},
   "outputs": [
    {
     "name": "stdout",
     "output_type": "stream",
     "text": [
      "this is experiment\n"
     ]
    }
   ],
   "source": [
    "import exp"
   ]
  },
  {
   "cell_type": "code",
   "execution_count": 8,
   "metadata": {},
   "outputs": [
    {
     "name": "stdout",
     "output_type": "stream",
     "text": [
      "this is experiment\n"
     ]
    },
    {
     "data": {
      "text/plain": [
       "<module 'exp' from '/Users/noblyan/Desktop/khukyw_Python/exp.py'>"
      ]
     },
     "execution_count": 8,
     "metadata": {},
     "output_type": "execute_result"
    }
   ],
   "source": [
    "import imp\n",
    "imp.reload(exp)"
   ]
  },
  {
   "cell_type": "code",
   "execution_count": 9,
   "metadata": {},
   "outputs": [
    {
     "data": {
      "text/plain": [
       "'__main__'"
      ]
     },
     "execution_count": 9,
     "metadata": {},
     "output_type": "execute_result"
    }
   ],
   "source": [
    "__name__"
   ]
  },
  {
   "cell_type": "code",
   "execution_count": 11,
   "metadata": {},
   "outputs": [
    {
     "data": {
      "text/plain": [
       "'exp'"
      ]
     },
     "execution_count": 11,
     "metadata": {},
     "output_type": "execute_result"
    }
   ],
   "source": [
    "exp.__name__"
   ]
  },
  {
   "cell_type": "code",
   "execution_count": 29,
   "metadata": {},
   "outputs": [],
   "source": [
    "import exp"
   ]
  },
  {
   "cell_type": "code",
   "execution_count": 30,
   "metadata": {},
   "outputs": [
    {
     "data": {
      "text/plain": [
       "'exp'"
      ]
     },
     "execution_count": 30,
     "metadata": {},
     "output_type": "execute_result"
    }
   ],
   "source": [
    "exp.__name__"
   ]
  },
  {
   "cell_type": "code",
   "execution_count": 31,
   "metadata": {},
   "outputs": [],
   "source": [
    "import imp"
   ]
  },
  {
   "cell_type": "code",
   "execution_count": 33,
   "metadata": {},
   "outputs": [
    {
     "data": {
      "text/plain": [
       "'imp'"
      ]
     },
     "execution_count": 33,
     "metadata": {},
     "output_type": "execute_result"
    }
   ],
   "source": [
    "imp.__name__"
   ]
  },
  {
   "cell_type": "code",
   "execution_count": 2,
   "metadata": {},
   "outputs": [
    {
     "name": "stdout",
     "output_type": "stream",
     "text": [
      "0.8939966636005579\n",
      "1.0\n",
      "90.0\n",
      "2.718281828459045\n",
      "2.718281828459045\n",
      "1.0\n"
     ]
    }
   ],
   "source": [
    "import math\n",
    "a=0\n",
    "b=90\n",
    "c=45\n",
    "d=60\n",
    "e=90\n",
    "print(math.sin(b))\n",
    "print(math.sin(math.radians(b)))  #b를 호도법(라디안)으로 바꾸고 싸인함수 처리한것.\n",
    "print(math.degrees(math.asin(1)))  #라디안 값을 각도로 표현   arc sin(10) = 90도 (pi/2)\n",
    "print(math.e)\n",
    "print(math.exp(1))\n",
    "print(math.log(math.e))"
   ]
  },
  {
   "cell_type": "code",
   "execution_count": 9,
   "metadata": {},
   "outputs": [
    {
     "data": {
      "text/plain": [
       "2.718281828459045"
      ]
     },
     "execution_count": 9,
     "metadata": {},
     "output_type": "execute_result"
    }
   ],
   "source": [
    "import math\n",
    "math.inf\n",
    "math.pi\n",
    "math.exp(1)"
   ]
  },
  {
   "cell_type": "code",
   "execution_count": 32,
   "metadata": {},
   "outputs": [
    {
     "name": "stdout",
     "output_type": "stream",
     "text": [
      "7.669215647877359\n",
      "2\n",
      "9.940002616084033\n",
      "4.860688013677376\n",
      "0.10297977461179919\n"
     ]
    }
   ],
   "source": [
    "import random\n",
    "print(random.uniform(1,10))\n",
    "print(int(random.uniform(1,10)))\n",
    "print(random.uniform(1,10))\n",
    "print(random.uniform(1,10))\n",
    "print(random.random())"
   ]
  },
  {
   "cell_type": "code",
   "execution_count": 43,
   "metadata": {
    "scrolled": true
   },
   "outputs": [
    {
     "name": "stdout",
     "output_type": "stream",
     "text": [
      "hOlLywOoD\n",
      "hOlLywOoD\n",
      "hOlLywOoD\n",
      "True\n",
      "False\n"
     ]
    }
   ],
   "source": [
    "a = \"HoLlYWoOd\"\n",
    "print(a.swapcase())\n",
    "print(str.swapcase(\"HoLlYWoOd\"))\n",
    "print((\"HoLlYWoOd\").swapcase())\n",
    "print(a.startswith('Ho'))\n",
    "print(a.startswith('ho'))"
   ]
  },
  {
   "cell_type": "code",
   "execution_count": 49,
   "metadata": {},
   "outputs": [
    {
     "name": "stdout",
     "output_type": "stream",
     "text": [
      "Enter the pH level: 12\n",
      "12.0 is basic.\n",
      "Be careful with that!\n"
     ]
    }
   ],
   "source": [
    "ph= float(input('Enter the pH level: '))\n",
    "if ph< 7.0:\n",
    "    print(ph, \"is acidic.\")\n",
    "elif ph> 7.0:\n",
    "    print(ph, \"is basic.\")\n",
    "          \n",
    "print(\"Be careful with that!\")"
   ]
  },
  {
   "cell_type": "code",
   "execution_count": 56,
   "metadata": {},
   "outputs": [
    {
     "name": "stdout",
     "output_type": "stream",
     "text": [
      "Enter the compound: \n",
      "Unknown compound\n"
     ]
    }
   ],
   "source": [
    "compound = input('Enter the compound: ')\n",
    "if compound == \"H2O\":\n",
    "    print(\"Water\")\n",
    "elif compound == \"NH3\":\n",
    "    print(\"Ammonia\")\n",
    "elif compound == \"CH4\":\n",
    "    print(\"Methane\")\n",
    "else:\n",
    "    print(\"Unknown compound\")"
   ]
  },
  {
   "cell_type": "code",
   "execution_count": 58,
   "metadata": {},
   "outputs": [
    {
     "ename": "NameError",
     "evalue": "name 'age' is not defined",
     "output_type": "error",
     "traceback": [
      "\u001b[0;31m---------------------------------------------------------------------------\u001b[0m",
      "\u001b[0;31mNameError\u001b[0m                                 Traceback (most recent call last)",
      "\u001b[0;32m<ipython-input-58-cc08fa530305>\u001b[0m in \u001b[0;36m<module>\u001b[0;34m\u001b[0m\n\u001b[0;32m----> 1\u001b[0;31m \u001b[0;32mif\u001b[0m \u001b[0mage\u001b[0m \u001b[0;34m<\u001b[0m \u001b[0;36m45\u001b[0m\u001b[0;34m:\u001b[0m\u001b[0;34m\u001b[0m\u001b[0;34m\u001b[0m\u001b[0m\n\u001b[0m\u001b[1;32m      2\u001b[0m     \u001b[0;32mif\u001b[0m \u001b[0mbmi\u001b[0m \u001b[0;34m<\u001b[0m \u001b[0;36m22.0\u001b[0m\u001b[0;34m:\u001b[0m\u001b[0;34m\u001b[0m\u001b[0;34m\u001b[0m\u001b[0m\n\u001b[1;32m      3\u001b[0m         \u001b[0mrisk\u001b[0m \u001b[0;34m=\u001b[0m \u001b[0;34m'low'\u001b[0m\u001b[0;34m\u001b[0m\u001b[0;34m\u001b[0m\u001b[0m\n\u001b[1;32m      4\u001b[0m     \u001b[0;32melse\u001b[0m\u001b[0;34m:\u001b[0m\u001b[0;34m\u001b[0m\u001b[0;34m\u001b[0m\u001b[0m\n\u001b[1;32m      5\u001b[0m         \u001b[0mrisk\u001b[0m \u001b[0;34m=\u001b[0m \u001b[0;34m'medium'\u001b[0m\u001b[0;34m\u001b[0m\u001b[0;34m\u001b[0m\u001b[0m\n",
      "\u001b[0;31mNameError\u001b[0m: name 'age' is not defined"
     ]
    }
   ],
   "source": [
    "if age < 45:\n",
    "    if bmi < 22.0:\n",
    "        risk = 'low'\n",
    "    else:\n",
    "        risk = 'medium'\n",
    "else:\n",
    "    if bmi<22.0:\n",
    "        risk = 'medium'\n",
    "    else:\n",
    "        risk = 'high'"
   ]
  },
  {
   "cell_type": "code",
   "execution_count": 60,
   "metadata": {},
   "outputs": [
    {
     "ename": "NameError",
     "evalue": "name 'age' is not defined",
     "output_type": "error",
     "traceback": [
      "\u001b[0;31m---------------------------------------------------------------------------\u001b[0m",
      "\u001b[0;31mNameError\u001b[0m                                 Traceback (most recent call last)",
      "\u001b[0;32m<ipython-input-60-731ae4e7cefc>\u001b[0m in \u001b[0;36m<module>\u001b[0;34m\u001b[0m\n\u001b[0;32m----> 1\u001b[0;31m \u001b[0myoung\u001b[0m \u001b[0;34m=\u001b[0m \u001b[0mage\u001b[0m\u001b[0;34m<\u001b[0m\u001b[0;36m45\u001b[0m\u001b[0;34m\u001b[0m\u001b[0;34m\u001b[0m\u001b[0m\n\u001b[0m\u001b[1;32m      2\u001b[0m \u001b[0mslim\u001b[0m \u001b[0;34m=\u001b[0m \u001b[0mbmi\u001b[0m \u001b[0;34m<\u001b[0m\u001b[0;36m22.0\u001b[0m\u001b[0;34m\u001b[0m\u001b[0;34m\u001b[0m\u001b[0m\n\u001b[1;32m      3\u001b[0m \u001b[0;32mif\u001b[0m \u001b[0myoung\u001b[0m\u001b[0;34m:\u001b[0m\u001b[0;34m\u001b[0m\u001b[0;34m\u001b[0m\u001b[0m\n\u001b[1;32m      4\u001b[0m     \u001b[0;32mif\u001b[0m \u001b[0mslim\u001b[0m\u001b[0;34m:\u001b[0m\u001b[0;34m\u001b[0m\u001b[0;34m\u001b[0m\u001b[0m\n\u001b[1;32m      5\u001b[0m         \u001b[0mrisk\u001b[0m \u001b[0;34m=\u001b[0m \u001b[0;34m'low'\u001b[0m\u001b[0;34m\u001b[0m\u001b[0;34m\u001b[0m\u001b[0m\n",
      "\u001b[0;31mNameError\u001b[0m: name 'age' is not defined"
     ]
    }
   ],
   "source": [
    "young = age<45\n",
    "slim = bmi <22.0\n",
    "if young:\n",
    "    if slim:\n",
    "        risk = 'low'\n",
    "    else:\n",
    "        risk = 'medium'\n",
    "else:\n",
    "    if slim:\n",
    "        risk = 'medium'\n",
    "    else:\n",
    "        risk = 'high'\n",
    "#이게 위에 있는 코딩보다 더 좋다."
   ]
  },
  {
   "cell_type": "code",
   "execution_count": 62,
   "metadata": {},
   "outputs": [],
   "source": [
    "import random"
   ]
  },
  {
   "cell_type": "code",
   "execution_count": 97,
   "metadata": {},
   "outputs": [
    {
     "name": "stdout",
     "output_type": "stream",
     "text": [
      "0.6803715236909974\n",
      "5.959216376171054\n",
      "2\n",
      "2\n",
      "3\n",
      "3\n"
     ]
    }
   ],
   "source": [
    "x1 = random.random()    #0~1사이의 임의의 실수 출력 (1포함 X)\n",
    "print(x1)\n",
    "x2 = random.uniform(1,10)    #start~stop사이의 임의의 실수 출력 (stop포함 X)\n",
    "print(x2)\n",
    "x3 = random.randrange(8)    #0~stop사이의 임의의 정수 출력(stop포함 X)\n",
    "print(x3)\n",
    "x4 = random.randrange(0,8)  #start~stop 사이의 임의의 정수 출력(stop포함 X)\n",
    "print(x4)\n",
    "x5 = random.randrange(0,8,3) #start~stop 사이의 임의의 step배수 정수 출력(stop포함 X)\n",
    "print(x5)\n",
    "x6 = random.randint(2,6)    #start~stop사이의 임의의 정수출력 (stop포함)\n",
    "print(x6)"
   ]
  },
  {
   "cell_type": "code",
   "execution_count": 130,
   "metadata": {},
   "outputs": [],
   "source": [
    "import turtle\n",
    "t = turtle.Pen()\n",
    "t.forward(50)\n",
    "t.left(90)\n",
    "t.forward(50)\n",
    "t.left(90)\n",
    "t.forward(50)\n",
    "t.left(90)\n",
    "t.forward(50)\n",
    "t.left(90)\n",
    "turtle.done()\n",
    "#turtle.shape(\"turtle\")\n",
    "#turtle.shapesize(3,4,2)#세로,가로,윤곽선\n",
    "\n"
   ]
  },
  {
   "cell_type": "code",
   "execution_count": 1,
   "metadata": {},
   "outputs": [
    {
     "ename": "NameError",
     "evalue": "name 'turtle' is not defined",
     "output_type": "error",
     "traceback": [
      "\u001b[0;31m---------------------------------------------------------------------------\u001b[0m",
      "\u001b[0;31mNameError\u001b[0m                                 Traceback (most recent call last)",
      "\u001b[0;32m<ipython-input-1-9a2ad19e1c65>\u001b[0m in \u001b[0;36m<module>\u001b[0;34m\u001b[0m\n\u001b[0;32m----> 1\u001b[0;31m \u001b[0mhelp\u001b[0m\u001b[0;34m(\u001b[0m\u001b[0mturtle\u001b[0m\u001b[0;34m)\u001b[0m\u001b[0;34m\u001b[0m\u001b[0;34m\u001b[0m\u001b[0m\n\u001b[0m",
      "\u001b[0;31mNameError\u001b[0m: name 'turtle' is not defined"
     ]
    }
   ],
   "source": [
    "help(turtle)"
   ]
  },
  {
   "cell_type": "code",
   "execution_count": 1,
   "metadata": {},
   "outputs": [],
   "source": [
    "#별그리기\n",
    "import turtle\n",
    "t = turtle.Pen()\n",
    "\n",
    "t.right(72)\n",
    "t.forward(100)\n",
    "t.left(72)\n",
    "t.forward(100)\n",
    "t.right(180-36)\n",
    "t.forward(100)\n",
    "t.left(180-108)\n",
    "t.forward(100)\n",
    "t.right(180-36)\n",
    "t.forward(100)\n",
    "t.left(72)\n",
    "t.forward(100)\n",
    "t.right(180-36)\n",
    "t.forward(100)\n",
    "t.left(72)\n",
    "t.forward(100)\n",
    "t.right(180-36)\n",
    "t.forward(100)\n",
    "t.left(72)\n",
    "t.forward(100)"
   ]
  },
  {
   "cell_type": "code",
   "execution_count": 8,
   "metadata": {},
   "outputs": [
    {
     "name": "stdout",
     "output_type": "stream",
     "text": [
      "True\n",
      "False\n",
      "False\n",
      "Hello World\n"
     ]
    }
   ],
   "source": [
    "print('ABC123'.isupper())\n",
    "print('hello'.endswith('e'))\n",
    "print('hello'.startswith('e'))\n",
    "print('Hello {}'.format('World'))"
   ]
  },
  {
   "cell_type": "code",
   "execution_count": 15,
   "metadata": {},
   "outputs": [
    {
     "data": {
      "text/plain": [
       "[]"
      ]
     },
     "execution_count": 15,
     "metadata": {},
     "output_type": "execute_result"
    }
   ],
   "source": [
    "life = [['Canada', 76.5], ['Korea', 87.2], ['Mexico', 88.2]]\n",
    "life\n",
    "canada = life[0]\n",
    "canada[1] = 80.0\n",
    "canada\n",
    "life[0][1]\n",
    "life.clear()\n",
    "life"
   ]
  },
  {
   "cell_type": "code",
   "execution_count": 30,
   "metadata": {},
   "outputs": [
    {
     "name": "stdout",
     "output_type": "stream",
     "text": [
      "Aliasing\n",
      "x= [1, 2, 3, 4, 5]\n",
      "y= [1, 2, 3, 4, 5]\n",
      "z= [1, 2, 3, 4, 5]\n",
      "Copying\n",
      "x= [8, 2, 3, 4, 5]\n",
      "y= [8, 2, 3, 4, 5]\n",
      "z= [1, 2, 3, 4, 5]\n",
      "z= [1, 2, 3]\n",
      "z= [5, 4, 3, 2, 1]\n",
      "0\n"
     ]
    }
   ],
   "source": [
    "#Aliasing vs. Copying\n",
    "x = [1,2,3,4,5]\n",
    "y=x\n",
    "z = x[:]\n",
    "print(\"Aliasing\")\n",
    "print(\"x=\",x)\n",
    "print(\"y=\",y)\n",
    "print(\"z=\",z)\n",
    "y[0] = 8\n",
    "print(\"Copying\")\n",
    "print(\"x=\",x)\n",
    "print(\"y=\",y)\n",
    "print(\"z=\",z)\n",
    "print(\"z=\",z[0:3])\n",
    "print(\"z=\",z[::-1])\n",
    "print(z.count('3'))"
   ]
  },
  {
   "cell_type": "code",
   "execution_count": 32,
   "metadata": {},
   "outputs": [
    {
     "name": "stdout",
     "output_type": "stream",
     "text": [
      "['red', 'orange', 'green', ['yellow']]\n",
      "['red', 'orange', 'green', ['yellow'], 'yellow']\n",
      "['red', 'orange', 'green', ['yellow'], 'yellow', 'blue']\n",
      "['red', 'orange', 'green', ['yellow'], 'yellow', 'blue', 'b', 'l', 'u', 'e']\n",
      "1\n",
      "3\n",
      "['red', 'orange', 'green', 'yellow', 'blue', 'b', 'l', 'u', 'e']\n"
     ]
    },
    {
     "data": {
      "text/plain": [
       "5"
      ]
     },
     "execution_count": 32,
     "metadata": {},
     "output_type": "execute_result"
    }
   ],
   "source": [
    "colors = ['red', 'orange', 'green']\n",
    "colors.append(['yellow'])  #append는 요소 또는 리스트로 저장됨.\n",
    "print(colors)\n",
    "colors.append('yellow')\n",
    "print(colors)\n",
    "colors.extend(['blue'])    #extend는 리스트로 저장하려해도 리스트가아닌 리스트의 요소로 연장됨.\n",
    "print(colors)             #그냥 문자열로 받으면 글자하나하나를 리스트로 받음\n",
    "colors.extend('blue')\n",
    "print(colors)\n",
    "print(colors.count('b'))\n",
    "print(colors.index(['yellow']))\n",
    "colors.remove(['yellow'])\n",
    "print(colors)\n",
    "colors.pop()\n",
    "colors\n",
    "colors.index('red',0,2)    #.index('요소명',시작 인덱스, 끝 인덱스)\n",
    "colors\n",
    "colors.sort()\n",
    "colors\n",
    "colors.index('red',0)    #.index('요소명',시작 인덱스,( 끝 인덱스)\n"
   ]
  },
  {
   "cell_type": "code",
   "execution_count": 25,
   "metadata": {},
   "outputs": [
    {
     "name": "stdout",
     "output_type": "stream",
     "text": [
      "Enter a gas:gas\n",
      "gas is not noble\n"
     ]
    }
   ],
   "source": [
    "nobles = ['helium', 'none', 'argon', 'krypton', 'xenon', 'radon']\n",
    "nobles\n",
    "gas = input('Enter a gas:')\n",
    "if gas in nobles:\n",
    "    print('{} is noble.'.format(gas))\n",
    "else:\n",
    "    print('{} is not noble'.format(gas))"
   ]
  },
  {
   "cell_type": "code",
   "execution_count": 44,
   "metadata": {},
   "outputs": [
    {
     "data": {
      "text/plain": [
       "['Fe', 'Ni', 'Fe', 'Ni', 'Fe', 'Ni']"
      ]
     },
     "execution_count": 44,
     "metadata": {},
     "output_type": "execute_result"
    }
   ],
   "source": [
    "original = ['H', 'He', 'Li']\n",
    "final = original + ['Be']\n",
    "final\n",
    "metal = ['Fe', 'Ni']\n",
    "metal*3"
   ]
  },
  {
   "cell_type": "code",
   "execution_count": 47,
   "metadata": {},
   "outputs": [
    {
     "name": "stdout",
     "output_type": "stream",
     "text": [
      "one\ttwo\n",
      "three\tfour\n"
     ]
    }
   ],
   "source": [
    "print('one\\ttwo\\nthree\\tfour')"
   ]
  },
  {
   "cell_type": "code",
   "execution_count": 2,
   "metadata": {},
   "outputs": [
    {
     "name": "stdout",
     "output_type": "stream",
     "text": [
      "정수를 입력하시오 = 2\n"
     ]
    },
    {
     "data": {
      "text/plain": [
       "True"
      ]
     },
     "execution_count": 2,
     "metadata": {},
     "output_type": "execute_result"
    }
   ],
   "source": [
    "def is_positive(x):\n",
    "    \"\"\"\n",
    "    (number)-> bool\n",
    "    Return True iff x is positive.\n",
    "    >>>is_positive(3)\n",
    "    True\n",
    "    >>>is_positive(-4.6)\n",
    "    False\n",
    "    >>>is_positive(0.0)\n",
    "    False\n",
    "    \"\"\"\n",
    "    return x > 0\n",
    "\n",
    "x = int(input(\"정수를 입력하시오 = \"))\n",
    "is_positive(x)"
   ]
  },
  {
   "cell_type": "code",
   "execution_count": 9,
   "metadata": {},
   "outputs": [
    {
     "name": "stdout",
     "output_type": "stream",
     "text": [
      "\r",
      "apple\n",
      "\r",
      "banana\n",
      "\r",
      "orange\n"
     ]
    }
   ],
   "source": [
    "abc = ['apple', 'banana', 'orange']\n",
    "for i in abc:\n",
    "    print('\\r'+i)"
   ]
  },
  {
   "cell_type": "code",
   "execution_count": 2,
   "metadata": {},
   "outputs": [
    {
     "name": "stdout",
     "output_type": "stream",
     "text": [
      "4\r"
     ]
    }
   ],
   "source": [
    "import sys\n",
    "import time\n",
    "\n",
    "for i in range(5):\n",
    "    print('{}\\r'.format(i), end='')\n",
    "    sys.stdout.flush()\n",
    "    time.sleep(1)\n",
    "    \n",
    "#\\r로 하면 리턴을 다시 맨앞자리에서 받는다... 실행해보면 알 수 있을 것."
   ]
  },
  {
   "cell_type": "code",
   "execution_count": 12,
   "metadata": {},
   "outputs": [
    {
     "name": "stdout",
     "output_type": "stream",
     "text": [
      "Help on module abc:\n",
      "\n",
      "NAME\n",
      "    abc - Abstract Base Classes (ABCs) according to PEP 3119.\n",
      "\n",
      "MODULE REFERENCE\n",
      "    https://docs.python.org/3.7/library/abc\n",
      "    \n",
      "    The following documentation is automatically generated from the Python\n",
      "    source files.  It may be incomplete, incorrect or include features that\n",
      "    are considered implementation detail and may vary between Python\n",
      "    implementations.  When in doubt, consult the module reference at the\n",
      "    location listed above.\n",
      "\n",
      "CLASSES\n",
      "    builtins.classmethod(builtins.object)\n",
      "        abstractclassmethod\n",
      "    builtins.object\n",
      "        ABC\n",
      "    builtins.property(builtins.object)\n",
      "        abstractproperty\n",
      "    builtins.staticmethod(builtins.object)\n",
      "        abstractstaticmethod\n",
      "    builtins.type(builtins.object)\n",
      "        ABCMeta\n",
      "    \n",
      "    class ABC(builtins.object)\n",
      "     |  Helper class that provides a standard way to create an ABC using\n",
      "     |  inheritance.\n",
      "     |  \n",
      "     |  Data and other attributes defined here:\n",
      "     |  \n",
      "     |  __abstractmethods__ = frozenset()\n",
      "    \n",
      "    class ABCMeta(builtins.type)\n",
      "     |  ABCMeta(name, bases, namespace, **kwargs)\n",
      "     |  \n",
      "     |  Metaclass for defining Abstract Base Classes (ABCs).\n",
      "     |  \n",
      "     |  Use this metaclass to create an ABC.  An ABC can be subclassed\n",
      "     |  directly, and then acts as a mix-in class.  You can also register\n",
      "     |  unrelated concrete classes (even built-in classes) and unrelated\n",
      "     |  ABCs as 'virtual subclasses' -- these and their descendants will\n",
      "     |  be considered subclasses of the registering ABC by the built-in\n",
      "     |  issubclass() function, but the registering ABC won't show up in\n",
      "     |  their MRO (Method Resolution Order) nor will method\n",
      "     |  implementations defined by the registering ABC be callable (not\n",
      "     |  even via super()).\n",
      "     |  \n",
      "     |  Method resolution order:\n",
      "     |      ABCMeta\n",
      "     |      builtins.type\n",
      "     |      builtins.object\n",
      "     |  \n",
      "     |  Methods defined here:\n",
      "     |  \n",
      "     |  __instancecheck__(cls, instance)\n",
      "     |      Override for isinstance(instance, cls).\n",
      "     |  \n",
      "     |  __subclasscheck__(cls, subclass)\n",
      "     |      Override for issubclass(subclass, cls).\n",
      "     |  \n",
      "     |  register(cls, subclass)\n",
      "     |      Register a virtual subclass of an ABC.\n",
      "     |      \n",
      "     |      Returns the subclass, to allow usage as a class decorator.\n",
      "     |  \n",
      "     |  ----------------------------------------------------------------------\n",
      "     |  Static methods defined here:\n",
      "     |  \n",
      "     |  __new__(mcls, name, bases, namespace, **kwargs)\n",
      "     |      Create and return a new object.  See help(type) for accurate signature.\n",
      "     |  \n",
      "     |  ----------------------------------------------------------------------\n",
      "     |  Methods inherited from builtins.type:\n",
      "     |  \n",
      "     |  __call__(self, /, *args, **kwargs)\n",
      "     |      Call self as a function.\n",
      "     |  \n",
      "     |  __delattr__(self, name, /)\n",
      "     |      Implement delattr(self, name).\n",
      "     |  \n",
      "     |  __dir__(self, /)\n",
      "     |      Specialized __dir__ implementation for types.\n",
      "     |  \n",
      "     |  __getattribute__(self, name, /)\n",
      "     |      Return getattr(self, name).\n",
      "     |  \n",
      "     |  __init__(self, /, *args, **kwargs)\n",
      "     |      Initialize self.  See help(type(self)) for accurate signature.\n",
      "     |  \n",
      "     |  __repr__(self, /)\n",
      "     |      Return repr(self).\n",
      "     |  \n",
      "     |  __setattr__(self, name, value, /)\n",
      "     |      Implement setattr(self, name, value).\n",
      "     |  \n",
      "     |  __sizeof__(self, /)\n",
      "     |      Return memory consumption of the type object.\n",
      "     |  \n",
      "     |  __subclasses__(self, /)\n",
      "     |      Return a list of immediate subclasses.\n",
      "     |  \n",
      "     |  mro(self, /)\n",
      "     |      Return a type's method resolution order.\n",
      "     |  \n",
      "     |  ----------------------------------------------------------------------\n",
      "     |  Class methods inherited from builtins.type:\n",
      "     |  \n",
      "     |  __prepare__(...) from builtins.type\n",
      "     |      __prepare__() -> dict\n",
      "     |      used to create the namespace for the class statement\n",
      "     |  \n",
      "     |  ----------------------------------------------------------------------\n",
      "     |  Data descriptors inherited from builtins.type:\n",
      "     |  \n",
      "     |  __abstractmethods__\n",
      "     |  \n",
      "     |  __dict__\n",
      "     |  \n",
      "     |  __text_signature__\n",
      "     |  \n",
      "     |  ----------------------------------------------------------------------\n",
      "     |  Data and other attributes inherited from builtins.type:\n",
      "     |  \n",
      "     |  __base__ = <class 'type'>\n",
      "     |      type(object_or_name, bases, dict)\n",
      "     |      type(object) -> the object's type\n",
      "     |      type(name, bases, dict) -> a new type\n",
      "     |  \n",
      "     |  __bases__ = (<class 'type'>,)\n",
      "     |  \n",
      "     |  __basicsize__ = 864\n",
      "     |  \n",
      "     |  __dictoffset__ = 264\n",
      "     |  \n",
      "     |  __flags__ = 2148292097\n",
      "     |  \n",
      "     |  __itemsize__ = 40\n",
      "     |  \n",
      "     |  __mro__ = (<class 'abc.ABCMeta'>, <class 'type'>, <class 'object'>)\n",
      "     |  \n",
      "     |  __weakrefoffset__ = 368\n",
      "    \n",
      "    class abstractclassmethod(builtins.classmethod)\n",
      "     |  abstractclassmethod(callable)\n",
      "     |  \n",
      "     |  A decorator indicating abstract classmethods.\n",
      "     |  \n",
      "     |  Similar to abstractmethod.\n",
      "     |  \n",
      "     |  Usage:\n",
      "     |  \n",
      "     |      class C(metaclass=ABCMeta):\n",
      "     |          @abstractclassmethod\n",
      "     |          def my_abstract_classmethod(cls, ...):\n",
      "     |              ...\n",
      "     |  \n",
      "     |  'abstractclassmethod' is deprecated. Use 'classmethod' with\n",
      "     |  'abstractmethod' instead.\n",
      "     |  \n",
      "     |  Method resolution order:\n",
      "     |      abstractclassmethod\n",
      "     |      builtins.classmethod\n",
      "     |      builtins.object\n",
      "     |  \n",
      "     |  Methods defined here:\n",
      "     |  \n",
      "     |  __init__(self, callable)\n",
      "     |      Initialize self.  See help(type(self)) for accurate signature.\n",
      "     |  \n",
      "     |  ----------------------------------------------------------------------\n",
      "     |  Data descriptors defined here:\n",
      "     |  \n",
      "     |  __weakref__\n",
      "     |      list of weak references to the object (if defined)\n",
      "     |  \n",
      "     |  ----------------------------------------------------------------------\n",
      "     |  Data and other attributes defined here:\n",
      "     |  \n",
      "     |  __isabstractmethod__ = True\n",
      "     |  \n",
      "     |  ----------------------------------------------------------------------\n",
      "     |  Methods inherited from builtins.classmethod:\n",
      "     |  \n",
      "     |  __get__(self, instance, owner, /)\n",
      "     |      Return an attribute of instance, which is of type owner.\n",
      "     |  \n",
      "     |  ----------------------------------------------------------------------\n",
      "     |  Static methods inherited from builtins.classmethod:\n",
      "     |  \n",
      "     |  __new__(*args, **kwargs) from builtins.type\n",
      "     |      Create and return a new object.  See help(type) for accurate signature.\n",
      "     |  \n",
      "     |  ----------------------------------------------------------------------\n",
      "     |  Data descriptors inherited from builtins.classmethod:\n",
      "     |  \n",
      "     |  __dict__\n",
      "     |  \n",
      "     |  __func__\n",
      "    \n",
      "    class abstractproperty(builtins.property)\n",
      "     |  abstractproperty(fget=None, fset=None, fdel=None, doc=None)\n",
      "     |  \n",
      "     |  A decorator indicating abstract properties.\n",
      "     |  \n",
      "     |  Requires that the metaclass is ABCMeta or derived from it.  A\n",
      "     |  class that has a metaclass derived from ABCMeta cannot be\n",
      "     |  instantiated unless all of its abstract properties are overridden.\n",
      "     |  The abstract properties can be called using any of the normal\n",
      "     |  'super' call mechanisms.\n",
      "     |  \n",
      "     |  Usage:\n",
      "     |  \n",
      "     |      class C(metaclass=ABCMeta):\n",
      "     |          @abstractproperty\n",
      "     |          def my_abstract_property(self):\n",
      "     |              ...\n",
      "     |  \n",
      "     |  This defines a read-only property; you can also define a read-write\n",
      "     |  abstract property using the 'long' form of property declaration:\n",
      "     |  \n",
      "     |      class C(metaclass=ABCMeta):\n",
      "     |          def getx(self): ...\n",
      "     |          def setx(self, value): ...\n",
      "     |          x = abstractproperty(getx, setx)\n",
      "     |  \n",
      "     |  'abstractproperty' is deprecated. Use 'property' with 'abstractmethod'\n",
      "     |  instead.\n",
      "     |  \n",
      "     |  Method resolution order:\n",
      "     |      abstractproperty\n",
      "     |      builtins.property\n",
      "     |      builtins.object\n",
      "     |  \n",
      "     |  Data descriptors defined here:\n",
      "     |  \n",
      "     |  __dict__\n",
      "     |      dictionary for instance variables (if defined)\n",
      "     |  \n",
      "     |  __weakref__\n",
      "     |      list of weak references to the object (if defined)\n",
      "     |  \n",
      "     |  ----------------------------------------------------------------------\n",
      "     |  Data and other attributes defined here:\n",
      "     |  \n",
      "     |  __isabstractmethod__ = True\n",
      "     |  \n",
      "     |  ----------------------------------------------------------------------\n",
      "     |  Methods inherited from builtins.property:\n",
      "     |  \n",
      "     |  __delete__(self, instance, /)\n",
      "     |      Delete an attribute of instance.\n",
      "     |  \n",
      "     |  __get__(self, instance, owner, /)\n",
      "     |      Return an attribute of instance, which is of type owner.\n",
      "     |  \n",
      "     |  __getattribute__(self, name, /)\n",
      "     |      Return getattr(self, name).\n",
      "     |  \n",
      "     |  __init__(self, /, *args, **kwargs)\n",
      "     |      Initialize self.  See help(type(self)) for accurate signature.\n",
      "     |  \n",
      "     |  __set__(self, instance, value, /)\n",
      "     |      Set an attribute of instance to value.\n",
      "     |  \n",
      "     |  deleter(...)\n",
      "     |      Descriptor to change the deleter on a property.\n",
      "     |  \n",
      "     |  getter(...)\n",
      "     |      Descriptor to change the getter on a property.\n",
      "     |  \n",
      "     |  setter(...)\n",
      "     |      Descriptor to change the setter on a property.\n",
      "     |  \n",
      "     |  ----------------------------------------------------------------------\n",
      "     |  Static methods inherited from builtins.property:\n",
      "     |  \n",
      "     |  __new__(*args, **kwargs) from builtins.type\n",
      "     |      Create and return a new object.  See help(type) for accurate signature.\n",
      "     |  \n",
      "     |  ----------------------------------------------------------------------\n",
      "     |  Data descriptors inherited from builtins.property:\n",
      "     |  \n",
      "     |  fdel\n",
      "     |  \n",
      "     |  fget\n",
      "     |  \n",
      "     |  fset\n",
      "    \n",
      "    class abstractstaticmethod(builtins.staticmethod)\n",
      "     |  abstractstaticmethod(callable)\n",
      "     |  \n",
      "     |  A decorator indicating abstract staticmethods.\n",
      "     |  \n",
      "     |  Similar to abstractmethod.\n",
      "     |  \n",
      "     |  Usage:\n",
      "     |  \n",
      "     |      class C(metaclass=ABCMeta):\n",
      "     |          @abstractstaticmethod\n",
      "     |          def my_abstract_staticmethod(...):\n",
      "     |              ...\n",
      "     |  \n",
      "     |  'abstractstaticmethod' is deprecated. Use 'staticmethod' with\n",
      "     |  'abstractmethod' instead.\n",
      "     |  \n",
      "     |  Method resolution order:\n",
      "     |      abstractstaticmethod\n",
      "     |      builtins.staticmethod\n",
      "     |      builtins.object\n",
      "     |  \n",
      "     |  Methods defined here:\n",
      "     |  \n",
      "     |  __init__(self, callable)\n",
      "     |      Initialize self.  See help(type(self)) for accurate signature.\n",
      "     |  \n",
      "     |  ----------------------------------------------------------------------\n",
      "     |  Data descriptors defined here:\n",
      "     |  \n",
      "     |  __weakref__\n",
      "     |      list of weak references to the object (if defined)\n",
      "     |  \n",
      "     |  ----------------------------------------------------------------------\n",
      "     |  Data and other attributes defined here:\n",
      "     |  \n",
      "     |  __isabstractmethod__ = True\n",
      "     |  \n",
      "     |  ----------------------------------------------------------------------\n",
      "     |  Methods inherited from builtins.staticmethod:\n",
      "     |  \n",
      "     |  __get__(self, instance, owner, /)\n",
      "     |      Return an attribute of instance, which is of type owner.\n",
      "     |  \n",
      "     |  ----------------------------------------------------------------------\n",
      "     |  Static methods inherited from builtins.staticmethod:\n",
      "     |  \n",
      "     |  __new__(*args, **kwargs) from builtins.type\n",
      "     |      Create and return a new object.  See help(type) for accurate signature.\n",
      "     |  \n",
      "     |  ----------------------------------------------------------------------\n",
      "     |  Data descriptors inherited from builtins.staticmethod:\n",
      "     |  \n",
      "     |  __dict__\n",
      "     |  \n",
      "     |  __func__\n",
      "\n",
      "FUNCTIONS\n",
      "    abstractmethod(funcobj)\n",
      "        A decorator indicating abstract methods.\n",
      "        \n",
      "        Requires that the metaclass is ABCMeta or derived from it.  A\n",
      "        class that has a metaclass derived from ABCMeta cannot be\n",
      "        instantiated unless all of its abstract methods are overridden.\n",
      "        The abstract methods can be called using any of the normal\n",
      "        'super' call mechanisms.\n",
      "        \n",
      "        Usage:\n",
      "        \n",
      "            class C(metaclass=ABCMeta):\n",
      "                @abstractmethod\n",
      "                def my_abstract_method(self, ...):\n",
      "                    ...\n",
      "    \n",
      "    get_cache_token()\n",
      "        Returns the current ABC cache token.\n",
      "        \n",
      "        The token is an opaque object (supporting equality testing) identifying the\n",
      "        current version of the ABC cache for virtual subclasses. The token changes\n",
      "        with every call to register() on any ABC.\n",
      "\n",
      "FILE\n",
      "    /Users/noblyan/anaconda3/lib/python3.7/abc.py\n",
      "\n",
      "\n"
     ]
    }
   ],
   "source": [
    "import abc\n",
    "type(abc)\n",
    "help(abc)"
   ]
  },
  {
   "cell_type": "code",
   "execution_count": 27,
   "metadata": {},
   "outputs": [
    {
     "name": "stdout",
     "output_type": "stream",
     "text": [
      "4 -5\n",
      "4 -5 0\n"
     ]
    }
   ],
   "source": [
    "a = 'Donald'\n",
    "#help(str)\n",
    "point = {'x':4,'y':-5}\n",
    "print('{x} {y}'.format_map(point))\n",
    "point = {'x':4,'y':-5, 'z': 0}\n",
    "print('{x} {y} {z}'.format_map(point))"
   ]
  },
  {
   "cell_type": "code",
   "execution_count": 7,
   "metadata": {},
   "outputs": [],
   "source": [
    "#a = list(map(int,input(\"배열을 입력하시오\"'\\n')))\n",
    "#이런식으로하면 str으로 받은 리스트를 정수형으로 바꿔놓을 수 있음."
   ]
  },
  {
   "cell_type": "code",
   "execution_count": 10,
   "metadata": {},
   "outputs": [
    {
     "name": "stdout",
     "output_type": "stream",
     "text": [
      "S\n",
      "K\n"
     ]
    }
   ],
   "source": [
    "country = \"South Korea\"\n",
    "for ch in country:\n",
    "    if (ch.isupper()):\n",
    "        print(ch)"
   ]
  },
  {
   "cell_type": "code",
   "execution_count": 13,
   "metadata": {},
   "outputs": [
    {
     "data": {
      "text/plain": [
       "[0, 1, 2, 3, 4, 5, 6, 7, 8, 9]"
      ]
     },
     "execution_count": 13,
     "metadata": {},
     "output_type": "execute_result"
    }
   ],
   "source": [
    "a = range(10)\n",
    "a\n",
    "list(a)"
   ]
  },
  {
   "cell_type": "code",
   "execution_count": 33,
   "metadata": {},
   "outputs": [
    {
     "name": "stdout",
     "output_type": "stream",
     "text": [
      "55\n"
     ]
    }
   ],
   "source": [
    "total = 0\n",
    "for i in range(1,11):\n",
    "    total += i\n",
    "print(total)"
   ]
  },
  {
   "cell_type": "markdown",
   "metadata": {},
   "source": [
    "Quiz 2.<br>\n",
    "플레이어와 컴퓨터가 승부차기 대결을 하는게임을 만든다<br>\n",
    "공격팀과 수비팀은 왼쪽,가운데, 오른쪽 중 하나를 선택<br>\n",
    "방향선택이 다르면 1점<br>\n",
    "\n",
    "방향 선택은 입력으로 컴퓨터는 무작위로 선택<br>\n",
    "승부차기는 공격수비 각각 한 번씩 총 두라운드를 진행한다<br>\n",
    "각 라운드마다 공격/수비 팀의 방향선택과 득점여부를 출력한다<br>\n",
    "두 라운드가 끝나면 각 팀의 점수로 최종 승패결과를 출력한다.<br>"
   ]
  },
  {
   "cell_type": "code",
   "execution_count": null,
   "metadata": {},
   "outputs": [],
   "source": []
  }
 ],
 "metadata": {
  "kernelspec": {
   "display_name": "Python 3",
   "language": "python",
   "name": "python3"
  },
  "language_info": {
   "codemirror_mode": {
    "name": "ipython",
    "version": 3
   },
   "file_extension": ".py",
   "mimetype": "text/x-python",
   "name": "python",
   "nbconvert_exporter": "python",
   "pygments_lexer": "ipython3",
   "version": "3.7.3"
  }
 },
 "nbformat": 4,
 "nbformat_minor": 2
}
