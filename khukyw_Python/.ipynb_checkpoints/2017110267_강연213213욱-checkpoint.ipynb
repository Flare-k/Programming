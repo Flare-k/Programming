{
 "cells": [
  {
   "cell_type": "markdown",
   "metadata": {
    "colab_type": "text",
    "id": "imTOCK5Ho7SZ"
   },
   "source": [
    "# Quiz 4"
   ]
  },
  {
   "cell_type": "markdown",
   "metadata": {
    "colab_type": "text",
    "id": "U1ylscS-o7Sa"
   },
   "source": [
    "``기본으로 주어진 소스코드는 바꾸지 말고, \"Your code here\"에만 구현하시오.``<br>\n",
    "``제출 시, 학번_이름.ipynb or 학번_이름.py 의 형식으로 제출 ``<br><br>\n",
    "``DO NOT CHANGE default source code. You should implement your code in \"Your code here\"``<br>\n",
    "``For submission, studentID_name.ipynb or studentID_name.py``"
   ]
  },
  {
   "cell_type": "code",
   "execution_count": 18,
   "metadata": {
    "colab": {},
    "colab_type": "code",
    "id": "vi6erFU-o7Sb"
   },
   "outputs": [
    {
     "ename": "AttributeError",
     "evalue": "'AvgCalculator' object has no attribute 'id'",
     "output_type": "error",
     "traceback": [
      "\u001b[0;31m---------------------------------------------------------------------------\u001b[0m",
      "\u001b[0;31mAttributeError\u001b[0m                            Traceback (most recent call last)",
      "\u001b[0;32m<ipython-input-18-307ec3f8f6b3>\u001b[0m in \u001b[0;36m<module>\u001b[0;34m\u001b[0m\n\u001b[1;32m     39\u001b[0m \u001b[0;34m\u001b[0m\u001b[0m\n\u001b[1;32m     40\u001b[0m \u001b[0;34m\u001b[0m\u001b[0m\n\u001b[0;32m---> 41\u001b[0;31m \u001b[0mprint\u001b[0m\u001b[0;34m(\u001b[0m\u001b[0mcalculator\u001b[0m\u001b[0;34m)\u001b[0m\u001b[0;34m\u001b[0m\u001b[0;34m\u001b[0m\u001b[0m\n\u001b[0m",
      "\u001b[0;32m<ipython-input-18-307ec3f8f6b3>\u001b[0m in \u001b[0;36m__str__\u001b[0;34m(self)\u001b[0m\n\u001b[1;32m     25\u001b[0m \u001b[0;34m\u001b[0m\u001b[0m\n\u001b[1;32m     26\u001b[0m     \u001b[0;32mdef\u001b[0m \u001b[0m__str__\u001b[0m\u001b[0;34m(\u001b[0m\u001b[0mself\u001b[0m\u001b[0;34m)\u001b[0m\u001b[0;34m:\u001b[0m\u001b[0;34m\u001b[0m\u001b[0;34m\u001b[0m\u001b[0m\n\u001b[0;32m---> 27\u001b[0;31m         \u001b[0mmsg\u001b[0m \u001b[0;34m=\u001b[0m \u001b[0;34m\"id:{}, avg:{}\"\u001b[0m\u001b[0;34m.\u001b[0m\u001b[0mformat\u001b[0m\u001b[0;34m(\u001b[0m\u001b[0mself\u001b[0m\u001b[0;34m.\u001b[0m\u001b[0mid\u001b[0m\u001b[0;34m,\u001b[0m \u001b[0mself\u001b[0m\u001b[0;34m.\u001b[0m\u001b[0mavg\u001b[0m\u001b[0;34m)\u001b[0m\u001b[0;34m\u001b[0m\u001b[0;34m\u001b[0m\u001b[0m\n\u001b[0m\u001b[1;32m     28\u001b[0m         \u001b[0;32mreturn\u001b[0m \u001b[0mmsg\u001b[0m\u001b[0;34m\u001b[0m\u001b[0;34m\u001b[0m\u001b[0m\n\u001b[1;32m     29\u001b[0m \u001b[0;34m\u001b[0m\u001b[0m\n",
      "\u001b[0;31mAttributeError\u001b[0m: 'AvgCalculator' object has no attribute 'id'"
     ]
    }
   ],
   "source": [
    "# Your code here\n",
    "\n",
    "class Student:\n",
    "    def __init__(self, id, grade_list):\n",
    "        self.id = givenID = 0\n",
    "        self.grade_list = givenGrade = []\n",
    "\n",
    "    def setId(self, id):\n",
    "        self.id = id\n",
    "\n",
    "    def getId(self):\n",
    "        return self.id\n",
    "\n",
    "    def setGrade(self, grade_list):\n",
    "        self.grade_list = grade_list\n",
    "\n",
    "    def getGrade(self):\n",
    "        return self.grade_list\n",
    "    \n",
    "class AvgCalculator:\n",
    "    \n",
    "    def calc_avg_grade(stu, grade):\n",
    "        sum = grade_list[0] + grade_list[1] + grade_list[2]\n",
    "        avg = sum/3\n",
    "        stu[id] = avg\n",
    "        \n",
    "    def __str__(self):\n",
    "        msg = \"id:{}, avg:{}\".format(self.id, self.avg)\n",
    "        return msg\n",
    "        \n",
    "\n",
    "stu1 = Student(id=\"2015104221\", grade_list=[30, 60, 60])\n",
    "stu2 = Student(id=\"2019311060\", grade_list=[80, 70, 90])\n",
    "stu3 = Student(id=\"2016105323\", grade_list=[20, 30, 40])\n",
    "calculator = AvgCalculator()\n",
    "\n",
    "# Your code here\n",
    "\n",
    "\n",
    "print(calculator)"
   ]
  }
 ],
 "metadata": {
  "colab": {
   "collapsed_sections": [],
   "name": "Quiz4.ipynb",
   "provenance": [],
   "version": "0.3.2"
  },
  "kernelspec": {
   "display_name": "Python 3",
   "language": "python",
   "name": "python3"
  },
  "language_info": {
   "codemirror_mode": {
    "name": "ipython",
    "version": 3
   },
   "file_extension": ".py",
   "mimetype": "text/x-python",
   "name": "python",
   "nbconvert_exporter": "python",
   "pygments_lexer": "ipython3",
   "version": "3.7.3"
  }
 },
 "nbformat": 4,
 "nbformat_minor": 1
}
