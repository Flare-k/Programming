{
 "cells": [
  {
   "cell_type": "markdown",
   "metadata": {},
   "source": [
    "# Quiz #1 [출제 : 하승표, spyoha@khu.ac.kr]"
   ]
  },
  {
   "cell_type": "markdown",
   "metadata": {},
   "source": [
    "## 유의사항"
   ]
  },
  {
   "cell_type": "markdown",
   "metadata": {},
   "source": [
    "**``Quiz시 다음 사항은 허용됩니다.``**\n",
    "- Anaconda / Jupyter Notebook, MS Visual Code, PyCharm, IDLE 개발 도구\n",
    "- 강의노트\n",
    "- 수업 실습자료, 본인이 직접 만든 코드, 공부용으로 확보한 Python Code\n",
    "\n",
    "**``그외의 사항은 발견시 F처리 하며, 특히 다음은 별도의 예외없이 바로 F처리 합니다.``**\n",
    "- Email, 각종 채팅/인스턴트메세지 프로그램 들\n",
    "- 휴대폰을 사용하는 행위\n",
    "- 휴대폰을 눈에 보이는 곳에 두는 경우 \n",
    "- 빔프로젝터로 출력하는 내용을 카메라로 찍는 행위\n",
    "- KLAS와 Jupyter Notebook을 제외한 웹브라우저의 사용\n",
    "\n",
    "**``At Quiz, the following are allowed:``**\n",
    "- Anaconda / Jupyter Notebook, MS Visual Code, PyCharm, IDLE Development Tools\n",
    "- Lecture notes\n",
    "- Instructional materials, code you created yourself, and Python Code\n",
    "\n",
    "**``Otherwise, F will be processed, and the following will be processed without any exception.``**\n",
    "- Email, chat and instant messaging programs\n",
    "- Using a cell phone\n",
    "- When placing the mobile phone in a visible place\n",
    "- Taking the camera output with the contents output to the beam projector.\n",
    "- Use of web browser except KLAS and Jupyter Notebook"
   ]
  },
  {
   "cell_type": "markdown",
   "metadata": {},
   "source": [
    "## **함수(1) 작성 / Function(1)**"
   ]
  },
  {
   "cell_type": "markdown",
   "metadata": {},
   "source": [
    "### **함수(2) 작성 / Function(2)**"
   ]
  },
  {
   "cell_type": "code",
   "execution_count": 51,
   "metadata": {},
   "outputs": [],
   "source": [
    "def calculate_feetax(interest):\n",
    "    feetax = interest*(0.04)\n",
    "    return interest\n",
    "interest = 10\n",
    "year = 1"
   ]
  },
  {
   "cell_type": "markdown",
   "metadata": {},
   "source": [
    "## **프로그램 실행 코드 작성 / Program Driver** "
   ]
  },
  {
   "cell_type": "code",
   "execution_count": 52,
   "metadata": {},
   "outputs": [
    {
     "name": "stdout",
     "output_type": "stream",
     "text": [
      "예금액  1000 % , 연이율 100 % , 가입기간 1 년\n"
     ]
    }
   ],
   "source": [
    "print(\"예금액 \",calculate_interest(reservation),\"%\",\", 연이율\",calculate_feetax(100),\"%\",\", 가입기간\",year,\"년\")\n"
   ]
  }
 ],
 "metadata": {
  "kernelspec": {
   "display_name": "Python 3",
   "language": "python",
   "name": "python3"
  },
  "language_info": {
   "codemirror_mode": {
    "name": "ipython",
    "version": 3
   },
   "file_extension": ".py",
   "mimetype": "text/x-python",
   "name": "python",
   "nbconvert_exporter": "python",
   "pygments_lexer": "ipython3",
   "version": "3.7.1"
  }
 },
 "nbformat": 4,
 "nbformat_minor": 2
}
