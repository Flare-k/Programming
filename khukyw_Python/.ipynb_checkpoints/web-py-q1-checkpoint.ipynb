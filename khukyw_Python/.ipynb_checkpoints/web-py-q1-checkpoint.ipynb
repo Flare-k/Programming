{
 "cells": [
  {
   "cell_type": "markdown",
   "metadata": {},
   "source": [
    "# 9월 17일 퀴즈 답안"
   ]
  },
  {
   "cell_type": "markdown",
   "metadata": {},
   "source": [
    "### 1번\n",
    "초단위의 시간을 나타내는 임의의 정수를 입력 파라메타로 받아서,<br>\n",
    "아래의 예시와 같이, \"O시간 O분 O초\"의 형태로 화면에 출력하는 convert_second_to_hms_time(second) 함수를 작성하십시오.\n",
    "convert_second_to_hms_time(second) 함수는 초(second)를 입력받아 몇h 몇m 몇s의 형태로 출력합니다.<br>\n",
    "출력은 print() 함수를 이용하여 함수 내부에서 출력하십시오.<br><br>\n",
    "예시<br>\n",
    "입력값 : 3675, 출력 : 1h 1m 15s<br>\n",
    "입력값 : 675, 출력 : 0h 11m 15s<br>"
   ]
  },
  {
   "cell_type": "code",
   "execution_count": 2,
   "metadata": {},
   "outputs": [],
   "source": [
    "#출력 : str값\n",
    "\n"
   ]
  },
  {
   "cell_type": "markdown",
   "metadata": {},
   "source": [
    "### 2번\n",
    "임의의 네 자리 정수를 입력받아, 아래의 예시와 같이, 각 자리수가 뒤집어진 정수를 반환(return)하는 함수<br>\n",
    "reverse_number4(number)를 작성하십시오.<br><br>\n",
    "reverse_number4(number)는 입력받은 네 자리 정수 number의<br>\n",
    "1000의 자리 수를 1의 자리로<br>\n",
    "100의 자리 수를 10의 자리로<br>\n",
    "10의 자리 수를 100의 자리로<br>\n",
    "1의 자리 수를 1000의 자리로 변경하는 함수입니다.<br><br>\n",
    "예시)<br>\n",
    "입력값 : 1234, 출력 : 4321<br>\n",
    "입력값 : 4321, 출력 : 1234<br><br>\n",
    "함수는 내부에서 별도의 출력 없이, 뒤집어진 정수값을 반환(return) 합니다."
   ]
  },
  {
   "cell_type": "code",
   "execution_count": 4,
   "metadata": {},
   "outputs": [
    {
     "data": {
      "text/plain": [
       "4321"
      ]
     },
     "execution_count": 4,
     "metadata": {},
     "output_type": "execute_result"
    }
   ],
   "source": [
    "#반환 정수\n"
   ]
  },
  {
   "cell_type": "markdown",
   "metadata": {},
   "source": [
    "### 3번\n",
    "round(float) 함수는 실수를 입력받아 소수점 첫째 자리에서 반올림하여 반환하는 함수이다.<br>\n",
    "예를 들어 입력이 3.14 인 경우, 3을 반환하며, 입력이 3.55인 경우 4를 반환한다.<br>\n",
    "\n",
    "Typecast(int(), float()와 같은 함수)를 활용하여, round(float)와 같이 실수를 입력받아 소수점 첫째 자리에서 반올림하여 반환하는 함수<br>\n",
    "my_round(float)함수를 작성하시오."
   ]
  },
  {
   "cell_type": "code",
   "execution_count": 9,
   "metadata": {},
   "outputs": [
    {
     "data": {
      "text/plain": [
       "4"
      ]
     },
     "execution_count": 9,
     "metadata": {},
     "output_type": "execute_result"
    }
   ],
   "source": [
    "#실수 반환\n"
   ]
  }
 ],
 "metadata": {
  "kernelspec": {
   "display_name": "Python 3",
   "language": "python",
   "name": "python3"
  },
  "language_info": {
   "codemirror_mode": {
    "name": "ipython",
    "version": 3
   },
   "file_extension": ".py",
   "mimetype": "text/x-python",
   "name": "python",
   "nbconvert_exporter": "python",
   "pygments_lexer": "ipython3",
   "version": "3.7.1"
  }
 },
 "nbformat": 4,
 "nbformat_minor": 2
}
