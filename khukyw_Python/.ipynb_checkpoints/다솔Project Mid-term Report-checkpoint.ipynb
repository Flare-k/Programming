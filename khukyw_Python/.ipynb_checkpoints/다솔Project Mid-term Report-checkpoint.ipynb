{
 "cells": [
  {
   "cell_type": "markdown",
   "metadata": {},
   "source": [
    "# Project Proposal<br>\n",
    "\n",
    "### A system for selection of starting lineup of EPL football players<br>\n",
    "\n",
    "- 주제 선정 이유:어렸을 적부터 공을 차기 시작했고 어느샌가 축구와 나는 떼어놓을 수 없는 사이가 되었다. 취미이자 가장 큰 관심사가 되었고 여전히 주말마다 영국의 프리미어리그 경기를 챙겨보고 있다. 유난히 치열한 순위 경쟁이 이루어지는 프리미어리그는 한치의 방심도 용납될 수 없는 곳이다. 특히 이번 2018-2019 시즌에는 토트넘 소속인 손흥민 선수의 활약에 힘입어 국내에서 더욱 뜨거운 주목을 받고 있다. 이와 같은 열풍 속에 프리미어리그 소속 20개의 각 팀들이 승리를 거두기 위해 어떤 선발 명단을 내놓아야 할지 결정하는데 도움을 주고자 위와 같은 시스템을 만들기로 마음 먹었다.<br><br>\n",
    "- 가설 정의:프리미어리그 소속인 20개의 팀들은 경기마다 승리를 거두기 위해 최적의 선발 명단을 구축해야 한다. 따라서 선수 개개인의 데이터를 비교 분석하여 각 포지션 내에 가장 좋은 능력치를 가지고 있는 선수가 기용될 수 있도록 추천해준다. 또한 부상과 같은 변수가 발생할 경우를 대비하여 2순위 선수를 가리는데 도움을 준다.<br><br>\n",
    "- 인터넷을 통한 데이터 획득:https://www.premierleague.com/stats 에서 웹크롤링하여 선수가 리그에서 뛰기 시작한 시즌부터 현재 진행 중인 시즌까지 개개인의 능력치(득점, 도움,를 얻는다.<br><br>\n",
    "- 분석을 위한 데이터의 가공:각 팀에 소속된 선수 개개인의 능력치를 출전 경기수, 득점, 도움, 유효슛팅, 패스 성공률, 태클 성공률 등으로 세분화하여 분석한다. 항목 별로 매기는 점수는 포지션마다 다르게 측정한다. (공격수 같은 경우 골과 도움 기록에 집중하여 많은 점수를 부가) 마지막으로 점수를 합산하고 평균을 내어 가장 좋은 능력치를 갖춘 선수가 포지션에 배치될 수 있도록 한다.<br><br>\n",
    "\n",
    "# Project Mid-term Report<br>\n",
    "\n",
    "\n",
    "### 현 진행 상황\n",
    "- __stats.py__ : 프리미어리그 맨체스터시티 선수들의 기록을 크롤링하여 리스트 형식으로 나타내고 텍스트 파일로 저장<br><br>\n",
    "\n",
    "- __overall.py__: 각 선수를 4가지로 분류(공격수, 미드필더, 수비수, 골키퍼)하여 공격수는 골과 도움을, 미드필더는 패스와 크로스, 찬스메이킹을, 수비수는 태클과 헤더 클리어, 인터셉트를 중점으로 능력치를 계산하여 오버롤을 반환하는 함수 생성<br>\n",
    "\n",
    "\n",
    "- __main.py__: 동일 포지션 선수끼리 비교하여 오버롤이 높은 순으로 정렬<br>\n",
    "\n",
    "\n",
    "- __visualization.py__: 모듈 pandas 와 matplotlib 를 이용하여 표와 그래프로 보기 쉽게 나타냄<br><br>\n",
    "\n",
    "### 향후 계획\n",
    "\n",
    "- 한 선수의 기록이 한 페이지에 저장되어 있어 웹크롤링 하는 과정에서 복잡함과 어려움이 따름. 보다 쉽게 여러 선수의 기록을 모으는 방법을 찾고 비교 분석할 예정<br><br>\n",
    "\n",
    "- 한 시즌의 기록을 가져오고자 사이트에서 시즌을 선택하고 변경된 URL로 설정을 했으나 계속해서 전체 시즌의 기록이 나옴. 해결책을 찾지 못할 경우 항목을 수정할 계획 ('골'을 제거하고 '경기당 골'로 합산)<br><br>\n",
    "\n",
    "- 공격수 포지션만 시행하였으며 미드필더와 수비수, 골키퍼도 추가할 예정<br><br>\n",
    "\n",
    "- 다수의 선수들의 정보를 입력 받은 후에 main.py 에서 stats_file.txt 파일을 읽어와 포지션 별로 오버롤이 높은 순으로 정렬할 예정"
   ]
  },
  {
   "cell_type": "code",
   "execution_count": 71,
   "metadata": {
    "scrolled": false
   },
   "outputs": [
    {
     "name": "stdout",
     "output_type": "stream",
     "text": [
      "[['Sergio Agüero', ' 164 ', ' 0.69 ', ' 920 ', ' 383 ', ' 42% ', ' 43 ']]\n",
      "[['Gabriel Jesus', ' 27 ', ' 0.4 ', ' 123 ', ' 71 ', ' 58% ', ' 10 ']]\n"
     ]
    }
   ],
   "source": [
    "# stats.py\n",
    "\n",
    "# coding = UTF-8\n",
    "from urllib.request import urlopen # urlopen : url에 접속하기 위한 라이브러리, requests는 urllib를 사용하기 편하게 쓸 수 있게 만든 라이브러리\n",
    "from bs4 import BeautifulSoup # BeautifulSoup : HTML태그를 함수를 이용해서 효과적으로 파싱할 수 있게 도와주는 라이브러리\n",
    "from html_table_parser import parser_functions as parser # html_table_parser: HTML table태그를 긁어와서, 파이썬 데이터 프레임으로 저장할 때 유용하게 사용\n",
    "\n",
    "url=\"https://www.premierleague.com/players/4328/Sergio-Ag%C3%BCero/stats?co=1&se=79\"\n",
    "url2=\"https://www.premierleague.com/players/19680/player/stats?co=1&se=79\"\n",
    "\n",
    "result=urlopen(url)\n",
    "result2=urlopen(url2)\n",
    "\n",
    "html=result.read()\n",
    "html2=result2.read()\n",
    "\n",
    "soup=BeautifulSoup(html,'html.parser')\n",
    "soup2=BeautifulSoup(html2,'html.parser')\n",
    "\n",
    "\n",
    "names=soup.find_all('div',{'class':'name'})\n",
    "names2=soup2.find_all('div',{'class':'name'})\n",
    "name=names[0].text\n",
    "name2=names2[0].text\n",
    "\n",
    "stats=soup.find_all('span',{'class':'allStatContainer'})\n",
    "stats2=soup2.find_all('span',{'class':'allStatContainer'})\n",
    "goals=stats[4].text\n",
    "goals2=stats2[4].text\n",
    "goals_per_match=stats[5].text\n",
    "goals_per_match2=stats2[5].text\n",
    "shots=stats[11].text\n",
    "shots2=stats2[11].text\n",
    "shots_on_target=stats[12].text\n",
    "shots_on_target2=stats2[12].text\n",
    "shooting_accuracy=stats[13].text\n",
    "shooting_accuracy2=stats2[13].text\n",
    "assist=stats[16].text\n",
    "assist2=stats2[16].text\n",
    "\n",
    "data=[]\n",
    "data.append([name,goals,goals_per_match,shots,shots_on_target,shooting_accuracy,assist])\n",
    "data2=[]\n",
    "data2.append([name2,goals2,goals_per_match2,shots2,shots_on_target2,shooting_accuracy2,assist2])\n",
    "\n",
    "print(data)\n",
    "print(data2)\n",
    "\n",
    "with open(\"stats_file.txt\",'w',encoding='utf-8') as file:\n",
    "    file.write(\"{name} {goals} {goals_per_match} {shot} {shot_on_target} {shooting_accuracy} {assist}\\n\")\n",
    "    for n in data:\n",
    "        file.write('{0} {1} {2} {3} {4} {5} {6}\\n'.format(n[0], n[1], n[2], n[3], n[4], n[5], n[6]))\n",
    "    for m in data2:\n",
    "        file.write('{0} {1} {2} {3} {4} {5} {6}\\n'.format(m[0], m[1], m[2], m[3], m[4], m[5], m[6]))  "
   ]
  },
  {
   "cell_type": "code",
   "execution_count": 161,
   "metadata": {},
   "outputs": [
    {
     "name": "stdout",
     "output_type": "stream",
     "text": [
      "164\n",
      "43\n",
      "27\n",
      "10\n",
      "103.5\n",
      "18.5\n"
     ]
    }
   ],
   "source": [
    "# overall.py\n",
    "\n",
    "class Forward:\n",
    "    def __init__(self,name=str(),goals=0,goals_per_match=0.0,shots=0,shots_on_target=0,shooting_accuracy=str(),assist=0):\n",
    "        #초기화 함수\n",
    "        self.n=name\n",
    "        self.g=goals\n",
    "        self.g_m=goals_per_match\n",
    "        self.s=shots\n",
    "        self.s_t=shots_on_target\n",
    "        self.s_a=shooting_accuracy\n",
    "        self.a=assist\n",
    "\n",
    "if __name__ == \"__main__\":\n",
    "    forward1=Forward('Sergio Agüero',164, 0.69, 920, 383, '42%', 43)\n",
    "    forward2=Forward('Gabriel Jesus', 27 ,  0.4 ,  123 , 71, ' 58% ', 10 )\n",
    "    \n",
    "print(forward1.g)\n",
    "print(forward1.a)\n",
    "print(forward2.g)\n",
    "print(forward2.a)\n",
    "\n",
    "def overall(x): # 골과 도움을 합아여 평균을 냄\n",
    "    sum=(x.g)+(x.a) \n",
    "    avg=sum/2\n",
    "    return avg\n",
    "\n",
    "print(overall(forward1))\n",
    "print(overall(forward2))\n",
    "\n",
    "def comparsion(forward1,forward2):\n",
    "    if(overall(forward1)>=int(overall(forward2))):\n",
    "        print(forward1.n,\"is the first\")\n",
    "    else:\n",
    "        print(forward2.n,\"is the first\")"
   ]
  },
  {
   "cell_type": "code",
   "execution_count": 162,
   "metadata": {},
   "outputs": [],
   "source": [
    "# main.py\n",
    "#import stats\n",
    "#import overall\n",
    "\n",
    "forward_stats=[]\n",
    "file=open(\"stats_file.txt\",\"r\")\n",
    "file.readlines()\n",
    "\n",
    "for line in file:\n",
    "    line.strip()\n",
    "    x=line.split()\n",
    "    forward_stats.append([int(x[2]),int(x[7])])"
   ]
  },
  {
   "cell_type": "code",
   "execution_count": 163,
   "metadata": {
    "scrolled": true
   },
   "outputs": [
    {
     "data": {
      "text/html": [
       "<div>\n",
       "<style scoped>\n",
       "    .dataframe tbody tr th:only-of-type {\n",
       "        vertical-align: middle;\n",
       "    }\n",
       "\n",
       "    .dataframe tbody tr th {\n",
       "        vertical-align: top;\n",
       "    }\n",
       "\n",
       "    .dataframe thead th {\n",
       "        text-align: right;\n",
       "    }\n",
       "</style>\n",
       "<table border=\"1\" class=\"dataframe\">\n",
       "  <thead>\n",
       "    <tr style=\"text-align: right;\">\n",
       "      <th></th>\n",
       "      <th>1</th>\n",
       "    </tr>\n",
       "  </thead>\n",
       "  <tbody>\n",
       "    <tr>\n",
       "      <th>name</th>\n",
       "      <td>Sergio Agüero</td>\n",
       "    </tr>\n",
       "    <tr>\n",
       "      <th>goals</th>\n",
       "      <td>164</td>\n",
       "    </tr>\n",
       "    <tr>\n",
       "      <th>goals per match</th>\n",
       "      <td>0.69</td>\n",
       "    </tr>\n",
       "    <tr>\n",
       "      <th>shots</th>\n",
       "      <td>920</td>\n",
       "    </tr>\n",
       "    <tr>\n",
       "      <th>shots on target</th>\n",
       "      <td>383</td>\n",
       "    </tr>\n",
       "    <tr>\n",
       "      <th>shooting accuracy</th>\n",
       "      <td>42%</td>\n",
       "    </tr>\n",
       "    <tr>\n",
       "      <th>assist</th>\n",
       "      <td>43</td>\n",
       "    </tr>\n",
       "  </tbody>\n",
       "</table>\n",
       "</div>"
      ],
      "text/plain": [
       "                               1\n",
       "name               Sergio Agüero\n",
       "goals                       164 \n",
       "goals per match            0.69 \n",
       "shots                       920 \n",
       "shots on target             383 \n",
       "shooting accuracy           42% \n",
       "assist                       43 "
      ]
     },
     "execution_count": 163,
     "metadata": {},
     "output_type": "execute_result"
    }
   ],
   "source": [
    "# visualization.py\n",
    "\n",
    "import pandas as pd\n",
    "import numpy as np\n",
    "import matplotlib.pyplot as plt\n",
    "\n",
    "x=['Sergio Agüero', ' 164 ', ' 0.69 ', ' 920 ', ' 383 ', ' 42% ', ' 43 ']\n",
    "x2=['Gabriel Jesus', ' 27 ', ' 0.4 ', ' 123 ', ' 71 ', ' 58% ', ' 10 ']\n",
    "y=['name','goals','goals per match','shots','shots on target','shooting accuracy','assist']\n",
    "df=pd.DataFrame(x,index=y,columns=list('1'))\n",
    "df\n",
    "\n",
    "#player_data=pd.Series(x)"
   ]
  },
  {
   "cell_type": "code",
   "execution_count": 5,
   "metadata": {},
   "outputs": [
    {
     "data": {
      "text/html": [
       "<div>\n",
       "<style scoped>\n",
       "    .dataframe tbody tr th:only-of-type {\n",
       "        vertical-align: middle;\n",
       "    }\n",
       "\n",
       "    .dataframe tbody tr th {\n",
       "        vertical-align: top;\n",
       "    }\n",
       "\n",
       "    .dataframe thead th {\n",
       "        text-align: right;\n",
       "    }\n",
       "</style>\n",
       "<table border=\"1\" class=\"dataframe\">\n",
       "  <thead>\n",
       "    <tr style=\"text-align: right;\">\n",
       "      <th></th>\n",
       "      <th>2</th>\n",
       "    </tr>\n",
       "  </thead>\n",
       "  <tbody>\n",
       "    <tr>\n",
       "      <th>name</th>\n",
       "      <td>Gabriel Jesus</td>\n",
       "    </tr>\n",
       "    <tr>\n",
       "      <th>goals</th>\n",
       "      <td>27</td>\n",
       "    </tr>\n",
       "    <tr>\n",
       "      <th>goals per match</th>\n",
       "      <td>0.4</td>\n",
       "    </tr>\n",
       "    <tr>\n",
       "      <th>shots</th>\n",
       "      <td>123</td>\n",
       "    </tr>\n",
       "    <tr>\n",
       "      <th>shots on target</th>\n",
       "      <td>71</td>\n",
       "    </tr>\n",
       "    <tr>\n",
       "      <th>shooting accuracy</th>\n",
       "      <td>58%</td>\n",
       "    </tr>\n",
       "    <tr>\n",
       "      <th>assist</th>\n",
       "      <td>10</td>\n",
       "    </tr>\n",
       "  </tbody>\n",
       "</table>\n",
       "</div>"
      ],
      "text/plain": [
       "                               2\n",
       "name               Gabriel Jesus\n",
       "goals                        27 \n",
       "goals per match             0.4 \n",
       "shots                       123 \n",
       "shots on target              71 \n",
       "shooting accuracy           58% \n",
       "assist                       10 "
      ]
     },
     "execution_count": 5,
     "metadata": {},
     "output_type": "execute_result"
    }
   ],
   "source": [
    "df1=pd.DataFrame(x2,index=y,columns=list('2'))\n",
    "df1"
   ]
  },
  {
   "cell_type": "code",
   "execution_count": 14,
   "metadata": {},
   "outputs": [
    {
     "data": {
      "image/png": "[encoded data removed]",
      "text/plain": [
       "<Figure size 432x288 with 1 Axes>"
      ]
     },
     "metadata": {
      "needs_background": "light"
     },
     "output_type": "display_data"
    }
   ],
   "source": [
    "y=[overall(forward1),overall(forward2)]\n",
    "x=range(len(y))\n",
    "plt.plot([\"S.Aguero\",\"G.Jesus\"],y)\n",
    "plt.bar(x,y,width=0.5,color=\"skyblue\")\n",
    "plt.xlabel('Name')\n",
    "plt.ylabel('Overall')\n",
    "plt.title('Forward Stats Comparsion')\n",
    "plt.show()"
   ]
  }
 ],
 "metadata": {
  "kernelspec": {
   "display_name": "Python 3",
   "language": "python",
   "name": "python3"
  },
  "language_info": {
   "codemirror_mode": {
    "name": "ipython",
    "version": 3
   },
   "file_extension": ".py",
   "mimetype": "text/x-python",
   "name": "python",
   "nbconvert_exporter": "python",
   "pygments_lexer": "ipython3",
   "version": "3.7.1"
  }
 },
 "nbformat": 4,
 "nbformat_minor": 2
}
