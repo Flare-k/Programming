{
 "cells": [
  {
   "cell_type": "code",
   "execution_count": 6,
   "metadata": {},
   "outputs": [
    {
     "data": {
      "text/plain": [
       "3"
      ]
     },
     "execution_count": 6,
     "metadata": {},
     "output_type": "execute_result"
    }
   ],
   "source": [
    "1+2"
   ]
  },
  {
   "cell_type": "code",
   "execution_count": 3,
   "metadata": {},
   "outputs": [
    {
     "data": {
      "text/plain": [
       "1.25"
      ]
     },
     "execution_count": 3,
     "metadata": {},
     "output_type": "execute_result"
    }
   ],
   "source": [
    "3/2.4"
   ]
  },
  {
   "cell_type": "code",
   "execution_count": 4,
   "metadata": {},
   "outputs": [
    {
     "data": {
      "text/plain": [
       "27"
      ]
     },
     "execution_count": 4,
     "metadata": {},
     "output_type": "execute_result"
    }
   ],
   "source": [
    "3*9"
   ]
  },
  {
   "cell_type": "code",
   "execution_count": 7,
   "metadata": {},
   "outputs": [
    {
     "data": {
      "text/plain": [
       "3"
      ]
     },
     "execution_count": 7,
     "metadata": {},
     "output_type": "execute_result"
    }
   ],
   "source": [
    "#파이썬은 따로 변수설정을 위한 예약어가 필요없다. (ex, int a;)\n",
    "a=1\n",
    "b=2\n",
    "a+b"
   ]
  },
  {
   "cell_type": "code",
   "execution_count": 8,
   "metadata": {},
   "outputs": [
    {
     "name": "stdout",
     "output_type": "stream",
     "text": [
      "Python\n"
     ]
    }
   ],
   "source": [
    "a=\"Python\"\n",
    "print(a)"
   ]
  },
  {
   "cell_type": "code",
   "execution_count": 18,
   "metadata": {},
   "outputs": [
    {
     "name": "stdout",
     "output_type": "stream",
     "text": [
      "a is a greater than 1\n"
     ]
    }
   ],
   "source": [
    "a=4\n",
    "if a>1:\n",
    "    print(\"a is a greater than 1\")\n",
    "elif a<1:\n",
    "    print(\"a is a smaller than 1\")"
   ]
  },
  {
   "cell_type": "code",
   "execution_count": 14,
   "metadata": {},
   "outputs": [
    {
     "name": "stdout",
     "output_type": "stream",
     "text": [
      "1\n",
      "2\n",
      "3\n"
     ]
    }
   ],
   "source": [
    "#반복문\n",
    "sum = 0\n",
    "for a in [1,2,3]:    #[1,2,3]이라는 리스트의 앞에서부터 하나씩 꺼내어 a라는 변수에 대입한후 프린트를 수행하라.\n",
    "    print(a)\n"
   ]
  },
  {
   "cell_type": "code",
   "execution_count": 23,
   "metadata": {},
   "outputs": [
    {
     "name": "stdout",
     "output_type": "stream",
     "text": [
      "1\n",
      "2\n",
      "3\n"
     ]
    }
   ],
   "source": [
    "i=0\n",
    "while i<3:\n",
    "    i=i+1\n",
    "    print(i)"
   ]
  },
  {
   "cell_type": "code",
   "execution_count": 25,
   "metadata": {},
   "outputs": [
    {
     "data": {
      "text/plain": [
       "12"
      ]
     },
     "execution_count": 25,
     "metadata": {},
     "output_type": "execute_result"
    }
   ],
   "source": [
    "a=3\n",
    "b=4\n",
    "a*b"
   ]
  },
  {
   "cell_type": "code",
   "execution_count": 27,
   "metadata": {},
   "outputs": [
    {
     "data": {
      "text/plain": [
       "7"
      ]
     },
     "execution_count": 27,
     "metadata": {},
     "output_type": "execute_result"
    }
   ],
   "source": [
    "a+b"
   ]
  },
  {
   "cell_type": "code",
   "execution_count": 29,
   "metadata": {},
   "outputs": [
    {
     "data": {
      "text/plain": [
       "0.75"
      ]
     },
     "execution_count": 29,
     "metadata": {},
     "output_type": "execute_result"
    }
   ],
   "source": [
    "a/b"
   ]
  },
  {
   "cell_type": "code",
   "execution_count": 35,
   "metadata": {},
   "outputs": [],
   "source": [
    "multiline = '''\n",
    "Life is too short \n",
    "You need Python\n",
    "'''"
   ]
  },
  {
   "cell_type": "code",
   "execution_count": 38,
   "metadata": {},
   "outputs": [
    {
     "name": "stdout",
     "output_type": "stream",
     "text": [
      "\n",
      "Life is too short \n",
      "You need Python\n",
      "\n"
     ]
    }
   ],
   "source": [
    "print(multiline)   #print를 쓰고 안 쓰고 무슨차이?   이건 사용자가 출력하라고 아예 명령한것."
   ]
  },
  {
   "cell_type": "code",
   "execution_count": 40,
   "metadata": {},
   "outputs": [
    {
     "data": {
      "text/plain": [
       "'\\nLife is too short \\nYou need Python\\n'"
      ]
     },
     "execution_count": 40,
     "metadata": {},
     "output_type": "execute_result"
    }
   ],
   "source": [
    "multiline    #이건 사용자가 명령해서 나온값이 아닌 파이썬자체가 값을 출력해준것."
   ]
  },
  {
   "cell_type": "code",
   "execution_count": 42,
   "metadata": {},
   "outputs": [
    {
     "name": "stdout",
     "output_type": "stream",
     "text": [
      "==================================================\n",
      "My program\n",
      "==================================================\n"
     ]
    }
   ],
   "source": [
    "print(\"=\"*50)\n",
    "print(\"My program\")\n",
    "print(\"=\"*50)"
   ]
  },
  {
   "cell_type": "code",
   "execution_count": 53,
   "metadata": {},
   "outputs": [
    {
     "name": "stdout",
     "output_type": "stream",
     "text": [
      "L\n",
      "s\n",
      "n\n",
      "Life is too\n",
      "Life is too short, You need Python\n"
     ]
    }
   ],
   "source": [
    "a=\"Life is too short, You need Python\"\n",
    "print(a[0])\n",
    "print(a[12])\n",
    "print(a[-1])\n",
    "print(a[:11])\n",
    "print(a[:])"
   ]
  },
  {
   "cell_type": "code",
   "execution_count": 60,
   "metadata": {},
   "outputs": [
    {
     "data": {
      "text/plain": [
       "'Python'"
      ]
     },
     "execution_count": 60,
     "metadata": {},
     "output_type": "execute_result"
    }
   ],
   "source": [
    "#중간의 문자를 바꾸는 유일한 방법이다.. 문자열의 요소값을 따로 바꿀수있는 기능은없다.\n",
    "a=\"Pithon\"\n",
    "a[:1]+'y'+a[2:]"
   ]
  },
  {
   "cell_type": "code",
   "execution_count": 62,
   "metadata": {},
   "outputs": [
    {
     "data": {
      "text/plain": [
       "'I eat 3 apples.'"
      ]
     },
     "execution_count": 62,
     "metadata": {},
     "output_type": "execute_result"
    }
   ],
   "source": [
    "#문자열 포매핑(formatting)\n",
    "\"I eat %d apples.\" %3"
   ]
  },
  {
   "cell_type": "code",
   "execution_count": 81,
   "metadata": {},
   "outputs": [
    {
     "data": {
      "text/plain": [
       "'I eat five apples.'"
      ]
     },
     "execution_count": 81,
     "metadata": {},
     "output_type": "execute_result"
    }
   ],
   "source": [
    "\"I eat %s apples.\" %\"five\""
   ]
  },
  {
   "cell_type": "code",
   "execution_count": 1,
   "metadata": {},
   "outputs": [
    {
     "data": {
      "text/plain": [
       "'I eat 3apples'"
      ]
     },
     "execution_count": 1,
     "metadata": {},
     "output_type": "execute_result"
    }
   ],
   "source": [
    "#고급 문자열 포맷팅 \n",
    "\"I eat {0}apples\".format(3)"
   ]
  },
  {
   "cell_type": "code",
   "execution_count": 3,
   "metadata": {},
   "outputs": [
    {
     "name": "stdout",
     "output_type": "stream",
     "text": [
      "주어를 입력해주세요 = He\n",
      "목적어를 입력해주세요 = banana\n"
     ]
    },
    {
     "data": {
      "text/plain": [
       "'He ate banana'"
      ]
     },
     "execution_count": 3,
     "metadata": {},
     "output_type": "execute_result"
    }
   ],
   "source": [
    "\"{0} ate {1}\".format(input(\"주어를 입력해주세요 = \"),input(\"목적어를 입력해주세요 = \"))"
   ]
  },
  {
   "cell_type": "code",
   "execution_count": 66,
   "metadata": {},
   "outputs": [
    {
     "data": {
      "text/plain": [
       "'        hi'"
      ]
     },
     "execution_count": 66,
     "metadata": {},
     "output_type": "execute_result"
    }
   ],
   "source": [
    "#10칸의 글안에서 우로 정렬..  좌로정렬은 %-10s\n",
    "\"%10s\"% \"hi\""
   ]
  },
  {
   "cell_type": "code",
   "execution_count": 68,
   "metadata": {},
   "outputs": [
    {
     "data": {
      "text/plain": [
       "'a,b,c,d'"
      ]
     },
     "execution_count": 68,
     "metadata": {},
     "output_type": "execute_result"
    }
   ],
   "source": [
    "#문자열 삽입 .join   abcd라는 글자 사이에 a에 들어가있는 내용을 삽입함.\n",
    "a=','\n",
    "a.join('abcd')"
   ]
  },
  {
   "cell_type": "code",
   "execution_count": 70,
   "metadata": {},
   "outputs": [
    {
     "data": {
      "text/plain": [
       "'HI'"
      ]
     },
     "execution_count": 70,
     "metadata": {},
     "output_type": "execute_result"
    }
   ],
   "source": [
    "#소문자를 대문자로\n",
    "a=\"hi\"\n",
    "a.upper()"
   ]
  },
  {
   "cell_type": "code",
   "execution_count": 73,
   "metadata": {},
   "outputs": [
    {
     "data": {
      "text/plain": [
       "'hi'"
      ]
     },
     "execution_count": 73,
     "metadata": {},
     "output_type": "execute_result"
    }
   ],
   "source": [
    "#대문자를 소문자로\n",
    "a=\"HI\"\n",
    "a.lower()"
   ]
  },
  {
   "cell_type": "code",
   "execution_count": 83,
   "metadata": {
    "scrolled": true
   },
   "outputs": [
    {
     "data": {
      "text/plain": [
       "'I like Python, You need Python'"
      ]
     },
     "execution_count": 83,
     "metadata": {},
     "output_type": "execute_result"
    }
   ],
   "source": [
    "#문자열 바꾸기 (\"바뀌게 될 문자열\", \"바꿀문자열\")\n",
    "a= \"Life is short, You need Python\"\n",
    "a.replace(\"Life is short\", \"I like Python\")"
   ]
  },
  {
   "cell_type": "code",
   "execution_count": 85,
   "metadata": {},
   "outputs": [
    {
     "data": {
      "text/plain": [
       "['c', 'b', 'a']"
      ]
     },
     "execution_count": 85,
     "metadata": {},
     "output_type": "execute_result"
    }
   ],
   "source": [
    "a=['a','b','c']\n",
    "a.reverse()\n",
    "a"
   ]
  },
  {
   "cell_type": "code",
   "execution_count": 89,
   "metadata": {},
   "outputs": [
    {
     "name": "stdout",
     "output_type": "stream",
     "text": [
      "걸어 가라\n"
     ]
    }
   ],
   "source": [
    "#조건문\n",
    "money = 0\n",
    "if money:\n",
    "    print(\"택시를 타고 가라\")\n",
    "else:\n",
    "    print(\"걸어 가라\")"
   ]
  },
  {
   "cell_type": "code",
   "execution_count": 15,
   "metadata": {},
   "outputs": [
    {
     "name": "stdout",
     "output_type": "stream",
     "text": [
      "7\n"
     ]
    }
   ],
   "source": [
    "def sum(a,b):\n",
    "    return a+b\n",
    "a=3\n",
    "b=4\n",
    "c=sum(a,b)\n",
    "print(c)"
   ]
  },
  {
   "cell_type": "code",
   "execution_count": 8,
   "metadata": {},
   "outputs": [
    {
     "name": "stdout",
     "output_type": "stream",
     "text": [
      "첫번째 숫자를 입력하시오:\n",
      "3\n",
      "두번째 숫자를 입력하시오:\n",
      "4\n"
     ]
    },
    {
     "ename": "TypeError",
     "evalue": "'int' object is not iterable",
     "output_type": "error",
     "traceback": [
      "\u001b[0;31m---------------------------------------------------------------------------\u001b[0m",
      "\u001b[0;31mTypeError\u001b[0m                                 Traceback (most recent call last)",
      "\u001b[0;32m<ipython-input-8-d7b4324dcb49>\u001b[0m in \u001b[0;36m<module>\u001b[0;34m\u001b[0m\n\u001b[1;32m      3\u001b[0m \u001b[0mprint\u001b[0m\u001b[0;34m(\u001b[0m\u001b[0;34m\"두번째 숫자를 입력하시오:\"\u001b[0m\u001b[0;34m)\u001b[0m\u001b[0;34m\u001b[0m\u001b[0;34m\u001b[0m\u001b[0m\n\u001b[1;32m      4\u001b[0m \u001b[0mb\u001b[0m\u001b[0;34m=\u001b[0m\u001b[0mint\u001b[0m\u001b[0;34m(\u001b[0m\u001b[0minput\u001b[0m\u001b[0;34m(\u001b[0m\u001b[0;34m)\u001b[0m\u001b[0;34m)\u001b[0m\u001b[0;34m\u001b[0m\u001b[0;34m\u001b[0m\u001b[0m\n\u001b[0;32m----> 5\u001b[0;31m \u001b[0mresult\u001b[0m\u001b[0;34m=\u001b[0m\u001b[0msum\u001b[0m\u001b[0;34m(\u001b[0m\u001b[0ma\u001b[0m\u001b[0;34m,\u001b[0m\u001b[0mb\u001b[0m\u001b[0;34m)\u001b[0m\u001b[0;34m\u001b[0m\u001b[0;34m\u001b[0m\u001b[0m\n\u001b[0m\u001b[1;32m      6\u001b[0m \u001b[0mprint\u001b[0m\u001b[0;34m(\u001b[0m\u001b[0;34m\"두 수의 합은..\"\u001b[0m\u001b[0;34m)\u001b[0m\u001b[0;34m\u001b[0m\u001b[0;34m\u001b[0m\u001b[0m\n\u001b[1;32m      7\u001b[0m \u001b[0mprint\u001b[0m\u001b[0;34m(\u001b[0m\u001b[0mresult\u001b[0m\u001b[0;34m)\u001b[0m\u001b[0;34m\u001b[0m\u001b[0;34m\u001b[0m\u001b[0m\n",
      "\u001b[0;31mTypeError\u001b[0m: 'int' object is not iterable"
     ]
    }
   ],
   "source": [
    "print(\"첫번째 숫자를 입력하시오:\")\n",
    "a=int(input())\n",
    "print(\"두번째 숫자를 입력하시오:\")\n",
    "b=int(input())\n",
    "result=sum(a,b)\n",
    "print(\"두 수의 합은..\")\n",
    "print(result)"
   ]
  },
  {
   "cell_type": "code",
   "execution_count": 3,
   "metadata": {},
   "outputs": [
    {
     "name": "stdout",
     "output_type": "stream",
     "text": [
      "Help on built-in function sum in module builtins:\n",
      "\n",
      "sum(iterable, start=0, /)\n",
      "    Return the sum of a 'start' value (default: 0) plus an iterable of numbers\n",
      "    \n",
      "    When the iterable is empty, return the start value.\n",
      "    This function is intended specifically for use with numeric values and may\n",
      "    reject non-numeric types.\n",
      "\n"
     ]
    }
   ],
   "source": [
    "help(sum)"
   ]
  },
  {
   "cell_type": "code",
   "execution_count": 102,
   "metadata": {},
   "outputs": [
    {
     "name": "stdout",
     "output_type": "stream",
     "text": [
      "3,4의 합은 7입니다.\n",
      "3,4의 합은 7입니다.\n",
      "None\n"
     ]
    }
   ],
   "source": [
    "#리턴을 쓰지 않았으므로 결과값이 없다. 그래서 None으로 출력되는것. 이렇게 결과값이 없는 함수는 그냥 함수명(입력1,,,)이런식으로 쓴다.\n",
    "def sum(a,b):\n",
    "    print(\"%d,%d의 합은 %d입니다.\"%(a,b,a+b))\n",
    "sum(3,4)\n",
    "a=sum(3,4)\n",
    "print(a)"
   ]
  },
  {
   "cell_type": "code",
   "execution_count": 2,
   "metadata": {},
   "outputs": [
    {
     "name": "stdout",
     "output_type": "stream",
     "text": [
      "45\n"
     ]
    }
   ],
   "source": [
    "#입력값이 몇 개가 될지 모를때 쓰는 방법.... (*입력파라미터)\n",
    "#입력파라미터 명 앞에 *을 붙이면 입력값들을 전부 모아서 튜플로 만들어 주기 때문이다.\n",
    "def sum_many(*args):\n",
    "    sum = 0\n",
    "    for i in args:\n",
    "        sum = sum+i\n",
    "    return sum\n",
    "result = sum_many(1,2,3,4,5,6,7,8,9)\n",
    "print(result)\n"
   ]
  },
  {
   "cell_type": "code",
   "execution_count": 118,
   "metadata": {},
   "outputs": [
    {
     "name": "stdout",
     "output_type": "stream",
     "text": [
      "15\n"
     ]
    }
   ],
   "source": [
    "def sum_mul(choice, *args):\n",
    "    if choice=='sum':\n",
    "        result = 0\n",
    "        for i in args:\n",
    "            result+=i\n",
    "    elif choice == 'mul':\n",
    "        result = 1\n",
    "        for i in args:\n",
    "            result *= i\n",
    "    return result\n",
    "result = sum_mul('sum',1,2,3,4,5)\n",
    "print(result)"
   ]
  },
  {
   "cell_type": "code",
   "execution_count": 1,
   "metadata": {},
   "outputs": [
    {
     "name": "stdout",
     "output_type": "stream",
     "text": [
      "(7, 12)\n"
     ]
    }
   ],
   "source": [
    "#리턴값으로 둘을 잡으면 튜플값은 하나인 (a+b, a*b)로 돌려준다.\n",
    "def sum_mul(a,b):\n",
    "    return a+b, a*b\n",
    "result = sum_mul(3,4)\n",
    "print(result)"
   ]
  },
  {
   "cell_type": "code",
   "execution_count": 8,
   "metadata": {},
   "outputs": [
    {
     "name": "stdout",
     "output_type": "stream",
     "text": [
      "0\n",
      "8\n",
      "a,b,c,d,e,f,g\n"
     ]
    }
   ],
   "source": [
    "#문자열 위치 알려주기\n",
    "a = \"life is too short\"\n",
    "print(a.index('l'))     #find와 달리 존재하지않는 문자나 문자열의 경우 오류를 발생시킨다.\n",
    "print(a.find('t'))\n",
    "#문자열 삽입\n",
    "b = \",\"\n",
    "print(b.join(\"abcdefg\"))"
   ]
  },
  {
   "cell_type": "code",
   "execution_count": 18,
   "metadata": {},
   "outputs": [
    {
     "data": {
      "text/plain": [
       "'hi, my name is kyw'"
      ]
     },
     "execution_count": 18,
     "metadata": {},
     "output_type": "execute_result"
    }
   ],
   "source": [
    "a= \"Hi, My Name is KyW\"\n",
    "a.lower()"
   ]
  },
  {
   "cell_type": "code",
   "execution_count": 49,
   "metadata": {},
   "outputs": [
    {
     "name": "stdout",
     "output_type": "stream",
     "text": [
      "[1, 2, 3]\n",
      "4\n",
      "['a', 'b', 'c']\n",
      "c\n",
      "[1, 2, 3, 1, 2, 3, ['a', 'b', 'c']]\n",
      "2b\n",
      "[1, 4, 3]\n"
     ]
    },
    {
     "data": {
      "text/plain": [
       "[1, 4]"
      ]
     },
     "execution_count": 49,
     "metadata": {},
     "output_type": "execute_result"
    }
   ],
   "source": [
    "a=[1,2,3]\n",
    "print(a)\n",
    "print(a[0]+a[2])\n",
    "b=[1,2,3,['a','b','c']]\n",
    "print(b[-1])\n",
    "print(b[-1][2])\n",
    "print(a+b)\n",
    "\n",
    "#'숫자+문자'하면 오류가 나므로 '문자+문자'로 해줘야한다.\n",
    "print(str(a[1])+b[3][1])\n",
    "\n",
    "#리스트의 요소 및 범위 수정가능   _삭제도 가능하다.(del)\n",
    "a[1]=4\n",
    "print(a)\n",
    "a[1:2] = [3,4,5]\n",
    "a\n",
    "a.remove(3)\n",
    "a\n",
    "a.remove(3)\n",
    "a\n",
    "a.pop()\n",
    "a\n"
   ]
  },
  {
   "cell_type": "code",
   "execution_count": 52,
   "metadata": {},
   "outputs": [
    {
     "name": "stdout",
     "output_type": "stream",
     "text": [
      "나무를 1번 찍었습니다.\n",
      "나무를 2번 찍었습니다.\n",
      "나무를 3번 찍었습니다.\n",
      "나무를 4번 찍었습니다.\n",
      "나무를 5번 찍었습니다.\n",
      "나무를 6번 찍었습니다.\n",
      "나무를 7번 찍었습니다.\n",
      "나무를 8번 찍었습니다.\n",
      "나무를 9번 찍었습니다.\n",
      "나무를 10번 찍었습니다.\n",
      "나무 넘어갑니다.\n"
     ]
    }
   ],
   "source": [
    "#while문 연습\n",
    "treeHit = 0\n",
    "while treeHit<10:\n",
    "    treeHit += 1\n",
    "    print(\"나무를 %d번 찍었습니다.\"%treeHit)\n",
    "    if treeHit==10:\n",
    "        print(\"나무 넘어갑니다.\")"
   ]
  },
  {
   "cell_type": "code",
   "execution_count": 61,
   "metadata": {},
   "outputs": [
    {
     "name": "stdout",
     "output_type": "stream",
     "text": [
      "Enter number:\n",
      "1\n",
      "Enter number:\n",
      "2\n",
      "Enter number:\n",
      "3\n",
      "Enter number:\n",
      "4\n"
     ]
    }
   ],
   "source": [
    "number = 0\n",
    "while number != 4:\n",
    "    print(\"Enter number:\")\n",
    "    number = int(input())\n"
   ]
  },
  {
   "cell_type": "code",
   "execution_count": 72,
   "metadata": {},
   "outputs": [
    {
     "name": "stdout",
     "output_type": "stream",
     "text": [
      "돈을 받았으니 커피를 줍니다.\n",
      "남은 커피의 양은 9개 입니다\n",
      "돈을 받았으니 커피를 줍니다.\n",
      "남은 커피의 양은 8개 입니다\n",
      "돈을 받았으니 커피를 줍니다.\n",
      "남은 커피의 양은 7개 입니다\n",
      "돈을 받았으니 커피를 줍니다.\n",
      "남은 커피의 양은 6개 입니다\n",
      "돈을 받았으니 커피를 줍니다.\n",
      "남은 커피의 양은 5개 입니다\n",
      "돈을 받았으니 커피를 줍니다.\n",
      "남은 커피의 양은 4개 입니다\n",
      "돈을 받았으니 커피를 줍니다.\n",
      "남은 커피의 양은 3개 입니다\n",
      "돈을 받았으니 커피를 줍니다.\n",
      "남은 커피의 양은 2개 입니다\n",
      "돈을 받았으니 커피를 줍니다.\n",
      "남은 커피의 양은 1개 입니다\n",
      "돈을 받았으니 커피를 줍니다.\n",
      "남은 커피의 양은 0개 입니다\n",
      "커피가 다 떨어졌습니다. 판매를 중지합니다.\n"
     ]
    }
   ],
   "source": [
    "coffee = 10\n",
    "money = 300\n",
    "while money:\n",
    "    print(\"돈을 받았으니 커피를 줍니다.\")\n",
    "    coffee = coffee - 1\n",
    "    print(\"남은 커피의 양은 %d개 입니다\"%coffee)\n",
    "    if not coffee:\n",
    "        print(\"커피가 다 떨어졌습니다. 판매를 중지합니다.\")\n",
    "        break"
   ]
  },
  {
   "cell_type": "code",
   "execution_count": 73,
   "metadata": {},
   "outputs": [
    {
     "name": "stdout",
     "output_type": "stream",
     "text": [
      "돈을 넣어주세요.300\n",
      "커피를 줍니다\n",
      "남은 잔은 9잔 입니다.\n",
      "돈을 넣어주세요.300\n",
      "커피를 줍니다\n",
      "남은 잔은 8잔 입니다.\n",
      "돈을 넣어주세요.300\n",
      "커피를 줍니다\n",
      "남은 잔은 7잔 입니다.\n",
      "돈을 넣어주세요.300\n",
      "커피를 줍니다\n",
      "남은 잔은 6잔 입니다.\n",
      "돈을 넣어주세요.300\n",
      "커피를 줍니다\n",
      "남은 잔은 5잔 입니다.\n",
      "돈을 넣어주세요.300\n",
      "커피를 줍니다\n",
      "남은 잔은 4잔 입니다.\n",
      "돈을 넣어주세요.300\n",
      "커피를 줍니다\n",
      "남은 잔은 3잔 입니다.\n",
      "돈을 넣어주세요.300\n",
      "커피를 줍니다\n",
      "남은 잔은 2잔 입니다.\n",
      "돈을 넣어주세요.300\n",
      "커피를 줍니다\n",
      "남은 잔은 1잔 입니다.\n",
      "돈을 넣어주세요.300\n",
      "커피를 줍니다\n",
      "남은 잔은 0잔 입니다.\n",
      "커피가 다 떨어졌습니다. 판매를 중지합니다.\n"
     ]
    }
   ],
   "source": [
    "coffee = 10\n",
    "\n",
    "while True:\n",
    "    money = int(input(\"돈을 넣어주세요.\"))\n",
    "    if money == 300:\n",
    "        print(\"커피를 줍니다\")\n",
    "        coffee = coffee -1\n",
    "        print(\"남은 잔은 %d잔 입니다.\"%coffee)\n",
    "    elif money > 300:\n",
    "        print(\"거스름 돈 %d원을 주고 커피를 줍니다.\"%(money-300))\n",
    "        coffee = coffee -1\n",
    "        print(\"남은 잔은 %d잔 입니다.\"%coffee)\n",
    "    else:\n",
    "        print(\"잔액이 부족합니다.\")\n",
    "        print(\"남은 커피의 양은 %d잔 입니다.\"%coffee)\n",
    "    if not coffee:\n",
    "        print(\"커피가 다 떨어졌습니다. 판매를 중지합니다.\")\n",
    "        break;"
   ]
  },
  {
   "cell_type": "code",
   "execution_count": 5,
   "metadata": {},
   "outputs": [
    {
     "name": "stdout",
     "output_type": "stream",
     "text": [
      "1\n",
      "3\n",
      "5\n",
      "7\n",
      "9\n"
     ]
    }
   ],
   "source": [
    "#조건에 맞지 않는 경우 맨 처음으로 돌아가기.\n",
    "a = 0\n",
    "while a<10:\n",
    "    a = a+1\n",
    "    if a%2==0:continue\n",
    "    print(a)"
   ]
  },
  {
   "cell_type": "code",
   "execution_count": null,
   "metadata": {},
   "outputs": [],
   "source": [
    "#무한루프\n",
    "while True:\n",
    "    print(\"Ctrl+C를 눌러야 while문을 빠져나갈 수 있습니다.\")"
   ]
  },
  {
   "cell_type": "code",
   "execution_count": 2,
   "metadata": {},
   "outputs": [
    {
     "name": "stdout",
     "output_type": "stream",
     "text": [
      "one\n",
      "two\n",
      "three\n"
     ]
    }
   ],
   "source": [
    "#for 문의 기본적 구조\n",
    "#for 변수 in 리스트(또는 튜플, 문자열):\n",
    "#   수행할 문장...\n",
    "test_list = ['one', 'two', 'three']\n",
    "for i in test_list:\n",
    "    print(i)"
   ]
  },
  {
   "cell_type": "code",
   "execution_count": 4,
   "metadata": {},
   "outputs": [
    {
     "name": "stdout",
     "output_type": "stream",
     "text": [
      "3\n",
      "7\n",
      "11\n"
     ]
    }
   ],
   "source": [
    "a=[(1,2),(3,4),(5,6)]\n",
    "for (first,last) in a:\n",
    "    print(first+last)"
   ]
  },
  {
   "cell_type": "code",
   "execution_count": 18,
   "metadata": {},
   "outputs": [
    {
     "name": "stdout",
     "output_type": "stream",
     "text": [
      "1번 학생은 합격입니다\n",
      "1번 학생 축하합니다.\n",
      "\n",
      "2번 학생은 불합격입니다.\n",
      "\n",
      "3번 학생은 합격입니다\n",
      "3번 학생 축하합니다.\n",
      "\n",
      "4번 학생은 불합격입니다.\n",
      "\n",
      "5번 학생은 합격입니다\n",
      "5번 학생 축하합니다.\n",
      "\n"
     ]
    }
   ],
   "source": [
    "marks = [90, 25, 67, 45, 80]\n",
    "number = 0\n",
    "for mark in marks:\n",
    "    number = number+1\n",
    "    if mark >= 60:\n",
    "        print(\"%d번 학생은 합격입니다\"%number)\n",
    "    else:\n",
    "        print(\"%d번 학생은 불합격입니다.\\n\"%number)\n",
    "    if mark<60:continue\n",
    "    print(\"%d번 학생 축하합니다.\\n\"%number)\n",
    "    \n",
    "    #continue에 대한 이해필요.."
   ]
  },
  {
   "cell_type": "code",
   "execution_count": 20,
   "metadata": {},
   "outputs": [
    {
     "name": "stdout",
     "output_type": "stream",
     "text": [
      "1번 학생 축하합니다. 합격입니다.\n",
      "3번 학생 축하합니다. 합격입니다.\n",
      "5번 학생 축하합니다. 합격입니다.\n"
     ]
    }
   ],
   "source": [
    "marks = [90, 25, 67, 45, 80]\n",
    "for number in range(len(marks)):\n",
    "    if marks[number]<60:continue\n",
    "    print(\"%d번 학생 축하합니다. 합격입니다.\"%(number+1))\n",
    "    "
   ]
  },
  {
   "cell_type": "code",
   "execution_count": 14,
   "metadata": {},
   "outputs": [
    {
     "data": {
      "text/plain": [
       "range(0, 10)"
      ]
     },
     "execution_count": 14,
     "metadata": {},
     "output_type": "execute_result"
    }
   ],
   "source": [
    "a = range(10)\n",
    "a"
   ]
  },
  {
   "cell_type": "code",
   "execution_count": 21,
   "metadata": {},
   "outputs": [
    {
     "name": "stdout",
     "output_type": "stream",
     "text": [
      "55\n"
     ]
    }
   ],
   "source": [
    "#for문에서 쓰는 범위함수.\n",
    "sum = 0\n",
    "for i in range(1,11):\n",
    "    sum = sum+i\n",
    "print(sum)"
   ]
  },
  {
   "cell_type": "code",
   "execution_count": 42,
   "metadata": {},
   "outputs": [
    {
     "name": "stdout",
     "output_type": "stream",
     "text": [
      "2x1= 2\n",
      "2x2= 4\n",
      "2x3= 6\n",
      "2x4= 8\n",
      "2x5= 10\n",
      "2x6= 12\n",
      "2x7= 14\n",
      "2x8= 16\n",
      "2x9= 18\n",
      "\n",
      "3x1= 3\n",
      "3x2= 6\n",
      "3x3= 9\n",
      "3x4= 12\n",
      "3x5= 15\n",
      "3x6= 18\n",
      "3x7= 21\n",
      "3x8= 24\n",
      "3x9= 27\n",
      "\n",
      "4x1= 4\n",
      "4x2= 8\n",
      "4x3= 12\n",
      "4x4= 16\n",
      "4x5= 20\n",
      "4x6= 24\n",
      "4x7= 28\n",
      "4x8= 32\n",
      "4x9= 36\n",
      "\n",
      "5x1= 5\n",
      "5x2= 10\n",
      "5x3= 15\n",
      "5x4= 20\n",
      "5x5= 25\n",
      "5x6= 30\n",
      "5x7= 35\n",
      "5x8= 40\n",
      "5x9= 45\n",
      "\n",
      "6x1= 6\n",
      "6x2= 12\n",
      "6x3= 18\n",
      "6x4= 24\n",
      "6x5= 30\n",
      "6x6= 36\n",
      "6x7= 42\n",
      "6x8= 48\n",
      "6x9= 54\n",
      "\n",
      "7x1= 7\n",
      "7x2= 14\n",
      "7x3= 21\n",
      "7x4= 28\n",
      "7x5= 35\n",
      "7x6= 42\n",
      "7x7= 49\n",
      "7x8= 56\n",
      "7x9= 63\n",
      "\n",
      "8x1= 8\n",
      "8x2= 16\n",
      "8x3= 24\n",
      "8x4= 32\n",
      "8x5= 40\n",
      "8x6= 48\n",
      "8x7= 56\n",
      "8x8= 64\n",
      "8x9= 72\n",
      "\n",
      "9x1= 9\n",
      "9x2= 18\n",
      "9x3= 27\n",
      "9x4= 36\n",
      "9x5= 45\n",
      "9x6= 54\n",
      "9x7= 63\n",
      "9x8= 72\n",
      "9x9= 81\n",
      "\n"
     ]
    }
   ],
   "source": [
    "#반복문 이용한 구구단\n",
    "for i in range(2,10):\n",
    "    for j in range(1,10):\n",
    "        print(\"%dx%d=\"%(i,j),i*j,end='\\n')\n",
    "        #= print(\"{0}x{1}=\".format(i,j),i*j,end='\\n')\n",
    "        \n",
    "    print('')"
   ]
  },
  {
   "cell_type": "code",
   "execution_count": 33,
   "metadata": {},
   "outputs": [
    {
     "name": "stdout",
     "output_type": "stream",
     "text": [
      "Life is short\n",
      "['Life', 'is', 'short']\n"
     ]
    }
   ],
   "source": [
    "msg = \"Life is short\"\n",
    "print(msg)\n",
    "print(msg.split())"
   ]
  },
  {
   "cell_type": "code",
   "execution_count": 35,
   "metadata": {},
   "outputs": [
    {
     "name": "stdout",
     "output_type": "stream",
     "text": [
      "1\n"
     ]
    },
    {
     "data": {
      "text/plain": [
       "'1'"
      ]
     },
     "execution_count": 35,
     "metadata": {},
     "output_type": "execute_result"
    }
   ],
   "source": [
    "input()"
   ]
  },
  {
   "cell_type": "code",
   "execution_count": 37,
   "metadata": {},
   "outputs": [
    {
     "data": {
      "text/plain": [
       "1"
      ]
     },
     "execution_count": 37,
     "metadata": {},
     "output_type": "execute_result"
    }
   ],
   "source": [
    "1"
   ]
  },
  {
   "cell_type": "code",
   "execution_count": null,
   "metadata": {},
   "outputs": [],
   "source": [
    "input(\"이름을 입력하세요\"'\\n')"
   ]
  },
  {
   "cell_type": "markdown",
   "metadata": {},
   "source": [
    "#리스트는 삽입, 삭제, 추가 등이 가능 / 실수,정수,문자열 등을 같은 리스트 안에 담을 수 있다.\n",
    "#튜플은 수정자체가 불가능\n",
    "#문자열도 한번 설정하면 안에있는 내용을 수정하는 함수가 없다. 따로 조작해야함. (C/C++과 다르다.)\n",
    "#파이썬은 문자열의 특정요소를 바꾸는 행위를 금지함.\n",
    "#int, float, boolean, list는 mutable하다.\n",
    "#C/C++은 대부분 mutable하다."
   ]
  },
  {
   "cell_type": "code",
   "execution_count": 1,
   "metadata": {},
   "outputs": [
    {
     "data": {
      "text/plain": [
       "['helium', 'neon', 'argon', 'krypton', 'xenon', 'radon']"
      ]
     },
     "execution_count": 1,
     "metadata": {},
     "output_type": "execute_result"
    }
   ],
   "source": [
    "nobles = ['helium','none', 'argon', 'krypton', 'xenon', 'radon']\n",
    "nobles[1] = 'neon'   #메모리가 none의 주소값을 지우고 neon의 주소값을 받음..(객체의 주소를 달리받는 것이지 단순히 값이 바뀐것이 아니다)\n",
    "nobles"
   ]
  },
  {
   "cell_type": "code",
   "execution_count": 12,
   "metadata": {},
   "outputs": [
    {
     "data": {
      "text/plain": [
       "'dARWIN'"
      ]
     },
     "execution_count": 12,
     "metadata": {},
     "output_type": "execute_result"
    }
   ],
   "source": [
    "#upper를 쓰면 소문자가 바뀐것이라기보다 대문자로 바뀌는 리턴을 받는 것이라 생각해야함\n",
    "#즉, 대소가 섞여있는원래 문자는 바뀌는 것이아니라 각각의 메소드를 만나며 그에 맞는 리턴값을 받는것.\n",
    "#Ex,\n",
    "name = \"Darwin\"\n",
    "name.upper()\n",
    "name.swapcase()"
   ]
  },
  {
   "cell_type": "code",
   "execution_count": 9,
   "metadata": {},
   "outputs": [
    {
     "data": {
      "text/plain": [
       "[2, 4, 1, 7, 3]"
      ]
     },
     "execution_count": 9,
     "metadata": {},
     "output_type": "execute_result"
    }
   ],
   "source": [
    "#메소드가 리턴값으로 그것으로 돌려주되 원래값은 바뀌지않는다. \n",
    "#즉, a를 바꾸지 않고 a를 가지고 복사본을 가지고 메소드의 리턴값만 보여줄뿐이다.\n",
    "#즉, 나중에 a를 다시 Run해도 원래의 a값은 변하지 않는다.\n",
    "a = [2, 4, 1, 7, 3]\n",
    "len(a)\n",
    "max(a)\n",
    "min(a)\n",
    "sorted(a)\n",
    "sorted(a,reverse = True)\n",
    "a"
   ]
  },
  {
   "cell_type": "code",
   "execution_count": 11,
   "metadata": {},
   "outputs": [
    {
     "ename": "TypeError",
     "evalue": "'>' not supported between instances of 'int' and 'str'",
     "output_type": "error",
     "traceback": [
      "\u001b[0;31m---------------------------------------------------------------------------\u001b[0m",
      "\u001b[0;31mTypeError\u001b[0m                                 Traceback (most recent call last)",
      "\u001b[0;32m<ipython-input-11-26d71f8a04e9>\u001b[0m in \u001b[0;36m<module>\u001b[0;34m\u001b[0m\n\u001b[1;32m      1\u001b[0m \u001b[0mb\u001b[0m \u001b[0;34m=\u001b[0m \u001b[0;34m[\u001b[0m\u001b[0;34m'a'\u001b[0m\u001b[0;34m,\u001b[0m \u001b[0;34m'b'\u001b[0m\u001b[0;34m,\u001b[0m \u001b[0;36m1\u001b[0m\u001b[0;34m,\u001b[0m \u001b[0;36m2\u001b[0m\u001b[0;34m]\u001b[0m\u001b[0;34m\u001b[0m\u001b[0;34m\u001b[0m\u001b[0m\n\u001b[0;32m----> 2\u001b[0;31m \u001b[0mmax\u001b[0m\u001b[0;34m(\u001b[0m\u001b[0mb\u001b[0m\u001b[0;34m)\u001b[0m\u001b[0;34m\u001b[0m\u001b[0;34m\u001b[0m\u001b[0m\n\u001b[0m\u001b[1;32m      3\u001b[0m \u001b[0;31m#숫자와 문자열은 비교가 불가능하다.\u001b[0m\u001b[0;34m\u001b[0m\u001b[0;34m\u001b[0m\u001b[0;34m\u001b[0m\u001b[0m\n",
      "\u001b[0;31mTypeError\u001b[0m: '>' not supported between instances of 'int' and 'str'"
     ]
    }
   ],
   "source": [
    "b = ['a', 'b', 1, 2]\n",
    "max(b)\n",
    "#숫자와 문자열은 비교가 불가능하다."
   ]
  },
  {
   "cell_type": "code",
   "execution_count": 1,
   "metadata": {},
   "outputs": [
    {
     "data": {
      "text/plain": [
       "True"
      ]
     },
     "execution_count": 1,
     "metadata": {},
     "output_type": "execute_result"
    }
   ],
   "source": [
    "s='Hello world'\n",
    "'He' in s"
   ]
  },
  {
   "cell_type": "code",
   "execution_count": null,
   "metadata": {},
   "outputs": [],
   "source": []
  },
  {
   "cell_type": "markdown",
   "metadata": {},
   "source": [
    "#리스트에 리스트를 assign하는 것은 복사를 하지 않는것이다... 똑같은 주소를 가리키기 때문에 한쪽을 바꾸면 다른쪽도 바뀐다...\n",
    "#ppt의 셀레간페노타입 = 셀레간얼리어싱  의 경우...\n",
    "#슬라이싱 [:]을 사용하면 복사가된다.. 그래서 한쪽이 값을 바꾼다고 복사값이 바뀌는것이 아니다.\n",
    "#List in List로 Table을 만들수 있다."
   ]
  },
  {
   "cell_type": "markdown",
   "metadata": {},
   "source": [
    "#함수가 입력으로 받은 값은 Local Variable이 아니다. 파이썬은 함수에게 어떤값을 전달하면 함수에서 그 값을 수정했을 때 함수를 마치고 돌아올 경우 어떤값이 변해있다. C/C++은 복사본을 함수에 주는 것이므로 원본은 그대로 있다.\n",
    "\n",
    "#리스트는 내장함수를 이용하면 원본에 대한 내용을 리턴만 할뿐 원본엔 수정사항이 없고\n",
    "사용자정의함수, 메소드를 이용하면 함수의 내용을 리턴하고 원본의 내용 또한 함수의 내용대로 수정됨. (사실, 다 해보고 직접 눈으로 봐야한다.)"
   ]
  },
  {
   "cell_type": "code",
   "execution_count": 10,
   "metadata": {},
   "outputs": [
    {
     "data": {
      "text/plain": [
       "True"
      ]
     },
     "execution_count": 10,
     "metadata": {},
     "output_type": "execute_result"
    }
   ],
   "source": [
    "list = ['A', 'B', 'C', 'D', 'F', 'E']\n",
    "\n",
    "a= 'A' in list\n",
    "a"
   ]
  },
  {
   "cell_type": "markdown",
   "metadata": {},
   "source": [
    "\n",
    "먼저 datetime 패키지를 다음과 같이 임포트한다.\n",
    "\n",
    "In [1]:\n",
    "import datetime\n",
    "datetime.datetime 클래스¶\n",
    "우선 datetime.datetime 클래스부터 알아보자. 패키지 이름과 클래스 이름이 datetime으로 같기 때문에 사용할 때 주의해야 한다. 또한 다른 클래스와 달리 클래스 이름이 대문자로 시작하지 않는다. datetime.datetime 클래스에는 객체를 생성하지 않고도 바로 클래스에서 사용할 수 있는 클래스 메서드라는 것을 제공한다. 가장 대표적인 것이 현재 시각을 출력하는 now() 메서드이다.\n",
    "\n",
    "In [2]:\n",
    "dt = datetime.datetime.now()\n",
    "dt\n",
    "datetime.datetime(2018, 8, 30, 1, 26, 55, 731039)\n",
    "now() 클래스 메서드는 컴퓨터의 현재 시각을 datetime.datetime 클래스 객체로 만들어 반환한다. datetime.datetime 클래스 객체는 다음과 같은 속성을 가진다.\n",
    "\n",
    "year: 연도\n",
    "month: 월\n",
    "day: 일\n",
    "hour: 시\n",
    "minute: 분\n",
    "second: 초\n",
    "microsecond: 마이크로초(micro seconds, 백만분의 일초)\n",
    "In [3]:\n",
    "dt.year, dt.month, dt.day, dt.hour, dt.minute, dt.second, dt.microsecond\n",
    "(2018, 8, 30, 1, 26, 55, 731039)\n",
    "다음과 같은 메서드도 제공한다.\n",
    "\n",
    "weekday(): 요일 반환 (0:월, 1:화, 2:수, 3:목, 4:금, 5:토, 6:일)\n",
    "strftime(): 문자열 반환\n",
    "date(): 날짜 정보만 가지는 datetime.date 클래스 객체 반환\n",
    "time(): 시간 정보만 가지는 datetime.time 클래스 객체 반환\n",
    "In [4]:\n",
    "dt.weekday()  # {0:월, 1:화, 2:수, 3:목, 4:금, 5:토, 6:일}\n",
    "3\n",
    "이 중 특히 많이 사용되는 것이 날짜와 시간 정보를 문자열로 바꿔주는 strftime() 메서드이다. 이 메서드는 어떤 형식으로 문자열을 만들지 결정하는 형식 문자열을 인수로 받는다. 형식 문자열은 날짜 및 시간 지정 문자열을 포함한다. 다음은 많이 사용되는 날짜 및 시간 지정 문자열이다.\n",
    "\n",
    "날짜 및 시간 지정 문자열\t의미\n",
    "%Y\t앞의 빈자리를 0으로 채우는 4자리 연도 숫자\n",
    "%m\t앞의 빈자리를 0으로 채우는 2자리 월 숫자\n",
    "%d\t앞의 빈자리를 0으로 채우는 2자리 일 숫자\n",
    "%H\t앞의 빈자리를 0으로 채우는 24시간 형식 2자리 시간 숫자\n",
    "%M\t앞의 빈자리를 0으로 채우는 2자리 분 숫자\n",
    "%S\t앞의 빈자리를 0으로 채우는 2자리 초 숫자\n",
    "%A\t영어로 된 요일 문자열\n",
    "%B\t영어로 된 월 문자열\n",
    "표 3.2.3 : 날짜 및 시간 지정 문자열\n",
    "이밖의 다른 날짜 및 시간 지정 문자열에 대해서는 다음 링크를 참조한다.\n",
    "\n",
    "In [5]:\n",
    "dt.strftime(\"%A %d. %B %Y\")\n",
    "'Thursday 30. August 2018'\n",
    "In [6]:\n",
    "print(dt.strftime(\"%H시 %M분 %S초\"))\n",
    "01시 26분 55초\n",
    "반대로 문자열로부터 날짜와 시간 정보를 읽어서 datetime.datetime 클래스 객체를 만들 수도 있다. 이 때는 datetime.datetime.strptime() 클래스 메서드를 사용한다. 첫 번째 인수로는 날짜와 시간 정보를 가진 문자열을, 두번째 인수로는 그 문자열을 해독할 수 있는 형식 문자열을 넣는다.\n",
    "\n",
    "In [7]:\n",
    "datetime.datetime.strptime(\"2017-01-02 14:44\", \"%Y-%m-%d %H:%M\")\n",
    "datetime.datetime(2017, 1, 2, 14, 44)\n",
    "dateutil 패키지¶\n",
    "datetime.datetime.strptime() 클래스 메서드를 사용할 때는 문자열에 맞는 형식 문자열을 사용자가 제공해야 한다. 그러나 dateutil 패키지의 parse 명령을 쓰면 자동으로 형식 문자열을 찾아 datetime.datetime 클래스 객체를 만들어 준다.\n",
    "\n",
    "In [8]:\n",
    "from dateutil.parser import parse\n",
    "In [9]:\n",
    "parse('2016-04-16')\n",
    "datetime.datetime(2016, 4, 16, 0, 0)\n",
    "In [10]:\n",
    "parse(\"Apr 16, 2016 04:05:32 PM\")\n",
    "datetime.datetime(2016, 4, 16, 16, 5, 32)\n",
    "다만 월과 일이 모두 12보다 작은 숫자일 때는 먼저 나오는 숫자를 월로 나중에 나오는 숫자를 일로 판단한다.\n",
    "\n",
    "In [11]:\n",
    "parse('6/7/2016')\n",
    "datetime.datetime(2016, 6, 7, 0, 0)\n",
    "timedelta 클래스와 날짜/시간 연산¶\n",
    "날짜나 시간의 간격을 구할 때는 두 개의 datetime.datetime 클래스 객체의 차이를 구한다. 이 결과는 datetime.timedelta 클래스 객체로 반환된다.\n",
    "\n",
    "In [12]:\n",
    "dt1 = datetime.datetime(2016, 2, 19, 14)\n",
    "dt2 = datetime.datetime(2016, 1, 2, 13)\n",
    "td = dt1 - dt2\n",
    "td\n",
    "datetime.timedelta(48, 3600)\n",
    "datetime.timedelta 클래스는 다음과 같은 속성과 메서드를 가진다.\n",
    "\n",
    "속성\n",
    "\n",
    "days: 일수\n",
    "seconds: 초 (0 ~ 86399)\n",
    "microseconds: 마이크로초 (0 and 999999)\n",
    "메서드\n",
    "\n",
    "total_seconds(): 모든 속성을 초단위로 모아서 변환\n",
    "In [13]:\n",
    "td.days, td.seconds, td.microseconds\n",
    "(48, 3600, 0)\n",
    "In [14]:\n",
    "td.total_seconds()\n",
    "4150800.0\n",
    "반대로 datetime.datetime 클래스 객체에 datetime.timedelta 클래스 객체를 더해서 새로운 시간을 구할 수도 있다.\n",
    "\n",
    "In [15]:\n",
    "t0 = datetime.datetime(2018, 9, 1, 13)\n",
    "d = datetime.timedelta(days=90, seconds=3600)\n",
    "In [16]:\n",
    "t0 + d\n",
    "datetime.datetime(2018, 11, 30, 14, 0)"
   ]
  },
  {
   "cell_type": "code",
   "execution_count": null,
   "metadata": {},
   "outputs": [],
   "source": []
  }
 ],
 "metadata": {
  "kernelspec": {
   "display_name": "Python 3",
   "language": "python",
   "name": "python3"
  },
  "language_info": {
   "codemirror_mode": {
    "name": "ipython",
    "version": 3
   },
   "file_extension": ".py",
   "mimetype": "text/x-python",
   "name": "python",
   "nbconvert_exporter": "python",
   "pygments_lexer": "ipython3",
   "version": "3.7.1"
  }
 },
 "nbformat": 4,
 "nbformat_minor": 2
}
